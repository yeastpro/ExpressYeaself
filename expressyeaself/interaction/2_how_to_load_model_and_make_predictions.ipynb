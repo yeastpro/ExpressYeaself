{
 "cells": [
  {
   "cell_type": "markdown",
   "metadata": {},
   "source": [
    "# Making Predictions with _ExpressYeaself_"
   ]
  },
  {
   "cell_type": "markdown",
   "metadata": {},
   "source": [
    "### Introduction"
   ]
  },
  {
   "cell_type": "markdown",
   "metadata": {},
   "source": [
    "* This interactive notebook takes you through the process of loading a pre-existing model. This can either be one that you have trained yourself, or one of _ExpressYeaself_'s saved models.\n",
    "* All you need is: \n",
    "    1. **If you have trained your own model**, the absolute path of the file containing your saved model weights.\n",
    "    1. the relative path of the file containing sequences for which you would like to predict the expression of.\n",
    "* Run the relevant cells as instructed.\n",
    "* At any time you can restart the process by selecting 'Kernel' > 'Restart & Clear Output' in the toolbar of the notebook."
   ]
  },
  {
   "cell_type": "markdown",
   "metadata": {},
   "source": [
    "### Import relevant packages"
   ]
  },
  {
   "cell_type": "code",
   "execution_count": null,
   "metadata": {},
   "outputs": [],
   "source": [
    "import context\n",
    "import os\n",
    "\n",
    "ROOT_DIR = os.getcwd()[:os.getcwd().rfind('Express')] + 'ExpressYeaself/'\n",
    "construct = context.construct_neural_net"
   ]
  },
  {
   "cell_type": "markdown",
   "metadata": {},
   "source": [
    "## Choose which model you want to load"
   ]
  },
  {
   "cell_type": "markdown",
   "metadata": {},
   "source": [
    "* Here you can choose whetehr to use one of _ExpressYeaself_'s pre-trained models, or use one of your own.\n",
    "* Only run cells below option a) **or** below option b). Do not run both."
   ]
  },
  {
   "cell_type": "markdown",
   "metadata": {},
   "source": [
    "#### EITHER a) Use one of _ExpressYeaself_'s models ..."
   ]
  },
  {
   "cell_type": "markdown",
   "metadata": {},
   "source": [
    "* Choose from: ``'1d_cnn_classifier'``, ``'1d_cnn_sequential'``, ``'1d_cnn_parallel'``, ``'1d_loccon_classifier'``. \n",
    "* Input your choice on the first line: ``model_to_use = ``.\n",
    "* Do not edit the second line"
   ]
  },
  {
   "cell_type": "code",
   "execution_count": null,
   "metadata": {},
   "outputs": [],
   "source": [
    "model_to_use = \n",
    "saved_model = construct.get_saved_model_path(model_to_use)"
   ]
  },
  {
   "cell_type": "markdown",
   "metadata": {},
   "source": [
    "#### OR b) Use your own saved model"
   ]
  },
  {
   "cell_type": "markdown",
   "metadata": {},
   "source": [
    "* Here you need to specify the absolute paths of the file containing your saved model (.hdf5 file)."
   ]
  },
  {
   "cell_type": "code",
   "execution_count": null,
   "metadata": {},
   "outputs": [],
   "source": [
    "saved_model = "
   ]
  },
  {
   "cell_type": "markdown",
   "metadata": {},
   "source": [
    "* The next cell will check that the file you have specified exists.\n",
    "* If an error is thrown, check your file path and run the cells again."
   ]
  },
  {
   "cell_type": "code",
   "execution_count": null,
   "metadata": {},
   "outputs": [],
   "source": [
    "assert os.path.exists(saved_model), 'Input file for saved model (.hdf5 extension) does not exist.'"
   ]
  },
  {
   "cell_type": "markdown",
   "metadata": {},
   "source": [
    "# Make predictions!"
   ]
  },
  {
   "cell_type": "markdown",
   "metadata": {},
   "source": [
    "* Now you are ready to calculate predictions for the contribution sequences have on the expression of genes in yeast.\n",
    "* Please define the absolute path of the file containing sequences that you would like to get predictions for in the first line of the cell below, after ``input_sequences = ``.\n",
    "* This input file must contain **sequences only**, where each sequence is on a separate line.\n",
    "* Sequences must be of length equal to the length of the sequences that the model has been trained on.\n",
    "* If you are using _ExpressYeaself_'s pretrained models, sequences **must be 80 nucleotides in length**."
   ]
  },
  {
   "cell_type": "code",
   "execution_count": null,
   "metadata": {},
   "outputs": [],
   "source": [
    "input_sequences = "
   ]
  },
  {
   "cell_type": "markdown",
   "metadata": {},
   "source": [
    "* The results of the prediction will be returned in the form of a data frame. If you would like this data frame to be sorted, so that the sequences with the highest predicted expression levels are at the top, set ``sort_df = True``. If you do so, the original position of each sequence in the input file you specify will be indicated in the column 'index' in the resulting data frame."
   ]
  },
  {
   "cell_type": "code",
   "execution_count": null,
   "metadata": {},
   "outputs": [],
   "source": [
    "sort = "
   ]
  },
  {
   "cell_type": "markdown",
   "metadata": {},
   "source": [
    "* If you would like the results to be written to an output file, specify ``write_to_file = True``. \n",
    "* Otherwise, set to ``False``. \n",
    "* The absolute path of the output file, if specified ``True``, will be printed in this notebook. The long number it contains is a unique time stamp, so that you can keep track of different prediction outputs created at different times without overwriting existing files."
   ]
  },
  {
   "cell_type": "code",
   "execution_count": null,
   "metadata": {},
   "outputs": [],
   "source": [
    "write_to_file = "
   ]
  },
  {
   "cell_type": "markdown",
   "metadata": {},
   "source": [
    "* Now just run the next cell to get the prediction results!"
   ]
  },
  {
   "cell_type": "code",
   "execution_count": null,
   "metadata": {
    "scrolled": false
   },
   "outputs": [],
   "source": [
    "construct.get_predictions_for_input_file(input_sequences, model_to_use, sort_df=sort, write_to_file=write_to_file)"
   ]
  },
  {
   "cell_type": "code",
   "execution_count": null,
   "metadata": {},
   "outputs": [],
   "source": []
  }
 ],
 "metadata": {
  "kernelspec": {
   "display_name": "yeast",
   "language": "python",
   "name": "yeast"
  },
  "language_info": {
   "codemirror_mode": {
    "name": "ipython",
    "version": 3
   },
   "file_extension": ".py",
   "mimetype": "text/x-python",
   "name": "python",
   "nbconvert_exporter": "python",
   "pygments_lexer": "ipython3",
   "version": "3.7.3"
  }
 },
 "nbformat": 4,
 "nbformat_minor": 2
}
