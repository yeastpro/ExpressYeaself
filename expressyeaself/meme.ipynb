{
 "cells": [
  {
   "cell_type": "markdown",
   "metadata": {},
   "source": [
    "### the MEME function"
   ]
  },
  {
   "cell_type": "markdown",
   "metadata": {},
   "source": [
    "### import all needed packages"
   ]
  },
  {
   "cell_type": "code",
   "execution_count": 1,
   "metadata": {},
   "outputs": [],
   "source": [
    "from multiprocessing import cpu_count\n",
    "from multiprocessing.dummy import Pool\n",
    "import numpy as np\n",
    "import pandas as pd"
   ]
  },
  {
   "cell_type": "markdown",
   "metadata": {},
   "source": [
    "### set up the direct path"
   ]
  },
  {
   "cell_type": "code",
   "execution_count": 2,
   "metadata": {},
   "outputs": [],
   "source": [
    "data = 'PROXY.txt'"
   ]
  },
  {
   "cell_type": "markdown",
   "metadata": {},
   "source": [
    "### set up the range of motif length and repeat time"
   ]
  },
  {
   "cell_type": "code",
   "execution_count": 3,
   "metadata": {},
   "outputs": [],
   "source": [
    "motif_length = 6\n",
    "repeat_time = 10"
   ]
  },
  {
   "cell_type": "markdown",
   "metadata": {},
   "source": [
    "### the search function"
   ]
  },
  {
   "cell_type": "code",
   "execution_count": 4,
   "metadata": {},
   "outputs": [],
   "source": [
    "def meme(string, length = 6, repeat_time = 10):\n",
    "    \"\"\"\n",
    "    this function is the meme function to \n",
    "    search the repeat sequences\n",
    "    Args:\n",
    "    -----\n",
    "        string (str) -- the linked string of all sequences\n",
    "        length (int) -- the length of the motif\n",
    "        repeat_time (int) -- the repeated time of each motif\n",
    "\n",
    "    Returns:\n",
    "    -----\n",
    "        res (list) -- the repeated motif sequences\n",
    "    \"\"\"\n",
    "    n=len(string)\n",
    "    res=[]\n",
    "    dic={}\n",
    "    for i in range(0,n-length):\n",
    "        tmp=string[i:i+length]\n",
    "        if tmp not in dic:\n",
    "            dic[tmp]=1\n",
    "        else:\n",
    "            dic[tmp]+=1\n",
    "        if dic[tmp]>repeat_time-1:\n",
    "            res.append(tmp)\n",
    "    return res"
   ]
  },
  {
   "cell_type": "markdown",
   "metadata": {},
   "source": [
    "### the linking function"
   ]
  },
  {
   "cell_type": "code",
   "execution_count": 9,
   "metadata": {},
   "outputs": [],
   "source": [
    "high_acc_seqs = pd.read_csv(data, names=['sequences'], sep='\\t')\n",
    "linked_sequences = ''\n",
    "for seq in high_acc_seqs['sequences']:\n",
    "    linked_sequences = linked_sequences + seq\n",
    "# linked_sequences"
   ]
  },
  {
   "cell_type": "markdown",
   "metadata": {},
   "source": [
    "### find the motif"
   ]
  },
  {
   "cell_type": "code",
   "execution_count": 8,
   "metadata": {},
   "outputs": [],
   "source": [
    "# meme(linked_sequences, 200)"
   ]
  },
  {
   "cell_type": "markdown",
   "metadata": {},
   "source": [
    "### the searching function"
   ]
  },
  {
   "cell_type": "markdown",
   "metadata": {},
   "source": [
    "for the given motif we can search in the sequence and see which sequence has this motif"
   ]
  },
  {
   "cell_type": "code",
   "execution_count": 14,
   "metadata": {},
   "outputs": [],
   "source": [
    "def search_motif(seqs, motif):\n",
    "    \"\"\"\n",
    "    this function is the meme function for a given motif \n",
    "    and search for the sequences which contants this motif\n",
    "    Args:\n",
    "    -----\n",
    "        seqs (list) -- the original sequences list\n",
    "        motif (str) -- the given motif\n",
    "\n",
    "    Returns:\n",
    "    -----\n",
    "        sequences (list) -- the list of the sequences \n",
    "                            which contant the given motif\n",
    "    \"\"\"\n",
    "    sequences=[]\n",
    "    for seq in seqs:\n",
    "        if motif in seq:\n",
    "            sequences.append(seq)\n",
    "    return sequences"
   ]
  },
  {
   "cell_type": "code",
   "execution_count": 15,
   "metadata": {},
   "outputs": [
    {
     "data": {
      "text/plain": [
       "['ATCGTGTGTGTGTGTGAGATGATGCGTAGCATGCTAGTCGATCGTAGCTAGCTAGCAGCGGCCGTATCGCGCTACGATCGATCGATCGTAGCATCGATCGATCGATCGATCGATCGATCGATCGATCGATCGCGATCGATCGTCGATCGTACGATTTTTTTTTTTTTTTTTTTTTTTTTTTTTTTTTTTTTTTTTTTTTTTTTTTTTTTTTTTTTTTTTTTTTTTTTTTTTTTTTTTTTTTTTTTTTTTTTTTTTTTTTTTTTTATCGTACGT',\n",
       " 'ATCGTATATATATATATATTATATATATATATATATATATTATATATATATATATATATATATTATATATATATATTTTTTTTTTTAAAAAAAAAAAAAAATTTTTTTTTTTTAAAAAAAAAAAAAACCCCCCCCCCCCCAAAAAAAAAACCCCCCCCCAAAAAAACCCCCCCCCAAAACCCCCCCAAAAAAAAAAACCCCCCCCCCCCAAAATCAGCGTACGATCGACTACGATCGATCGATCGACGATCGATCTGACGTCGTATCGTACGT']"
      ]
     },
     "execution_count": 15,
     "metadata": {},
     "output_type": "execute_result"
    }
   ],
   "source": [
    "search_motif(high_acc_seqs['sequences'], 'TTTTTTTTT')"
   ]
  },
  {
   "cell_type": "code",
   "execution_count": null,
   "metadata": {},
   "outputs": [],
   "source": []
  },
  {
   "cell_type": "code",
   "execution_count": null,
   "metadata": {},
   "outputs": [],
   "source": []
  }
 ],
 "metadata": {
  "kernelspec": {
   "display_name": "yeast",
   "language": "python",
   "name": "yeast"
  },
  "language_info": {
   "codemirror_mode": {
    "name": "ipython",
    "version": 3
   },
   "file_extension": ".py",
   "mimetype": "text/x-python",
   "name": "python",
   "nbconvert_exporter": "python",
   "pygments_lexer": "ipython3",
   "version": "3.7.1"
  }
 },
 "nbformat": 4,
 "nbformat_minor": 2
}
