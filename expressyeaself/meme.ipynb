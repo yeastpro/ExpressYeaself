{
 "cells": [
  {
   "cell_type": "markdown",
   "metadata": {},
   "source": [
    "### the MEME function"
   ]
  },
  {
   "cell_type": "markdown",
   "metadata": {},
   "source": [
    "### import all needed packages"
   ]
  },
  {
   "cell_type": "code",
   "execution_count": 1,
   "metadata": {},
   "outputs": [],
   "source": [
    "import numpy as np\n",
    "import pandas as pd\n",
    "import os\n",
    "\n",
    "ROOT_DIR = os.getcwd()[:os.getcwd().rfind('Express')] + 'ExpressYeaself/'"
   ]
  },
  {
   "cell_type": "markdown",
   "metadata": {},
   "source": [
    "### set up the direct path"
   ]
  },
  {
   "cell_type": "code",
   "execution_count": 2,
   "metadata": {},
   "outputs": [],
   "source": [
    "data = ROOT_DIR + 'expressyeaself/models/lstm/lstm_result.csv'"
   ]
  },
  {
   "cell_type": "markdown",
   "metadata": {},
   "source": [
    "### set up the range of motif length and repeat time"
   ]
  },
  {
   "cell_type": "code",
   "execution_count": 3,
   "metadata": {},
   "outputs": [],
   "source": [
    "motif_length = 6\n",
    "repeat_time = 8"
   ]
  },
  {
   "cell_type": "markdown",
   "metadata": {},
   "source": [
    "### the search function"
   ]
  },
  {
   "cell_type": "code",
   "execution_count": 159,
   "metadata": {},
   "outputs": [],
   "source": [
    "def meme(string, length = 6, return_max = False, exact_length = False, amount = 5):\n",
    "    \"\"\"\n",
    "    this function is the meme function to \n",
    "    search the repeat sequences\n",
    "    \n",
    "    Args:\n",
    "    -----\n",
    "        string (str) -- the linked string of all sequences\n",
    "        length (int) -- the length of the motif\n",
    "\n",
    "    Returns:\n",
    "    -----\n",
    "         repeated_motif (dict) -- the motif sequences repeat \n",
    "                                  for no more than set up \n",
    "                                  repeat time\n",
    "    \"\"\"\n",
    "    n=len(string)\n",
    "    dic={}\n",
    "    for i in range(0,n-length):\n",
    "        tmp=string[i:i+length]\n",
    "        if '0' not in tmp:\n",
    "            if tmp not in dic:\n",
    "                dic[tmp]=1\n",
    "            else:\n",
    "                dic[tmp]+=1\n",
    "    max_value = max(zip(dic.values(),dic.keys()))[0]\n",
    "    if return_max == True:\n",
    "        return max_value\n",
    "#     if max_value < repeat_time:\n",
    "#         return print('no such motif, the maximum repeat time is:', max_value)\n",
    "#         return '0'\n",
    "    dic = dict(sorted(dic.items(),key = lambda dic:dic[1],reverse=True))\n",
    "    for seq in list(dic):\n",
    "        if dic[seq] == 1:\n",
    "            dic.pop(seq)\n",
    "    if exact_length == True:\n",
    "        if amount > len(dic):\n",
    "            return print('the amount is larger than the actual motif amount, the repeated motif with size', length, 'is', len(dic))\n",
    "        else:\n",
    "            return sorted(dic.items(),key = lambda dic:dic[1],reverse=True)[:amount]\n",
    "    repeated_motif = dic\n",
    "    return repeated_motif"
   ]
  },
  {
   "cell_type": "markdown",
   "metadata": {},
   "source": [
    "### the linking function"
   ]
  },
  {
   "cell_type": "code",
   "execution_count": 160,
   "metadata": {},
   "outputs": [],
   "source": [
    "high_acc_seqs = pd.read_csv(data)\n",
    "linked_sequences = ''\n",
    "for seq in high_acc_seqs['seq']:\n",
    "    seq = seq + '0'\n",
    "    linked_sequences = linked_sequences + seq\n",
    "# linked_sequences"
   ]
  },
  {
   "cell_type": "markdown",
   "metadata": {},
   "source": [
    "### figure out the max length of repeated motif"
   ]
  },
  {
   "cell_type": "code",
   "execution_count": 161,
   "metadata": {},
   "outputs": [],
   "source": [
    "def max_length(linked_sequences):\n",
    "    \"\"\"\n",
    "    this function is the function to find the maximum \n",
    "    length of repeated motif\n",
    "    \n",
    "    Args:\n",
    "    -----\n",
    "        linked_sequences (str) -- the linked string of all sequences\n",
    "\n",
    "    Returns:\n",
    "    -----\n",
    "        max_value (int) -- the maximum length of repeated motif\n",
    "    \"\"\"\n",
    "    for i in range(4,100):\n",
    "        res = meme(linked_sequences, length = i, return_max = True)\n",
    "        if res > 1:\n",
    "            continue\n",
    "        else:\n",
    "            break\n",
    "    max_value = i-1\n",
    "    return max_value\n",
    "\n",
    "max_value = max_length(linked_sequences)"
   ]
  },
  {
   "cell_type": "markdown",
   "metadata": {},
   "source": [
    "### find all repeated motif"
   ]
  },
  {
   "cell_type": "code",
   "execution_count": 167,
   "metadata": {},
   "outputs": [
    {
     "data": {
      "text/plain": [
       "[('GTGGGC', 9), ('CTGGTA', 8), ('GGTGGG', 8), ('AAGAGT', 8), ('GGGGGG', 8)]"
      ]
     },
     "execution_count": 167,
     "metadata": {},
     "output_type": "execute_result"
    }
   ],
   "source": [
    "def search_all_motif(linked_sequences, amount = 30):\n",
    "    \"\"\"\n",
    "    this function is the function to find the all repeated motifs\n",
    "    \n",
    "    Args:\n",
    "    -----\n",
    "        linked_sequences (str) -- the linked string of all sequences\n",
    "        amount (int) -- the amount of return motif with highest repeat time\n",
    "\n",
    "    Returns:\n",
    "    -----\n",
    "        res (list) -- the motifs with highest repeat time\n",
    "    \"\"\"\n",
    "    res_dic = {}\n",
    "    for i in range(6,max_value):\n",
    "        tmp_res = meme(linked_sequences, length = i)\n",
    "    #     new_res = tmp_res\n",
    "        res_dic = dict(res_dic, **tmp_res)\n",
    "    res_dic = sorted(res_dic.items(),key = lambda res_dic:res_dic[1],reverse=True)\n",
    "    res = res_dic[:amount]\n",
    "    return res\n",
    "\n",
    "search_all_motif(linked_sequences, amount = 5)"
   ]
  },
  {
   "cell_type": "markdown",
   "metadata": {},
   "source": [
    "### find out motif with exact length"
   ]
  },
  {
   "cell_type": "code",
   "execution_count": 166,
   "metadata": {},
   "outputs": [
    {
     "data": {
      "text/plain": [
       "[('GTGGGC', 9), ('CTGGTA', 8), ('GGTGGG', 8), ('AAGAGT', 8), ('GGGGGG', 8)]"
      ]
     },
     "execution_count": 166,
     "metadata": {},
     "output_type": "execute_result"
    }
   ],
   "source": [
    "length = 6\n",
    "amount = 5\n",
    "meme(linked_sequences, length = length, exact_length = True, amount = amount)"
   ]
  },
  {
   "cell_type": "markdown",
   "metadata": {},
   "source": [
    "### the searching function"
   ]
  },
  {
   "cell_type": "markdown",
   "metadata": {},
   "source": [
    "for the given motif we can search in the sequence and see which sequence has this motif"
   ]
  },
  {
   "cell_type": "code",
   "execution_count": 108,
   "metadata": {},
   "outputs": [],
   "source": [
    "def search_motif(seqs, motif):\n",
    "    \"\"\"\n",
    "    this function is the meme function for a given motif \n",
    "    and search for the sequences which contants this motif\n",
    "    Args:\n",
    "    -----\n",
    "        seqs (list) -- the original sequences list\n",
    "        motif (str) -- the given motif\n",
    "\n",
    "    Returns:\n",
    "    -----\n",
    "        sequences (list) -- the list of the sequences \n",
    "                            which contant the given motif\n",
    "    \"\"\"\n",
    "    sequences=[]\n",
    "    for seq in seqs:\n",
    "        if motif in seq:\n",
    "            sequences.append(seq)\n",
    "    return sequences"
   ]
  },
  {
   "cell_type": "code",
   "execution_count": 109,
   "metadata": {},
   "outputs": [
    {
     "data": {
      "text/plain": [
       "['AGTACTCTTGCTCCCACACGCTCGCGCCTGGTACGTCTAAGGACGGTGGGCCCTCATGCTCGACTGCGCGCGTTGACGGG',\n",
       " 'AGTCACTGGCCATTAGCGACGAAGTCTGTTGTCGTGGGTGCGAAGCGCGGGTGACCGCATGCGTTGGGGTGGGCATTAGG',\n",
       " 'AGTCTAGTTTCATGGCTTGCGGGCTAAGTGTGGAATTGTTGTAGTTGCGGTTGACGGTGGGCACTAGGGGCGGGGTGGGC',\n",
       " 'AGTACTCCCGAAGAGTACGTTATGTGTGGACTTGACCGCCTGGGGGGTGGCGTAGTAGTCTCCGCTGTGGGCGCTGGTAT',\n",
       " 'AGTCCCTCCATCTACCATCAAAAAGTTGCGTGGACTGTATGCGCTGATCACCGTGGGCAGCTGTTGGCAGTTGGCGGCTT',\n",
       " 'AGTCGGGTGACGGCCTCGCCTTGTTGTGCGTCACTTCCACAGCTACACTAGTTGATAAACAGTGTGGGCCAGTTGAATCA',\n",
       " 'AGTACCGTAGCGGCATAGTCTCGGTTGAGGTCACATTTAGCTCTGCGTCACAAAAACACGCTAAGGTGGGCTTATCTGGG',\n",
       " 'AGTCTATAATAAGGGTATCTTGCACGTCCGCGTTTGCTCATAGTGGGCTCTTTCTGCCTCCCAATCTAGGAGAATGCAGT']"
      ]
     },
     "execution_count": 109,
     "metadata": {},
     "output_type": "execute_result"
    }
   ],
   "source": [
    "search_motif(high_acc_seqs['seq'], 'GTGGGC')"
   ]
  },
  {
   "cell_type": "code",
   "execution_count": null,
   "metadata": {},
   "outputs": [],
   "source": []
  },
  {
   "cell_type": "code",
   "execution_count": null,
   "metadata": {},
   "outputs": [],
   "source": []
  }
 ],
 "metadata": {
  "kernelspec": {
   "display_name": "yeast",
   "language": "python",
   "name": "yeast"
  },
  "language_info": {
   "codemirror_mode": {
    "name": "ipython",
    "version": 3
   },
   "file_extension": ".py",
   "mimetype": "text/x-python",
   "name": "python",
   "nbconvert_exporter": "python",
   "pygments_lexer": "ipython3",
   "version": "3.7.1"
  }
 },
 "nbformat": 4,
 "nbformat_minor": 2
}
