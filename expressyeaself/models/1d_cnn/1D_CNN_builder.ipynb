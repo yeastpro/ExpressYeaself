{
 "cells": [
  {
   "cell_type": "markdown",
   "metadata": {},
   "source": [
    "# Building the 1D CNN"
   ]
  },
  {
   "cell_type": "markdown",
   "metadata": {},
   "source": [
    "### Import the relevant packages"
   ]
  },
  {
   "cell_type": "code",
   "execution_count": 17,
   "metadata": {},
   "outputs": [],
   "source": [
    "%matplotlib inline\n",
    "import context\n",
    "import itertools\n",
    "import matplotlib.pyplot as plt\n",
    "import numpy as np\n",
    "import os\n",
    "import pandas as pd\n",
    "import seaborn as sns\n",
    "import subprocess\n",
    "import sys\n",
    "from tqdm import tqdm\n",
    "\n",
    "import tensorflow as tf\n",
    "# tf.get_variable('test_bool', 1, tf.bool)\n",
    "from tensorflow.python.keras import backend as K\n",
    "from sklearn.model_selection import train_test_split\n",
    "from sklearn.preprocessing import MinMaxScaler\n",
    "from tensorflow.python.keras.preprocessing import sequence\n",
    "from tensorflow.python.keras.models import Sequential, Model\n",
    "from tensorflow.python.keras.layers import (Add, Concatenate, Input, Dense, \n",
    "                                            Dropout, Embedding, Conv1D, \n",
    "                                            MaxPooling1D, GlobalAveragePooling1D, \n",
    "                                            Flatten)\n",
    "from tensorflow.python.keras import regularizers\n",
    "from tensorflow.python.keras.utils import to_categorical\n",
    "from tensorflow.python.keras.callbacks import ModelCheckpoint, TensorBoard\n",
    "from sklearn.model_selection import StratifiedKFold\n",
    "\n",
    "ROOT_DIR = os.getcwd() + '/'\n",
    "CHECKPOINTS_DIR = ROOT_DIR + 'checkpoints/'\n",
    "build = context.build_promoter\n",
    "construct = context.construct_neural_net\n",
    "encode = context.encode_sequences\n",
    "organize = context.organize_data"
   ]
  },
  {
   "cell_type": "markdown",
   "metadata": {},
   "source": [
    "#### Define filename of input data"
   ]
  },
  {
   "cell_type": "code",
   "execution_count": 3,
   "metadata": {},
   "outputs": [],
   "source": [
    "sample_filename = ('10000_from_20190612130111781831_percentiles_els_binarized_homogeneous_deflanked_'\n",
    "                   'sequences_with_exp_levels.txt.gz')"
   ]
  },
  {
   "cell_type": "markdown",
   "metadata": {},
   "source": [
    "#### Define the absolute path of this file"
   ]
  },
  {
   "cell_type": "code",
   "execution_count": 4,
   "metadata": {},
   "outputs": [],
   "source": [
    "sample_path = ROOT_DIR + '../../../example/processed_data/' + sample_filename"
   ]
  },
  {
   "cell_type": "markdown",
   "metadata": {},
   "source": [
    "### Encode sequences"
   ]
  },
  {
   "cell_type": "code",
   "execution_count": 5,
   "metadata": {},
   "outputs": [],
   "source": [
    "X_padded, y_scaled, abs_max_el = encode.encode_sequences_with_method(sample_path, \n",
    "                                                                     method='One-Hot', \n",
    "                                                                     scale_els=True, \n",
    "                                                                     model_type='1DCNN', \n",
    "                                                                     binarized_els=True)\n",
    "num_seqs, max_sequence_len = organize.get_num_and_len_of_seqs_from_file(sample_path)"
   ]
  },
  {
   "cell_type": "markdown",
   "metadata": {},
   "source": [
    "### Reshape expression levels"
   ]
  },
  {
   "cell_type": "code",
   "execution_count": 6,
   "metadata": {},
   "outputs": [],
   "source": [
    "y_scaled = y_scaled.reshape((len(y_scaled), 1))"
   ]
  },
  {
   "cell_type": "markdown",
   "metadata": {},
   "source": [
    "### Perform a train-test split"
   ]
  },
  {
   "cell_type": "code",
   "execution_count": 7,
   "metadata": {},
   "outputs": [],
   "source": [
    "X_train, X_test, y_train, y_test = train_test_split(X_padded, y_scaled, test_size=0.3)"
   ]
  },
  {
   "cell_type": "markdown",
   "metadata": {},
   "source": [
    "## Build the model architectures"
   ]
  },
  {
   "cell_type": "markdown",
   "metadata": {},
   "source": [
    "### Sequential Model"
   ]
  },
  {
   "cell_type": "code",
   "execution_count": 8,
   "metadata": {},
   "outputs": [
    {
     "name": "stdout",
     "output_type": "stream",
     "text": [
      "Model: \"sequential\"\n",
      "_________________________________________________________________\n",
      "Layer (type)                 Output Shape              Param #   \n",
      "=================================================================\n",
      "conv1d (Conv1D)              (None, 78, 15)            240       \n",
      "_________________________________________________________________\n",
      "conv1d_1 (Conv1D)            (None, 76, 15)            690       \n",
      "_________________________________________________________________\n",
      "max_pooling1d (MaxPooling1D) (None, 74, 15)            0         \n",
      "_________________________________________________________________\n",
      "conv1d_2 (Conv1D)            (None, 72, 15)            690       \n",
      "_________________________________________________________________\n",
      "conv1d_3 (Conv1D)            (None, 70, 15)            690       \n",
      "_________________________________________________________________\n",
      "global_average_pooling1d (Gl (None, 15)                0         \n",
      "_________________________________________________________________\n",
      "dropout (Dropout)            (None, 15)                0         \n",
      "_________________________________________________________________\n",
      "dense (Dense)                (None, 1)                 16        \n",
      "=================================================================\n",
      "Total params: 2,326\n",
      "Trainable params: 2,326\n",
      "Non-trainable params: 0\n",
      "_________________________________________________________________\n",
      "None\n"
     ]
    }
   ],
   "source": [
    "# Define the model parameters\n",
    "batch_size = int(len(y_scaled) * 0.01)  # no bigger than 1 % of data\n",
    "filters = 15\n",
    "kernel_size = 3\n",
    "strides = 1\n",
    "epochs = 20\n",
    "dropout = 0.5\n",
    "\n",
    "# Define the checkpointer to allow saving of models\n",
    "checkpoint_path = CHECKPOINTS_DIR + '1d_cnn_sequential_onehot.hdf5'\n",
    "checkpointer = ModelCheckpoint(monitor='val_acc', \n",
    "                               filepath=checkpoint_path, \n",
    "                               verbose=1, \n",
    "                               save_best_only=True)\n",
    "\n",
    "# Define the model\n",
    "model = Sequential()\n",
    "\n",
    "# Build up the layers\n",
    "model.add(Conv1D(filters, kernel_size, activation='relu', \n",
    "                 input_shape=(max_sequence_len, 5), \n",
    "                 kernel_regularizer=regularizers.l2(0.01)))\n",
    "model.add(Conv1D(filters, kernel_size, activation='relu'))\n",
    "model.add(MaxPooling1D(3, strides))\n",
    "# keras.layers.Flatten(data_format=None)\n",
    "# model.add(GlobalAveragePooling1D())\n",
    "model.add(Conv1D(filters, kernel_size, activation='relu'))\n",
    "model.add(Conv1D(filters, kernel_size, activation='relu'))\n",
    "model.add(GlobalAveragePooling1D())\n",
    "\n",
    "# Add some dense and dropout layers\n",
    "model.add(Dropout(dropout))\n",
    "model.add(Dense(1, activation='sigmoid'))\n",
    "\n",
    "# Compile the model\n",
    "model.compile(loss='mse', optimizer='rmsprop', metrics=['accuracy'])\n",
    "\n",
    "# Print model summary\n",
    "print(model.summary())\n",
    "    "
   ]
  },
  {
   "cell_type": "markdown",
   "metadata": {},
   "source": [
    "### Parallel Model"
   ]
  },
  {
   "cell_type": "code",
   "execution_count": null,
   "metadata": {},
   "outputs": [],
   "source": [
    "# Define the model parameters\n",
    "batch_size = int(len(y_scaled) * 0.01)  # no bigger than 1 % of data\n",
    "filters = 15\n",
    "# kernel_size\n",
    "strides = 1\n",
    "epochs = 20\n",
    "dropout = 0.1\n",
    "num_layers = 10\n",
    "\n",
    "# Define the checkpointer to allow saving of models\n",
    "checkpoint_path = CHECKPOINTS_DIR + '1d_cnn_parallel_onehot.hdf5'\n",
    "checkpointer = ModelCheckpoint(monitor='val_acc', \n",
    "                               filepath=checkpoint_path, \n",
    "                               verbose=1, \n",
    "                               save_best_only=True)\n",
    "\n",
    "# Define the inputs\n",
    "inputs = Input(shape=(max_sequence_len, 5))\n",
    "layers = []\n",
    "\n",
    "# Build up the layers\n",
    "for i in range(1, num_layers + 1):\n",
    "    layer = Conv1D(filters, (2 * i - 1), strides)(inputs)\n",
    "    layers.append(layer)\n",
    "\n",
    "# Combine the layers\n",
    "combined = Concatenate(axis=1)(layers)\n",
    "\n",
    "# Add some flatten, dense, and dropout layers\n",
    "out = Flatten()(combined)\n",
    "# out = Dropout(dropout)(out)\n",
    "out = Dense(500, activation='sigmoid')(out)\n",
    "out = Dropout(dropout)(out)\n",
    "out = Dense(1, activation='sigmoid')(out)\n",
    "out = Dropout(dropout)(out)\n",
    "\n",
    "# Define the model with inputs and outputs, and compile.\n",
    "model = Model(inputs=inputs, outputs=out)\n",
    "model.compile(loss='mse', optimizer='adam', metrics=['accuracy'])\n",
    "\n",
    "# Print model summary\n",
    "print(model.summary())"
   ]
  },
  {
   "cell_type": "markdown",
   "metadata": {},
   "source": [
    "### Binary Classifier"
   ]
  },
  {
   "cell_type": "code",
   "execution_count": 38,
   "metadata": {},
   "outputs": [
    {
     "name": "stderr",
     "output_type": "stream",
     "text": [
      "WARNING: Logging before flag parsing goes to stderr.\n",
      "W0614 09:28:48.317456 4813141440 deprecation.py:323] From /Users/joe.abbott/miniconda3/envs/yeast/lib/python3.7/site-packages/tensorflow/python/ops/nn_impl.py:182: add_dispatch_support.<locals>.wrapper (from tensorflow.python.ops.array_ops) is deprecated and will be removed in a future version.\n",
      "Instructions for updating:\n",
      "Use tf.where in 2.0, which has the same broadcast rule as np.where\n"
     ]
    },
    {
     "name": "stdout",
     "output_type": "stream",
     "text": [
      "Model: \"model\"\n",
      "__________________________________________________________________________________________________\n",
      "Layer (type)                    Output Shape         Param #     Connected to                     \n",
      "==================================================================================================\n",
      "input_1 (InputLayer)            [(None, 80, 5)]      0                                            \n",
      "__________________________________________________________________________________________________\n",
      "conv1d_4 (Conv1D)               (None, 78, 15)       240         input_1[0][0]                    \n",
      "__________________________________________________________________________________________________\n",
      "conv1d_5 (Conv1D)               (None, 76, 15)       390         input_1[0][0]                    \n",
      "__________________________________________________________________________________________________\n",
      "conv1d_6 (Conv1D)               (None, 74, 15)       540         input_1[0][0]                    \n",
      "__________________________________________________________________________________________________\n",
      "conv1d_7 (Conv1D)               (None, 72, 15)       690         input_1[0][0]                    \n",
      "__________________________________________________________________________________________________\n",
      "conv1d_8 (Conv1D)               (None, 70, 15)       840         input_1[0][0]                    \n",
      "__________________________________________________________________________________________________\n",
      "conv1d_9 (Conv1D)               (None, 68, 15)       990         input_1[0][0]                    \n",
      "__________________________________________________________________________________________________\n",
      "conv1d_10 (Conv1D)              (None, 66, 15)       1140        input_1[0][0]                    \n",
      "__________________________________________________________________________________________________\n",
      "conv1d_11 (Conv1D)              (None, 64, 15)       1290        input_1[0][0]                    \n",
      "__________________________________________________________________________________________________\n",
      "conv1d_12 (Conv1D)              (None, 62, 15)       1440        input_1[0][0]                    \n",
      "__________________________________________________________________________________________________\n",
      "concatenate (Concatenate)       (None, 630, 15)      0           conv1d_4[0][0]                   \n",
      "                                                                 conv1d_5[0][0]                   \n",
      "                                                                 conv1d_6[0][0]                   \n",
      "                                                                 conv1d_7[0][0]                   \n",
      "                                                                 conv1d_8[0][0]                   \n",
      "                                                                 conv1d_9[0][0]                   \n",
      "                                                                 conv1d_10[0][0]                  \n",
      "                                                                 conv1d_11[0][0]                  \n",
      "                                                                 conv1d_12[0][0]                  \n",
      "__________________________________________________________________________________________________\n",
      "flatten (Flatten)               (None, 9450)         0           concatenate[0][0]                \n",
      "__________________________________________________________________________________________________\n",
      "dropout_1 (Dropout)             (None, 9450)         0           flatten[0][0]                    \n",
      "__________________________________________________________________________________________________\n",
      "dense_1 (Dense)                 (None, 500)          4725500     dropout_1[0][0]                  \n",
      "__________________________________________________________________________________________________\n",
      "dropout_2 (Dropout)             (None, 500)          0           dense_1[0][0]                    \n",
      "__________________________________________________________________________________________________\n",
      "dense_2 (Dense)                 (None, 1)            501         dropout_2[0][0]                  \n",
      "==================================================================================================\n",
      "Total params: 4,733,561\n",
      "Trainable params: 4,733,561\n",
      "Non-trainable params: 0\n",
      "__________________________________________________________________________________________________\n",
      "None\n"
     ]
    }
   ],
   "source": [
    "# Define the model parameters\n",
    "batch_size = int(len(y_scaled) * 0.01)  # no bigger than 1 % of data\n",
    "filters = 15\n",
    "# kernel_size\n",
    "strides = 1\n",
    "epochs = 20\n",
    "dropout = 0.1\n",
    "num_layers = 10\n",
    "\n",
    "# Define the checkpointer to allow saving of models\n",
    "checkpoint_path = CHECKPOINTS_DIR + '1d_cnn_classifier_onehot.hdf5'\n",
    "checkpointer = ModelCheckpoint(monitor='val_acc', \n",
    "                               filepath=checkpoint_path, \n",
    "                               verbose=1, \n",
    "                               save_best_only=True)\n",
    "\n",
    "# Define the inputs\n",
    "inputs = Input(shape=(max_sequence_len, 5))\n",
    "layers = []\n",
    "\n",
    "# Build up the layers\n",
    "for i in range(2, num_layers + 1):\n",
    "    kernel_size = (2 * i - 1)\n",
    "#     strides = kernel_size\n",
    "    layer = Conv1D(filters, kernel_size, strides)(inputs)\n",
    "    layers.append(layer)\n",
    "\n",
    "# Combine the layers\n",
    "combined = Concatenate(axis=1)(layers)\n",
    "\n",
    "# Add some flatten, dense, and dropout layers\n",
    "out = Flatten()(combined)\n",
    "out = Dropout(dropout)(out)\n",
    "out = Dense(500, activation='sigmoid')(out)\n",
    "out = Dropout(dropout)(out)\n",
    "out = Dense(1, activation='sigmoid')(out)\n",
    "# out = Dropout(dropout)(out)\n",
    "\n",
    "# Define the model with inputs and outputs, and compile.\n",
    "model = Model(inputs=inputs, outputs=out)\n",
    "model.compile(loss='binary_crossentropy', optimizer='rmsprop', metrics=['accuracy'])\n",
    "\n",
    "# Print model summary\n",
    "print(model.summary())"
   ]
  },
  {
   "cell_type": "markdown",
   "metadata": {},
   "source": [
    "### Fit and Evaluate the model"
   ]
  },
  {
   "cell_type": "code",
   "execution_count": 39,
   "metadata": {
    "scrolled": false
   },
   "outputs": [
    {
     "name": "stdout",
     "output_type": "stream",
     "text": [
      "Train on 7000 samples, validate on 3000 samples\n",
      "Epoch 1/20\n",
      "6900/7000 [============================>.] - ETA: 0s - loss: 0.8307 - acc: 0.6448\n",
      "Epoch 00001: val_acc improved from -inf to 0.61167, saving model to /Users/joe.abbott/Documents/dataScience/capstone/ExpressYeaself/expressyeaself/models/1d_cnn/checkpoints/1d_cnn_classifier_onehot.hdf5\n",
      "7000/7000 [==============================] - 10s 1ms/sample - loss: 0.8289 - acc: 0.6449 - val_loss: 0.6605 - val_acc: 0.6117\n",
      "Epoch 2/20\n",
      "6900/7000 [============================>.] - ETA: 0s - loss: 0.5721 - acc: 0.6967\n",
      "Epoch 00002: val_acc improved from 0.61167 to 0.72733, saving model to /Users/joe.abbott/Documents/dataScience/capstone/ExpressYeaself/expressyeaself/models/1d_cnn/checkpoints/1d_cnn_classifier_onehot.hdf5\n",
      "7000/7000 [==============================] - 15s 2ms/sample - loss: 0.5729 - acc: 0.6966 - val_loss: 0.5436 - val_acc: 0.7273\n",
      "Epoch 3/20\n",
      "6900/7000 [============================>.] - ETA: 0s - loss: 0.5270 - acc: 0.7286\n",
      "Epoch 00003: val_acc did not improve from 0.72733\n",
      "7000/7000 [==============================] - 16s 2ms/sample - loss: 0.5271 - acc: 0.7280 - val_loss: 0.5562 - val_acc: 0.7207\n",
      "Epoch 4/20\n",
      "6900/7000 [============================>.] - ETA: 0s - loss: 0.4605 - acc: 0.7793\n",
      "Epoch 00004: val_acc did not improve from 0.72733\n",
      "7000/7000 [==============================] - 13s 2ms/sample - loss: 0.4600 - acc: 0.7796 - val_loss: 0.5757 - val_acc: 0.7237\n",
      "Epoch 5/20\n",
      "6900/7000 [============================>.] - ETA: 0s - loss: 0.3986 - acc: 0.8122\n",
      "Epoch 00005: val_acc did not improve from 0.72733\n",
      "7000/7000 [==============================] - 11s 2ms/sample - loss: 0.3992 - acc: 0.8116 - val_loss: 0.5665 - val_acc: 0.7217\n",
      "Epoch 6/20\n",
      "6900/7000 [============================>.] - ETA: 0s - loss: 0.3252 - acc: 0.8654\n",
      "Epoch 00006: val_acc did not improve from 0.72733\n",
      "7000/7000 [==============================] - 11s 2ms/sample - loss: 0.3256 - acc: 0.8653 - val_loss: 0.5855 - val_acc: 0.7140\n",
      "Epoch 7/20\n",
      "6900/7000 [============================>.] - ETA: 0s - loss: 0.2477 - acc: 0.9181\n",
      "Epoch 00007: val_acc did not improve from 0.72733\n",
      "7000/7000 [==============================] - 11s 2ms/sample - loss: 0.2483 - acc: 0.9179 - val_loss: 0.5937 - val_acc: 0.7213\n",
      "Epoch 8/20\n",
      "6900/7000 [============================>.] - ETA: 0s - loss: 0.1838 - acc: 0.9506\n",
      "Epoch 00008: val_acc did not improve from 0.72733\n",
      "7000/7000 [==============================] - 10s 1ms/sample - loss: 0.1837 - acc: 0.9507 - val_loss: 0.6158 - val_acc: 0.7197\n",
      "Epoch 9/20\n",
      "6900/7000 [============================>.] - ETA: 0s - loss: 0.1337 - acc: 0.9723\n",
      "Epoch 00009: val_acc did not improve from 0.72733\n",
      "7000/7000 [==============================] - 10s 1ms/sample - loss: 0.1340 - acc: 0.9721 - val_loss: 0.6320 - val_acc: 0.7223\n",
      "Epoch 10/20\n",
      "6900/7000 [============================>.] - ETA: 0s - loss: 0.0896 - acc: 0.9907\n",
      "Epoch 00010: val_acc did not improve from 0.72733\n",
      "7000/7000 [==============================] - 10s 1ms/sample - loss: 0.0895 - acc: 0.9907 - val_loss: 0.6507 - val_acc: 0.7203\n",
      "Epoch 11/20\n",
      "6900/7000 [============================>.] - ETA: 0s - loss: 0.0633 - acc: 0.9946\n",
      "Epoch 00011: val_acc did not improve from 0.72733\n",
      "7000/7000 [==============================] - 14s 2ms/sample - loss: 0.0636 - acc: 0.9946 - val_loss: 0.7822 - val_acc: 0.6993\n",
      "Epoch 12/20\n",
      "6900/7000 [============================>.] - ETA: 0s - loss: 0.0427 - acc: 0.9977\n",
      "Epoch 00012: val_acc did not improve from 0.72733\n",
      "7000/7000 [==============================] - 12s 2ms/sample - loss: 0.0430 - acc: 0.9976 - val_loss: 0.8262 - val_acc: 0.7007\n",
      "Epoch 13/20\n",
      "6900/7000 [============================>.] - ETA: 0s - loss: 0.0298 - acc: 0.9987\n",
      "Epoch 00013: val_acc did not improve from 0.72733\n",
      "7000/7000 [==============================] - 11s 2ms/sample - loss: 0.0298 - acc: 0.9987 - val_loss: 0.7797 - val_acc: 0.7160\n",
      "Epoch 14/20\n",
      "6900/7000 [============================>.] - ETA: 0s - loss: 0.0207 - acc: 0.9993\n",
      "Epoch 00014: val_acc did not improve from 0.72733\n",
      "7000/7000 [==============================] - 12s 2ms/sample - loss: 0.0206 - acc: 0.9993 - val_loss: 0.7883 - val_acc: 0.7197\n",
      "Epoch 15/20\n",
      "6900/7000 [============================>.] - ETA: 0s - loss: 0.0163 - acc: 0.9991\n",
      "Epoch 00015: val_acc did not improve from 0.72733\n",
      "7000/7000 [==============================] - 12s 2ms/sample - loss: 0.0163 - acc: 0.9991 - val_loss: 0.8125 - val_acc: 0.7230\n",
      "Epoch 16/20\n",
      "6900/7000 [============================>.] - ETA: 0s - loss: 0.0121 - acc: 0.9993\n",
      "Epoch 00016: val_acc did not improve from 0.72733\n",
      "7000/7000 [==============================] - 13s 2ms/sample - loss: 0.0120 - acc: 0.9993 - val_loss: 0.8191 - val_acc: 0.7177\n",
      "Epoch 17/20\n",
      "6900/7000 [============================>.] - ETA: 0s - loss: 0.0070 - acc: 1.0000\n",
      "Epoch 00017: val_acc did not improve from 0.72733\n",
      "7000/7000 [==============================] - 11s 2ms/sample - loss: 0.0071 - acc: 1.0000 - val_loss: 0.8883 - val_acc: 0.7133\n",
      "Epoch 18/20\n",
      "6900/7000 [============================>.] - ETA: 0s - loss: 0.0073 - acc: 0.9997\n",
      "Epoch 00018: val_acc did not improve from 0.72733\n",
      "7000/7000 [==============================] - 11s 2ms/sample - loss: 0.0073 - acc: 0.9997 - val_loss: 0.9297 - val_acc: 0.7230\n",
      "Epoch 19/20\n",
      "6900/7000 [============================>.] - ETA: 0s - loss: 0.0041 - acc: 0.9999\n",
      "Epoch 00019: val_acc did not improve from 0.72733\n",
      "7000/7000 [==============================] - 11s 2ms/sample - loss: 0.0041 - acc: 0.9999 - val_loss: 0.9723 - val_acc: 0.7213\n",
      "Epoch 20/20\n",
      "6900/7000 [============================>.] - ETA: 0s - loss: 0.0039 - acc: 1.0000\n",
      "Epoch 00020: val_acc did not improve from 0.72733\n",
      "7000/7000 [==============================] - 11s 2ms/sample - loss: 0.0039 - acc: 1.0000 - val_loss: 0.9657 - val_acc: 0.7183\n",
      "acc: 72.73%\n"
     ]
    },
    {
     "data": {
      "image/png": "[encoded data removed]",
      "text/plain": [
       "<Figure size 432x288 with 2 Axes>"
      ]
     },
     "metadata": {
      "needs_background": "light"
     },
     "output_type": "display_data"
    }
   ],
   "source": [
    "# Fit the model\n",
    "history = model.fit(X_train, y_train, batch_size=batch_size, epochs=epochs,verbose=1,\n",
    "                    validation_data=(X_test, y_test), callbacks=[checkpointer])\n",
    "\n",
    "\n",
    "# Evaluate the model\n",
    "score = max(history.history['val_acc'])\n",
    "print(\"%s: %.2f%%\" % (model.metrics_names[1], score*100))\n",
    "plt = construct.plot_results(history.history)\n",
    "plt.show()"
   ]
  },
  {
   "cell_type": "markdown",
   "metadata": {},
   "source": [
    "## Validating predictions on native data"
   ]
  },
  {
   "cell_type": "code",
   "execution_count": 10,
   "metadata": {},
   "outputs": [
    {
     "data": {
      "text/html": [
       "<div>\n",
       "<style scoped>\n",
       "    .dataframe tbody tr th:only-of-type {\n",
       "        vertical-align: middle;\n",
       "    }\n",
       "\n",
       "    .dataframe tbody tr th {\n",
       "        vertical-align: top;\n",
       "    }\n",
       "\n",
       "    .dataframe thead th {\n",
       "        text-align: right;\n",
       "    }\n",
       "</style>\n",
       "<table border=\"1\" class=\"dataframe\">\n",
       "  <thead>\n",
       "    <tr style=\"text-align: right;\">\n",
       "      <th></th>\n",
       "      <th>seq</th>\n",
       "      <th>isNative</th>\n",
       "      <th>EL.originalHQ</th>\n",
       "      <th>EL.rep1</th>\n",
       "      <th>EL.rep2</th>\n",
       "      <th>EL.combined</th>\n",
       "    </tr>\n",
       "  </thead>\n",
       "  <tbody>\n",
       "    <tr>\n",
       "      <th>0</th>\n",
       "      <td>AACTGCATTTTTTTCACATCAAAAAGCGTCCCATAACCCATTATGG...</td>\n",
       "      <td>False</td>\n",
       "      <td>5.534436</td>\n",
       "      <td>6.015822</td>\n",
       "      <td>3.133565</td>\n",
       "      <td>5.374793</td>\n",
       "    </tr>\n",
       "    <tr>\n",
       "      <th>1</th>\n",
       "      <td>AACTGCATTTTTTTCACATCAAAAGCGTAAGTTGCCCCCACGTTTT...</td>\n",
       "      <td>False</td>\n",
       "      <td>12.909398</td>\n",
       "      <td>12.066980</td>\n",
       "      <td>8.914323</td>\n",
       "      <td>11.668808</td>\n",
       "    </tr>\n",
       "    <tr>\n",
       "      <th>2</th>\n",
       "      <td>AACTGCATTTTTTTCACATCAACAGTGTGGCGCTGTGTGGTTTCGA...</td>\n",
       "      <td>False</td>\n",
       "      <td>14.201689</td>\n",
       "      <td>12.945028</td>\n",
       "      <td>10.972485</td>\n",
       "      <td>13.682270</td>\n",
       "    </tr>\n",
       "  </tbody>\n",
       "</table>\n",
       "</div>"
      ],
      "text/plain": [
       "                                                 seq  isNative  EL.originalHQ  \\\n",
       "0  AACTGCATTTTTTTCACATCAAAAAGCGTCCCATAACCCATTATGG...     False       5.534436   \n",
       "1  AACTGCATTTTTTTCACATCAAAAGCGTAAGTTGCCCCCACGTTTT...     False      12.909398   \n",
       "2  AACTGCATTTTTTTCACATCAACAGTGTGGCGCTGTGTGGTTTCGA...     False      14.201689   \n",
       "\n",
       "     EL.rep1    EL.rep2  EL.combined  \n",
       "0   6.015822   3.133565     5.374793  \n",
       "1  12.066980   8.914323    11.668808  \n",
       "2  12.945028  10.972485    13.682270  "
      ]
     },
     "execution_count": 10,
     "metadata": {},
     "output_type": "execute_result"
    }
   ],
   "source": [
    "native_data = '/Users/joe.abbott/Documents/dataScience/capstone/ExpressYeaself/example/native_data/native_data.txt.gz'\n",
    "native_df = pd.read_csv(native_data, sep='\\t', keep_default_na=True)\n",
    "native_df = native_df.dropna()\n",
    "native_df.head(3)"
   ]
  },
  {
   "cell_type": "code",
   "execution_count": 52,
   "metadata": {},
   "outputs": [],
   "source": [
    "test_seq = native_df['seq'][0]\n",
    "test_seq = test_seq[20:100]\n",
    "encoded_test_seq = np.array([encode.one_hot_encode_sequence(test_seq)])\n",
    "# print(native_df['seq'][0])\n",
    "# print(native_df['seq'][1])\n",
    "# print(native_df['seq'][2])"
   ]
  },
  {
   "cell_type": "code",
   "execution_count": 53,
   "metadata": {},
   "outputs": [],
   "source": [
    "prob = model.predict(encoded_test_seq)[0][0]"
   ]
  },
  {
   "cell_type": "code",
   "execution_count": 54,
   "metadata": {},
   "outputs": [
    {
     "data": {
      "text/plain": [
       "0.06805472"
      ]
     },
     "execution_count": 54,
     "metadata": {},
     "output_type": "execute_result"
    }
   ],
   "source": [
    "prob"
   ]
  },
  {
   "cell_type": "code",
   "execution_count": 77,
   "metadata": {},
   "outputs": [],
   "source": [
    "results = {}\n",
    "for i in range(0, 100):\n",
    "    seq = native_df['seq'][i]\n",
    "    test_seq = seq[20:100]\n",
    "    encoded_test_seq = np.array([encode.one_hot_encode_sequence(test_seq)])\n",
    "    prob = model.predict(encoded_test_seq)[0][0]\n",
    "    results[i] = [seq, prob]"
   ]
  },
  {
   "cell_type": "code",
   "execution_count": 78,
   "metadata": {},
   "outputs": [
    {
     "data": {
      "text/plain": [
       "{0: ['AACTGCATTTTTTTCACATCAAAAAGCGTCCCATAACCCATTATGGCTGTTATGATAGTATCAGTCGGGGGATCTTAGCGTGTAGGCCTTGGACGTCGGGGGTTACGGCTGTTTCTTAAT',\n",
       "  0.06805472],\n",
       " 1: ['AACTGCATTTTTTTCACATCAAAAGCGTAAGTTGCCCCCACGTTTTTCAGCGCTGCTGCGGAAGCGGTGGTTAAGTCGGTCCCCTCTTCGCGATCTTACAGGTTACGGCTGTTTCTTAAT',\n",
       "  0.9108772],\n",
       " 2: ['AACTGCATTTTTTTCACATCAACAGTGTGGCGCTGTGTGGTTTCGAGGGGACGGCACGGGGATGAACCCGACTCTAATAGGTCATGCACATCCACATCCTGGTTACGGCTGTTTCTTAAT',\n",
       "  0.97648925],\n",
       " 3: ['AACTGCATTTTTTTCACATCAGTAAAGCTCCGTTTCTTCCAGTTTTAGGGTCTGAATTTCGGACCTTTGGGTGCTCCCGTCACATCACGAGAAGCCATACGGTTACGGCTGTTTCTTAAT',\n",
       "  0.25136235],\n",
       " 4: ['AACTGCATTTTTTTCACATCAGTAAATCCTTATTTGACGATTACACACTTAACTAGCACCCCTCTTACAAGAGTCTGTTCAGTAGCTGAACAGCGCTGGTGGTTACGGCTGTTTCTTAAT',\n",
       "  0.002097094],\n",
       " 5: ['AACTGCATTTTTTTCACATCAGTAACCACCGGGTTCTAGTGCCTGCAATGTTTATATCTGTGGGTTCAAGAGGGATGCGTATGCTCGGCTAGCTCCCGCGGGTTACGGCTGTTTCTTAAT',\n",
       "  0.91798335],\n",
       " 6: ['AACTGCATTTTTTTCACATCAGTAACGGGCACAGGTGCTGCCAACATTTCTGTTTATACAAGCAGCTATGGTGCCTGTATAAGGGGTCGAAGTCGGATGGGGTTACGGCTGTTTCTTAAT',\n",
       "  0.2608631],\n",
       " 7: ['AACTGCATTTTTTTCACATCAGTAAGAGGCCTGGATAAACCTGTCGGATAAGATTCGTCTACAAATATGGGCGGGTTCGGACCCGGCGTAAGGTTCGTCAGGTTACGGCTGTTTCTTAAT',\n",
       "  0.72840273],\n",
       " 8: ['AACTGCATTTTTTTCACATCAGTAATTCTGGTTCGCCCCTGTGGGATGGTATCAAAAGAAGGATGGTCTTCGGTAACTTGCGAGGCCCGCACTTCATATAGGTTACGGCTGTTTCTTAAT',\n",
       "  0.06529094],\n",
       " 9: ['AACTGCATTTTTTTCACATCAGTACAATACATGTACTAGGCCTTTTAGTTTAGTCAGTGACATATCTTGCTTGGCGTCCCCTGGCTTGCAGACATCCCGGGGTTACGGCTGTTTCTTAAT',\n",
       "  0.9779734],\n",
       " 10: ['AACTGCATTTTTTTCACATCAGTACATTTGCAGACTGCAATTACGCCTCTCGAAAACGCCTTTTTCATATCTTTTTCCCCTGTGTTCTGCTCTGCTTGCGGGTTACGGCTGTTTCTTAAT',\n",
       "  0.5467644],\n",
       " 11: ['AACTGCATTTTTTTCACATCAGTACCAGCTTGTAGGGGGAGATTTTACGAGGTTGGTCTTTGTTCAGAGTCTATGTTTAGGTGACAGAGCGGGTTCGGAGGGTTACGGCTGTTTCTTAAT',\n",
       "  0.040004514],\n",
       " 12: ['AACTGCATTTTTTTCACATCAGTACCGTAGCGGCATAGTCTCGGTTGAGGTCACATTTAGCTCTGCGTCACAAAAACACGCTAAGGTGGGCTTATCTGGGGGTTACGGCTGTTTCTTAAT',\n",
       "  0.011234572],\n",
       " 13: ['AACTGCATTTTTTTCACATCAACAGTTTCTTCGCCTTATTTACTTAGTCTAAATGTATCTCTCACGGAGGTGTTTATCTCCAGGGCAGTCAGTCGTTTCAGGTTACGGCTGTTTCTTAAT',\n",
       "  0.35310328],\n",
       " 14: ['AACTGCATTTTTTTCACATCAGTACTAGTATCACGGACCTCCCATGGGTAAACAGTTGGCTGTCGACTGGCGGCGGATCCTAAGCTAGGGTTTGGCATCCGGTTACGGCTGTTTCTTAAT',\n",
       "  0.72652626],\n",
       " 15: ['AACTGCATTTTTTTCACATCAGTACTCCCGAAGAGTACGTTATGTGTGGACTTGACCGCCTGGGGGGTGGCGTAGTAGTCTCCGCTGTGGGCGCTGGTATGGTTACGGCTGTTTCTTAAT',\n",
       "  0.8915225],\n",
       " 16: ['AACTGCATTTTTTTCACATCAGTACTCTTGCTCCCACACGCTCGCGCCTGGTACGTCTAAGGACGGTGGGCCCTCATGCTCGACTGCGCGCGTTGACGGGGGTTACGGCTGTTTCTTAAT',\n",
       "  0.9993668],\n",
       " 17: ['AACTGCATTTTTTTCACATCAGTAGAGGGTAATTCGTGGTAGTTCAACCTTGGTAGGGAGCCGTCAAAATTCAAGGGGACGCTGGTATCTGGCTCATGCAGGTTACGGCTGTTTCTTAAT',\n",
       "  0.004476174],\n",
       " 18: ['AACTGCATTTTTTTCACATCAGTAGATGATCTTCGCAAGTTGACTTATTCGCTGTTTTGGATTTGAGTCTTATGTTATTACATGGAGGATAACCTATGCCGGTTACGGCTGTTTCTTAAT',\n",
       "  0.08396349],\n",
       " 19: ['AACTGCATTTTTTTCACATCAGTAGATGCGCCTTTTATTTCTCGGTAGGACTAAGAGGAAGGTCGCCAAGAAGTAGGTGCCAAGGTGCGGAGCATTACCAGGTTACGGCTGTTTCTTAAT',\n",
       "  0.00070128666],\n",
       " 20: ['AACTGCATTTTTTTCACATCAGTAGCGGCGAAAGAGTCGTGGGTGCGCAGGTCTGCTCGCTTGGGGGGAGCGTGACCGGGAGAGGGGTCACTGTCGGTACGGTTACGGCTGTTTCTTAAT',\n",
       "  0.99916923],\n",
       " 21: ['AACTGCATTTTTTTCACATCAGTAGTAGTATCAAAGGTTATATATACACGTAGTTTGTATAACAGAGTCGGATGACCTTAGCTTTAAAGGCCCAGCGGGGGGTTACGGCTGTTTCTTAAT',\n",
       "  5.2474432e-05],\n",
       " 22: ['AACTGCATTTTTTTCACATCAGTAGTGTGTACGCAGAACCCGGGCATGATCCTGCGCGACAACTTTCTATCATATGCTAAATTGAACGCGCTTTTTTAGTGGTTACGGCTGTTTCTTAAT',\n",
       "  5.068675e-05],\n",
       " 23: ['AACTGCATTTTTTTCACATCAGTAGTTCATTTGGTGTTAAGATTGGCATATAGCTCAGTTCATTGGGGTGGAGTCGGTATGGAGGGCTCATAACTCGTAAGGTTACGGCTGTTTCTTAAT',\n",
       "  0.00037034016],\n",
       " 24: ['AACTGCATTTTTTTCACATCAACATCACAATTTTGTCATGTTATTCGCAGGAATCATTCCGCGCATCTAGGCTTGCACGGGGCACTAGAGATATTACTGGGGTTACGGCTGTTTCTTAAT',\n",
       "  0.011868863],\n",
       " 25: ['AACTGCATTTTTTTCACATCAGTATAGGAGTAAAACTTGTACATGAGTTTACTCATTAATTGTCTTTTATTTGGAGGTGATTTGGGGGGAGGGTTTGATTGGTTACGGCTGTTTCTTAAT',\n",
       "  1.2753641e-05],\n",
       " 26: ['AACTGCATTTTTTTCACATCAGTATAGGCATCTCGTCTCCGGTTTTAGTACGTGTGGAATTGTATTCTGCGTAATCTAAGGGGGCAGGGAAAGTTCACTAGGTTACGGCTGTTTCTTAAT',\n",
       "  0.62238127],\n",
       " 27: ['AACTGCATTTTTTTCACATCAGTATATTAGGGGATTTTTTAACGTACTTTGATCAAGTGACTCATCTTTCTTTATGGCCTGAAGTCTTAGAGTCTTTGACGGTTACGGCTGTTTCTTAAT',\n",
       "  0.24330914],\n",
       " 28: ['AACTGCATTTTTTTCACATCAGTATCCCGTCTGACGTTCAGGGTTTAGAGGAAGGGTTGGGGCGGGAAGTGAGACCTTTACGACGTTTCTATGACACCCAGGTTACGGCTGTTTCTTAAT',\n",
       "  0.99292797],\n",
       " 29: ['AACTGCATTTTTTTCACATCAGTATCGGTGAGTTTATTAAGGTTTTACTCTAATGTGGGGGACTAACTGCATATTGCCGAACGGCTAGTACGTAATTCCGGGTTACGGCTGTTTCTTAAT',\n",
       "  0.0054868227],\n",
       " 30: ['AACTGCATTTTTTTCACATCAGTATCTGAAAGGTACGTGTTCTAGTTTAATTGGACATGCCCGAGTCTTAGGCAAGACACTGCCTGTTTAGCGGCTAAGGGGTTACGGCTGTTTCTTAAT',\n",
       "  0.019573782],\n",
       " 31: ['AACTGCATTTTTTTCACATCAGTATGATGTTGAAAACACGAAGATTGGTCTTTTCGGGGGAAAGCCTTTTGGAGAGATGAGCGGCGCGAGTGTTAGCTGGGGTTACGGCTGTTTCTTAAT',\n",
       "  0.0776493],\n",
       " 32: ['AACTGCATTTTTTTCACATCAGTATGTCAAAATTGTTAGGAATCATTGACGCGCAGTGCTAGTGGTTTGTGATGTATGCCCATGGTGTGGCTCGGTCCTGGGTTACGGCTGTTTCTTAAT',\n",
       "  0.008597654],\n",
       " 33: ['AACTGCATTTTTTTCACATCAGTATGTCGTCGCGTGTTGTTTCTAATCTTCGTGGCCTGTGGTGCAAACGTGTGCGGCTCGACGGCTGGAAGCCCGGCATGGTTACGGCTGTTTCTTAAT',\n",
       "  0.99996793],\n",
       " 34: ['AACTGCATTTTTTTCACATCAGTATGTGCAAGGTACATATTCGCGTAGCTCGTGATCGTTATGGTGACCACGCCATCTGGTATGGCCAGCCTTTTTTGTTGGTTACGGCTGTTTCTTAAT',\n",
       "  0.1594365],\n",
       " 35: ['AACTGCATTTTTTTCACATCAACATGTCTCACCGTAGGCGTAAGCAACGCCAGCACACACAGTTGCATAGGAGTGGCGTACGAGTCCAGGCGCCCGGGTTGGTTACGGCTGTTTCTTAAT',\n",
       "  0.8970361],\n",
       " 36: ['AACTGCATTTTTTTCACATCAGTATGTGGGTGGGGAGGTCAGTGTGAGGGGAGCGTGGGGATCTATGGGCGGCGAATCCATACGTTGGAGCAGGCGCATTGGTTACGGCTGTTTCTTAAT',\n",
       "  0.9474998],\n",
       " 37: ['AACTGCATTTTTTTCACATCAGTATTAACGTGGCCTACTGTTCTTACTGTCCAGCGTCGTGTTTCAAGCACCCTGCGCGTTTGGCCTCACGGGGACGGTGGGTTACGGCTGTTTCTTAAT',\n",
       "  0.9999857],\n",
       " 38: ['AACTGCATTTTTTTCACATCAGTATTCATGGATTCACCGGAAGAAGTGCAACGCCATGTGGCAGACAAGAATATGCTGTGCCCCAGAATTACCCGGCTTCGGTTACGGCTGTTTCTTAAT',\n",
       "  0.003241736],\n",
       " 39: ['AACTGCATTTTTTTCACATCAGTCACCGCCATTGGTTTTAGTTTGCGAACTCATAGCGGCGGCAGATCTTAACAGGCTCATTGCCTTCCTTGGGAAAAGGGGTTACGGCTGTTTCTTAAT',\n",
       "  0.73469114],\n",
       " 40: ['AACTGCATTTTTTTCACATCAGTCACTGGCCATTAGCGACGAAGTCTGTTGTCGTGGGTGCGAAGCGCGGGTGACCGCATGCGTTGGGGTGGGCATTAGGGGTTACGGCTGTTTCTTAAT',\n",
       "  0.9974279],\n",
       " 41: ['AACTGCATTTTTTTCACATCAGTCAGAACCTTGCGTGCTTTCTCGATTCGGTACCTTTGCGGGGCATCTTAAATCCCTTATCTACTCGGCTTTCATAAACGGTTACGGCTGTTTCTTAAT',\n",
       "  0.52730715],\n",
       " 42: ['AACTGCATTTTTTTCACATCAGTCAGACGATAGCCGAAGTTATAATTGCGTATGTTGTGTTGTGGATAACGCTACTCCGGTTTTTGTTAGCGTGGCGTGGGGTTACGGCTGTTTCTTAAT',\n",
       "  0.08173989],\n",
       " 43: ['AACTGCATTTTTTTCACATCAGTCAGGAAAGACGCAGTCAGTTTGATTCCGTATGATACAATTGTGATGCGCTATACATTTTGTGACTTTGGTTGCTCTGGGTTACGGCTGTTTCTTAAT',\n",
       "  0.02975131],\n",
       " 44: ['AACTGCATTTTTTTCACATCAGTCAGTGTTAGTGTTAGACGCTGAGCGGTTCTACAGGCTCGGTAAAACTTGATCTGTGAAATGGTAGCATTGTGATACAGGTTACGGCTGTTTCTTAAT',\n",
       "  0.028022926],\n",
       " 45: ['AACTGCATTTTTTTCACATCAGTCATCTAGACTTTAATGCTTCGTTTGGCGGTTTAGCCCAATGAACCTCATTCATTTAAGCTTTTGTGGACCCCACGCGGGTTACGGCTGTTTCTTAAT',\n",
       "  0.041590597],\n",
       " 46: ['AACTGCATTTTTTTCACATCAACATGTTTCATGCCTACGTCGTCTTTACATTTAAATTCTATTTGGTGCTGTGTGTTGAAGTGCGCGCTGGCTGTCTCCGGGTTACGGCTGTTTCTTAAT',\n",
       "  0.98824847],\n",
       " 47: ['AACTGCATTTTTTTCACATCAGTCCAAAGAGGTTCCCAGTACTGGAAAAGGGTTAGATGGGTTGAGAGGATCTTCCGTGAGTAAATCGCATTAAAAAGGAGGTTACGGCTGTTTCTTAAT',\n",
       "  0.0014851126],\n",
       " 48: ['AACTGCATTTTTTTCACATCAGTCCACTAAGGAATTCCGGCTTCCAACGGATAGTTCGGCGTACTAGCGTCCGATGGGGATAGGCGGCAAATGGTTCATTGGTTACGGCTGTTTCTTAAT',\n",
       "  0.6553595],\n",
       " 49: ['AACTGCATTTTTTTCACATCAGTCCATTTACTAAATGTATTTCTCTACGCTCTCGGCGTGTCGTAGCCTAGACGTCTGTGGTTGTTATTAGGGAAAATTTGGTTACGGCTGTTTCTTAAT',\n",
       "  0.011515539],\n",
       " 50: ['AACTGCATTTTTTTCACATCAGTCCCTCCATCTACCATCAAAAAGTTGCGTGGACTGTATGCGCTGATCACCGTGGGCAGCTGTTGGCAGTTGGCGGCTTGGTTACGGCTGTTTCTTAAT',\n",
       "  0.9998306],\n",
       " 51: ['AACTGCATTTTTTTCACATCAGTCCGAGCTAGACTACGCTTTAAATTTGGATCAAGTTCTCGAAGTTTTTGCATTCGTTATATATCGAAAAGGTATTAGTGGTTACGGCTGTTTCTTAAT',\n",
       "  0.001369855],\n",
       " 52: ['AACTGCATTTTTTTCACATCAGTCCGTTGATGTGTGTGCCTGTAATTTCGTTCACCATAGGACACAATCGACTCGTGGCATTGTTTCGGTTTAATCCATTGGTTACGGCTGTTTCTTAAT',\n",
       "  0.037094563],\n",
       " 53: ['AACTGCATTTTTTTCACATCAGTCGACACATGGTGGGTTGTGAACGGGCTATACCTAAGGGGGGGCGGTCGGTCCACCGGTTTAGGGGTCACCATTATGAGGTTACGGCTGTTTCTTAAT',\n",
       "  0.9981598],\n",
       " 54: ['AACTGCATTTTTTTCACATCAGTCGAGGGTCGGTGTTCTAAGTAATGTTTTGATGGCTATCCACTGTAGTGGAATTCTCGCCCGTTGTGACATGTTTTAAGGTTACGGCTGTTTCTTAAT',\n",
       "  0.19368562],\n",
       " 55: ['AACTGCATTTTTTTCACATCAGTCGATTTAGCCCTTCATCGTTCCAAGTGCGATTATGAGACGAAATGTTGCCATGCATTGGTAAGTGTTTCGGAAGTTAGGTTACGGCTGTTTCTTAAT',\n",
       "  0.006695378],\n",
       " 56: ['AACTGCATTTTTTTCACATCAGTCGCCGTAGATTCAAATGCTAGCAACGGGGTATGTCCCGTTAGGTATTCTGGCGGGGTGCGTTTGAAAGTAACACATCGGTTACGGCTGTTTCTTAAT',\n",
       "  0.97157234],\n",
       " 57: ['AACTGCATTTTTTTCACATCAACATTGTCTGATGATTCGAGTATACCAAGTTCGTGAAAGGTGAGGCCTGCTGGCGCGCGAAGCATGATGCTGGATCGAGGGTTACGGCTGTTTCTTAAT',\n",
       "  0.047071125],\n",
       " 58: ['AACTGCATTTTTTTCACATCAGTCGCTCGGAACGTTACAGTTCCGGGGTACAAGACGGGTTATTCTTAACCTGCCGGCGCTACTACAGGTCATTCGGGCAGGTTACGGCTGTTTCTTAAT',\n",
       "  0.9665617],\n",
       " 59: ['AACTGCATTTTTTTCACATCAGTCGGGTGACGGCCTCGCCTTGTTGTGCGTCACTTCCACAGCTACACTAGTTGATAAACAGTGTGGGCCAGTTGAATCAGGTTACGGCTGTTTCTTAAT',\n",
       "  0.92563826],\n",
       " 60: ['AACTGCATTTTTTTCACATCAGTCGTAAATTTCTGGTAGCCTAATCGGCTCCGACGTGATAGGGGGCATTTGATAATCGCGGGACCTTGTAGGGGTTGGGGGTTACGGCTGTTTCTTAAT',\n",
       "  0.2227235],\n",
       " 61: ['AACTGCATTTTTTTCACATCAGTCGTGGTTCACCCTGACCTGCAAAGAGTATGGATCGGGAGTAACGCTATGGTCTGGTTGGTAGAGATGGGGTCATGGCGGTTACGGCTGTTTCTTAAT',\n",
       "  0.023118924],\n",
       " 62: ['AACTGCATTTTTTTCACATCAGTCGTGTGATGTTGGTTGGATGGGGCGATGAAGTGGAAGGTCAGACGGTCGTTACGGTTAGGGTGAAGCCTGGAGGCATGGTTACGGCTGTTTCTTAAT',\n",
       "  0.0010190192],\n",
       " 63: ['AACTGCATTTTTTTCACATCAGTCGTTTTCACAATGTAAGCGGCCTCAGGGTGAATTCTGATTACGGAGTGGCCTTGCTCGGTCAGCACGGTGGGTATGAGGTTACGGCTGTTTCTTAAT',\n",
       "  0.010484094],\n",
       " 64: ['AACTGCATTTTTTTCACATCAGTCTACTCACAGCTATGGGCCCTAACCGGTAAGGTCAGGTTCGCCTATTTGGGTTTTCGATATCCCTGTGAAGGTTTGAGGTTACGGCTGTTTCTTAAT',\n",
       "  0.020499703],\n",
       " 65: ['AACTGCATTTTTTTCACATCAGTCTAGATTATTGTCACTTCTGAGGTGGTATAGCGATCCTAGCTGTAGGGTTAACAATCAAATTAGGCTCATCTCCAGCGGTTACGGCTGTTTCTTAAT',\n",
       "  0.0037952615],\n",
       " 66: ['AACTGCATTTTTTTCACATCAGTCTAGGCTGGGGCGCCAGAAGGGCATGGTTTTGACGATGGGGTAACGCAGGCACGCATCACGGTGGCTCGTAAAGGCGGGTTACGGCTGTTTCTTAAT',\n",
       "  0.9994831],\n",
       " 67: ['AACTGCATTTTTTTCACATCAGTCTAGTTTCATGGCTTGCGGGCTAAGTGTGGAATTGTTGTAGTTGCGGTTGACGGTGGGCACTAGGGGCGGGGTGGGCGGTTACGGCTGTTTCTTAAT',\n",
       "  0.94316673],\n",
       " 68: ['AACTGCATTTTTTTCACATCAACATTTGGGTGCGCATTGTATGACGCAAGGCGTGAGCCTAATATCGCTTGAGCAGGAACTTATTGTTGGCATAAGAACGGGTTACGGCTGTTTCTTAAT',\n",
       "  0.010046619],\n",
       " 69: ['AACTGCATTTTTTTCACATCAGTCTATAATAAGGGTATCTTGCACGTCCGCGTTTGCTCATAGTGGGCTCTTTCTGCCTCCCAATCTAGGAGAATGCAGTGGTTACGGCTGTTTCTTAAT',\n",
       "  0.4850845],\n",
       " 70: ['AACTGCATTTTTTTCACATCAGTCTCAAATTCATCGCGTTACGGAATCGGCCAGTGGTGCATTGTGTATTGGAATCTATTCCCTTATATAATCCTACCAAGGTTACGGCTGTTTCTTAAT',\n",
       "  0.25629637],\n",
       " 71: ['AACTGCATTTTTTTCACATCAGTCTCATTCCTATTTCTACGAGAGATGTTTATATCCGTGGATCGTAAACCCAGATCTGTCTTTCGTCACTGGCGAAGGGGGTTACGGCTGTTTCTTAAT',\n",
       "  0.020208457],\n",
       " 72: ['AACTGCATTTTTTTCACATCAGTCTCGCGTTTGTTTACGGGTGGTTCGCTTGTAATCGATGCGCTTGTATAGTCAGCACGCACTCTGTCTTGAGAGGAGAGGTTACGGCTGTTTCTTAAT',\n",
       "  0.9572873],\n",
       " 73: ['AACTGCATTTTTTTCACATCAGTCTGGTATTTTAGAAAATGAAGGGTTAGAGAACATCCGGTCTATATCGGCTCGGAAGAAATCGTTTGTGCCGCCGTGTGGTTACGGCTGTTTCTTAAT',\n",
       "  0.31616384],\n",
       " 74: ['AACTGCATTTTTTTCACATCAGTCTTGACCGCGGAAAACTAGGTCTTGGTCCTGTCTCAGGAGGATGCCCCCGGAGGAACGATGGTGCCGTTCTTGTGCGGGTTACGGCTGTTTCTTAAT',\n",
       "  0.9697444],\n",
       " 75: ['AACTGCATTTTTTTCACATCAGTCTTTGGCGATCGTCGCCCCTATAGGTTGCTAAGAGGTACTGGATATTATGCAGAGTACGCCCTTCGAAATGGAGTCAGGTTACGGCTGTTTCTTAAT',\n",
       "  0.35265604],\n",
       " 76: ['AACTGCATTTTTTTCACATCAGTGAAGGATAGGGATAACGTGGCCTTCATTTGTCTGTGTGTGGCCTTGGTTTGGTCTTGTTTTAAGTCGGGACGTGAGAGGTTACGGCTGTTTCTTAAT',\n",
       "  0.038376566],\n",
       " 77: ['AACTGCATTTTTTTCACATCAGTGACCAAGGCTCACGCCGGTCTGGTCGGATACAGGGTAGACGTTGACCTCTCGCCACGGAATAAGTAGACTACGCCCTGGTTACGGCTGTTTCTTAAT',\n",
       "  0.17373753],\n",
       " 78: ['AACTGCATTTTTTTCACATCAGTGACGTCTTGTGACCCCACTGTCATAAGCGTTATTGTTTCCATTCTCTTTGGCGGTATGCTCCCCGTTAGGCCCCTACGGTTACGGCTGTTTCTTAAT',\n",
       "  0.9997249],\n",
       " 79: ['AACTGCATTTTTTTCACATCAACCAATTTGGTTGTAATCGTTGGCTTTCCATATGGTGTTCACCATTGTACGACAGAAGCATCCTGGAGGGTCGAAGATGGGTTACGGCTGTTTCTTAAT',\n",
       "  0.0029149598],\n",
       " 80: ['AACTGCATTTTTTTCACATCAGTGACTAAAATCAGTATGACATTTGCAATGTTGATAGCTTTCATCCGTTTCCGGAGGGTGTGATACGCCCCGATGGTTAGGTTACGGCTGTTTCTTAAT',\n",
       "  0.10009288],\n",
       " 81: ['AACTGCATTTTTTTCACATCAGTGACTAAGAGTGTTCTGGTAGGTTTATTGTAACCCTAAGGATTTTCCTAACAATAGTAGTGGGGGTAGTGTACCGTAAGGTTACGGCTGTTTCTTAAT',\n",
       "  0.11977558],\n",
       " 82: ['AACTGCATTTTTTTCACATCAGTGAGCTGACGGTCGTCGGTCCCATATGTGAACATGGTGACACTTACCCGCTCAGGGGGCGAAGGTTAAGCGGTTATCTGGTTACGGCTGTTTCTTAAT',\n",
       "  0.6031471],\n",
       " 83: ['AACTGCATTTTTTTCACATCAGTGATTTCTAGGTCACCTATCGTATCTGCTTCAATGATGTTATGAGCCCGAGGTCGGCGGGCCTGACGCAATAGGCGGAGGTTACGGCTGTTTCTTAAT',\n",
       "  0.997997],\n",
       " 84: ['AACTGCATTTTTTTCACATCAGTGCAGCAGGCCAGGGTTGGTTTAGGGCAGGCTATACGGTGCCGATTGCCGCGTCAATATCACCGGCGATGGGGGGGGAGGTTACGGCTGTTTCTTAAT',\n",
       "  0.99784875],\n",
       " 85: ['AACTGCATTTTTTTCACATCAGTGCATCATAGGCCATCTAAAGGTGAAACTGATTTTTCGTATGTATACTAGACATTGGCTGGGATACGGACGTCAGGAGGGTTACGGCTGTTTCTTAAT',\n",
       "  0.00011497009],\n",
       " 86: ['AACTGCATTTTTTTCACATCAGTGCCCTGTCTTGCTTGTTGGGCGAATATAATCTTTTTCGTGCACATTGTGTAATGGATATATCATCAAGAGTTTGGAAGGTTACGGCTGTTTCTTAAT',\n",
       "  0.0017611461],\n",
       " 87: ['AACTGCATTTTTTTCACATCAGTGCGGGGGTCTAGGTCTCAGGTTAACTAGTGGATGCGGATGCTGCCGGCCGCGGGCGGTCGCGCTTGACGGGAGAATAGGTTACGGCTGTTTCTTAAT',\n",
       "  0.99999964],\n",
       " 88: ['AACTGCATTTTTTTCACATCAGTGCGTCTAGTCGTTGTCGCGTGGTGGACGTGGGACCTCGGTAGGTATTTGTGTGTTACGTAACGGGAGTATTGGACGCGGTTACGGCTGTTTCTTAAT',\n",
       "  0.067412145],\n",
       " 89: ['AACTGCATTTTTTTCACATCAGTGCTAAAGCTGTAAATGCCTGGAATCGCAGGAAATGGTAGTATCTTATCCGAGAGTCGCACGCATAGGAGACACATACGGTTACGGCTGTTTCTTAAT',\n",
       "  0.051940236],\n",
       " 90: ['AACTGCATTTTTTTCACATCAACCACACTATAGGCGCCATGACAGGGGTATGATCGAGGTGAGTATACGGGCAAGCCGGTATGGCAGGTCGTTAGGACTTGGTTACGGCTGTTTCTTAAT',\n",
       "  0.0742889],\n",
       " 91: ['AACTGCATTTTTTTCACATCAGTGCTAATATATTTAAAAGAGTTAGGATCTGTGCCTACTTGGAGGGACAGGGTAATAAGGGTGCCGCGGTTCAGGTCTGGGTTACGGCTGTTTCTTAAT',\n",
       "  0.27454013],\n",
       " 92: ['AACTGCATTTTTTTCACATCAGTGCTGGATCAGTGATTGTGCCGGCCAGTGCCCAGGGCCTGTCAGAATAGAGAAGATGGAACGCGTAAGTCGAGACCGGGGTTACGGCTGTTTCTTAAT',\n",
       "  0.99967766],\n",
       " 93: ['AACTGCATTTTTTTCACATCAGTGCTTAGGAGCGGGGTTTAGGGGCGCTGCGTCTGGTATCCTATGCTCGCTACATTACCTCGGCTAATGAAGCTGATATGGTTACGGCTGTTTCTTAAT',\n",
       "  0.9686887],\n",
       " 94: ['AACTGCATTTTTTTCACATCAGTGGAACTCCTAGATTTAAGGGAGAGTGTTTAACGCGGCAAAAGTAACTACTTTGTCGCGTCATCTAAGAACCGGTCGAGGTTACGGCTGTTTCTTAAT',\n",
       "  0.007902123],\n",
       " 95: ['AACTGCATTTTTTTCACATCAGTGGAATTGTACGGGGCACATCTTAGGCAGGGGTGGATGCGGCTTGAAGCACGCGGCTATGGCTGGGCACGCGGAACTCGGTTACGGCTGTTTCTTAAT',\n",
       "  0.9999194],\n",
       " 96: ['AACTGCATTTTTTTCACATCAGTGGCATGTTGTGCTGTGTCGGGTCAGACAGGCATGGTGGTCAGGGCGTCCCGGTAGGGGCAGACCGCCGACTTTTTTAGGTTACGGCTGTTTCTTAAT',\n",
       "  0.98186755],\n",
       " 97: ['AACTGCATTTTTTTCACATCAGTGTACCGGCTGTATTTAAGGACCTTGTGAGCAAGTTCAAGGGGTTGATGAGCACAGCGCCTAGGTACGTCAAGATAAAGGTTACGGCTGTTTCTTAAT',\n",
       "  0.0009915805],\n",
       " 98: ['AACTGCATTTTTTTCACATCAGTGTACGTGTCAGGCGTTTCTCCCAATGAGACTGGATTGTGGAAGCCCAAGGGCTCTGCATCTCTCCGTGAATTTATTGGGTTACGGCTGTTTCTTAAT',\n",
       "  0.89916354],\n",
       " 99: ['AACTGCATTTTTTTCACATCAGTGTAGAAGAGTCTACCGGGTACCTCGTTAATCAAACAGGCCACTTGACTATTCGAGTCATATGGTTGGTAAGGAGTTTGGTTACGGCTGTTTCTTAAT',\n",
       "  0.006473256]}"
      ]
     },
     "execution_count": 78,
     "metadata": {},
     "output_type": "execute_result"
    }
   ],
   "source": [
    "results"
   ]
  },
  {
   "cell_type": "code",
   "execution_count": 79,
   "metadata": {},
   "outputs": [],
   "source": [
    "predictions = pd.DataFrame.from_dict(results, orient='index', columns=['seq', 'probability'])"
   ]
  },
  {
   "cell_type": "code",
   "execution_count": 80,
   "metadata": {},
   "outputs": [
    {
     "data": {
      "text/html": [
       "<div>\n",
       "<style scoped>\n",
       "    .dataframe tbody tr th:only-of-type {\n",
       "        vertical-align: middle;\n",
       "    }\n",
       "\n",
       "    .dataframe tbody tr th {\n",
       "        vertical-align: top;\n",
       "    }\n",
       "\n",
       "    .dataframe thead th {\n",
       "        text-align: right;\n",
       "    }\n",
       "</style>\n",
       "<table border=\"1\" class=\"dataframe\">\n",
       "  <thead>\n",
       "    <tr style=\"text-align: right;\">\n",
       "      <th></th>\n",
       "      <th>seq</th>\n",
       "      <th>probability</th>\n",
       "    </tr>\n",
       "  </thead>\n",
       "  <tbody>\n",
       "    <tr>\n",
       "      <th>0</th>\n",
       "      <td>AACTGCATTTTTTTCACATCAAAAAGCGTCCCATAACCCATTATGG...</td>\n",
       "      <td>0.068055</td>\n",
       "    </tr>\n",
       "    <tr>\n",
       "      <th>1</th>\n",
       "      <td>AACTGCATTTTTTTCACATCAAAAGCGTAAGTTGCCCCCACGTTTT...</td>\n",
       "      <td>0.910877</td>\n",
       "    </tr>\n",
       "    <tr>\n",
       "      <th>2</th>\n",
       "      <td>AACTGCATTTTTTTCACATCAACAGTGTGGCGCTGTGTGGTTTCGA...</td>\n",
       "      <td>0.976489</td>\n",
       "    </tr>\n",
       "    <tr>\n",
       "      <th>3</th>\n",
       "      <td>AACTGCATTTTTTTCACATCAGTAAAGCTCCGTTTCTTCCAGTTTT...</td>\n",
       "      <td>0.251362</td>\n",
       "    </tr>\n",
       "    <tr>\n",
       "      <th>4</th>\n",
       "      <td>AACTGCATTTTTTTCACATCAGTAAATCCTTATTTGACGATTACAC...</td>\n",
       "      <td>0.002097</td>\n",
       "    </tr>\n",
       "  </tbody>\n",
       "</table>\n",
       "</div>"
      ],
      "text/plain": [
       "                                                 seq  probability\n",
       "0  AACTGCATTTTTTTCACATCAAAAAGCGTCCCATAACCCATTATGG...     0.068055\n",
       "1  AACTGCATTTTTTTCACATCAAAAGCGTAAGTTGCCCCCACGTTTT...     0.910877\n",
       "2  AACTGCATTTTTTTCACATCAACAGTGTGGCGCTGTGTGGTTTCGA...     0.976489\n",
       "3  AACTGCATTTTTTTCACATCAGTAAAGCTCCGTTTCTTCCAGTTTT...     0.251362\n",
       "4  AACTGCATTTTTTTCACATCAGTAAATCCTTATTTGACGATTACAC...     0.002097"
      ]
     },
     "execution_count": 80,
     "metadata": {},
     "output_type": "execute_result"
    }
   ],
   "source": [
    "predictions.head()"
   ]
  },
  {
   "cell_type": "code",
   "execution_count": 89,
   "metadata": {},
   "outputs": [],
   "source": [
    "sorted_pred = predictions.sort_values('probability', ascending=False).reset_index().drop(columns=['index'])"
   ]
  },
  {
   "cell_type": "code",
   "execution_count": 90,
   "metadata": {},
   "outputs": [
    {
     "data": {
      "text/html": [
       "<div>\n",
       "<style scoped>\n",
       "    .dataframe tbody tr th:only-of-type {\n",
       "        vertical-align: middle;\n",
       "    }\n",
       "\n",
       "    .dataframe tbody tr th {\n",
       "        vertical-align: top;\n",
       "    }\n",
       "\n",
       "    .dataframe thead th {\n",
       "        text-align: right;\n",
       "    }\n",
       "</style>\n",
       "<table border=\"1\" class=\"dataframe\">\n",
       "  <thead>\n",
       "    <tr style=\"text-align: right;\">\n",
       "      <th></th>\n",
       "      <th>seq</th>\n",
       "      <th>probability</th>\n",
       "    </tr>\n",
       "  </thead>\n",
       "  <tbody>\n",
       "    <tr>\n",
       "      <th>0</th>\n",
       "      <td>AACTGCATTTTTTTCACATCAGTGCGGGGGTCTAGGTCTCAGGTTA...</td>\n",
       "      <td>1.000000</td>\n",
       "    </tr>\n",
       "    <tr>\n",
       "      <th>1</th>\n",
       "      <td>AACTGCATTTTTTTCACATCAGTATTAACGTGGCCTACTGTTCTTA...</td>\n",
       "      <td>0.999986</td>\n",
       "    </tr>\n",
       "    <tr>\n",
       "      <th>2</th>\n",
       "      <td>AACTGCATTTTTTTCACATCAGTATGTCGTCGCGTGTTGTTTCTAA...</td>\n",
       "      <td>0.999968</td>\n",
       "    </tr>\n",
       "    <tr>\n",
       "      <th>3</th>\n",
       "      <td>AACTGCATTTTTTTCACATCAGTGGAATTGTACGGGGCACATCTTA...</td>\n",
       "      <td>0.999919</td>\n",
       "    </tr>\n",
       "    <tr>\n",
       "      <th>4</th>\n",
       "      <td>AACTGCATTTTTTTCACATCAGTCCCTCCATCTACCATCAAAAAGT...</td>\n",
       "      <td>0.999831</td>\n",
       "    </tr>\n",
       "  </tbody>\n",
       "</table>\n",
       "</div>"
      ],
      "text/plain": [
       "                                                 seq  probability\n",
       "0  AACTGCATTTTTTTCACATCAGTGCGGGGGTCTAGGTCTCAGGTTA...     1.000000\n",
       "1  AACTGCATTTTTTTCACATCAGTATTAACGTGGCCTACTGTTCTTA...     0.999986\n",
       "2  AACTGCATTTTTTTCACATCAGTATGTCGTCGCGTGTTGTTTCTAA...     0.999968\n",
       "3  AACTGCATTTTTTTCACATCAGTGGAATTGTACGGGGCACATCTTA...     0.999919\n",
       "4  AACTGCATTTTTTTCACATCAGTCCCTCCATCTACCATCAAAAAGT...     0.999831"
      ]
     },
     "execution_count": 90,
     "metadata": {},
     "output_type": "execute_result"
    }
   ],
   "source": [
    "sorted_pred.head()"
   ]
  },
  {
   "cell_type": "code",
   "execution_count": 91,
   "metadata": {},
   "outputs": [
    {
     "data": {
      "text/plain": [
       "'AACTGCATTTTTTTCACATCAGTGCGGGGGTCTAGGTCTCAGGTTAACTAGTGGATGCGGATGCTGCCGGCCGCGGGCGGTCGCGCTTGACGGGAGAATAGGTTACGGCTGTTTCTTAAT'"
      ]
     },
     "execution_count": 91,
     "metadata": {},
     "output_type": "execute_result"
    }
   ],
   "source": [
    "highest = sorted_pred['seq'][0]\n",
    "highest"
   ]
  },
  {
   "cell_type": "code",
   "execution_count": 92,
   "metadata": {},
   "outputs": [
    {
     "data": {
      "text/html": [
       "<div>\n",
       "<style scoped>\n",
       "    .dataframe tbody tr th:only-of-type {\n",
       "        vertical-align: middle;\n",
       "    }\n",
       "\n",
       "    .dataframe tbody tr th {\n",
       "        vertical-align: top;\n",
       "    }\n",
       "\n",
       "    .dataframe thead th {\n",
       "        text-align: right;\n",
       "    }\n",
       "</style>\n",
       "<table border=\"1\" class=\"dataframe\">\n",
       "  <thead>\n",
       "    <tr style=\"text-align: right;\">\n",
       "      <th></th>\n",
       "      <th>seq</th>\n",
       "      <th>isNative</th>\n",
       "      <th>EL.originalHQ</th>\n",
       "      <th>EL.rep1</th>\n",
       "      <th>EL.rep2</th>\n",
       "      <th>EL.combined</th>\n",
       "    </tr>\n",
       "  </thead>\n",
       "  <tbody>\n",
       "    <tr>\n",
       "      <th>87</th>\n",
       "      <td>AACTGCATTTTTTTCACATCAGTGCGGGGGTCTAGGTCTCAGGTTA...</td>\n",
       "      <td>False</td>\n",
       "      <td>15.22599</td>\n",
       "      <td>14.579064</td>\n",
       "      <td>11.657841</td>\n",
       "      <td>14.610094</td>\n",
       "    </tr>\n",
       "  </tbody>\n",
       "</table>\n",
       "</div>"
      ],
      "text/plain": [
       "                                                  seq  isNative  \\\n",
       "87  AACTGCATTTTTTTCACATCAGTGCGGGGGTCTAGGTCTCAGGTTA...     False   \n",
       "\n",
       "    EL.originalHQ    EL.rep1    EL.rep2  EL.combined  \n",
       "87       15.22599  14.579064  11.657841    14.610094  "
      ]
     },
     "execution_count": 92,
     "metadata": {},
     "output_type": "execute_result"
    }
   ],
   "source": [
    "native_df.loc[native_df['seq'] == highest]"
   ]
  },
  {
   "cell_type": "code",
   "execution_count": null,
   "metadata": {},
   "outputs": [],
   "source": []
  }
 ],
 "metadata": {
  "kernelspec": {
   "display_name": "yeast",
   "language": "python",
   "name": "yeast"
  },
  "language_info": {
   "codemirror_mode": {
    "name": "ipython",
    "version": 3
   },
   "file_extension": ".py",
   "mimetype": "text/x-python",
   "name": "python",
   "nbconvert_exporter": "python",
   "pygments_lexer": "ipython3",
   "version": "3.7.3"
  }
 },
 "nbformat": 4,
 "nbformat_minor": 2
}
