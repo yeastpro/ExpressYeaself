{
 "cells": [
  {
   "cell_type": "markdown",
   "metadata": {},
   "source": [
    "### Import all needed package"
   ]
  },
  {
   "cell_type": "code",
   "execution_count": 99,
   "metadata": {},
   "outputs": [
    {
     "data": {
      "text/plain": [
       "'C:\\\\Users\\\\Lisboa\\\\011019\\\\ExpressYeaself\\\\expressyeaself\\\\models\\\\lstm\\\\checkpoints\\\\'"
      ]
     },
     "execution_count": 99,
     "metadata": {},
     "output_type": "execute_result"
    }
   ],
   "source": [
    "import expressyeaself.construct_neural_net as construct\n",
    "import expressyeaself.encode_sequences as encode\n",
    "import expressyeaself.organize_data as organize\n",
    "import expressyeaself.encode_sequences as encode\n",
    "import os\n",
    "import ast\n",
    "import numpy as np\n",
    "import pandas as pd\n",
    "from keras import optimizers\n",
    "from keras.models import Sequential\n",
    "from keras.layers import Dense, Activation, LSTM, Dropout\n",
    "from keras.utils import to_categorical\n",
    "from keras.datasets import mnist\n",
    "from sklearn.preprocessing import OneHotEncoder\n",
    "import matplotlib.pyplot as plt\n",
    "from sklearn.model_selection import train_test_split\n",
    "from tensorflow.python.keras.callbacks import ModelCheckpoint, TensorBoard\n",
    "\n",
    "ROOT_DIR = os.getcwd() + '\\\\'\n",
    "SAVE_DIR = ROOT_DIR + 'expressyeaself\\\\models\\\\lstm\\\\saved_models\\\\'\n",
    "CHECKPOINTS_DIR = ROOT_DIR + 'expressyeaself\\\\models\\\\lstm\\\\checkpoints\\\\'\n",
    "CHECKPOINTS_DIR"
   ]
  },
  {
   "cell_type": "markdown",
   "metadata": {},
   "source": [
    "### Define the input data"
   ]
  },
  {
   "cell_type": "markdown",
   "metadata": {},
   "source": [
    "#### Using the full data set"
   ]
  },
  {
   "cell_type": "code",
   "execution_count": 45,
   "metadata": {},
   "outputs": [
    {
     "data": {
      "text/plain": [
       "'20190608104912821947_sequences_inserted_into_Abf1TATA_scaffold_padded_at_back_with_exp_levels.txt.gz'"
      ]
     },
     "execution_count": 45,
     "metadata": {},
     "output_type": "execute_result"
    }
   ],
   "source": [
    "sample_filename = ('20190608104912821947_sequences_inserted_into_Abf1TATA_scaffold_'\n",
    "                   'padded_at_back_with_exp_levels.txt.gz')\n",
    "sample_filename"
   ]
  },
  {
   "cell_type": "markdown",
   "metadata": {},
   "source": [
    "#### Using a smaller sample set"
   ]
  },
  {
   "cell_type": "code",
   "execution_count": 46,
   "metadata": {},
   "outputs": [],
   "source": [
    "sample_filename = '10000_from_' + sample_filename "
   ]
  },
  {
   "cell_type": "markdown",
   "metadata": {},
   "source": [
    "#### Define the absolute path"
   ]
  },
  {
   "cell_type": "code",
   "execution_count": 47,
   "metadata": {},
   "outputs": [],
   "source": [
    "sample_path = ROOT_DIR + 'example/processed_data/' + sample_filename"
   ]
  },
  {
   "cell_type": "markdown",
   "metadata": {},
   "source": [
    "### Encode sequences"
   ]
  },
  {
   "cell_type": "code",
   "execution_count": 48,
   "metadata": {},
   "outputs": [],
   "source": [
    "# Seems to give slightly better accuracy when expression level values aren't scaled.\n",
    "scale_els = False"
   ]
  },
  {
   "cell_type": "code",
   "execution_count": 54,
   "metadata": {},
   "outputs": [
    {
     "ename": "TypeError",
     "evalue": "'float' object cannot be interpreted as an integer",
     "output_type": "error",
     "traceback": [
      "\u001b[1;31m---------------------------------------------------------------------------\u001b[0m",
      "\u001b[1;31mTypeError\u001b[0m                                 Traceback (most recent call last)",
      "\u001b[1;32m<ipython-input-54-bdef6bbec98f>\u001b[0m in \u001b[0;36m<module>\u001b[1;34m\u001b[0m\n\u001b[1;32m----> 1\u001b[1;33m \u001b[0mX_padded\u001b[0m\u001b[1;33m,\u001b[0m \u001b[0my_scaled\u001b[0m\u001b[1;33m,\u001b[0m \u001b[0mabs_max_el\u001b[0m \u001b[1;33m=\u001b[0m \u001b[0mencode\u001b[0m\u001b[1;33m.\u001b[0m\u001b[0mencode_sequences_with_method\u001b[0m\u001b[1;33m(\u001b[0m\u001b[0msample_path\u001b[0m\u001b[1;33m,\u001b[0m \u001b[0mmethod\u001b[0m\u001b[1;33m=\u001b[0m\u001b[1;34m'One-Hot'\u001b[0m\u001b[1;33m,\u001b[0m \u001b[0mscale_els\u001b[0m\u001b[1;33m=\u001b[0m\u001b[0mscale_els\u001b[0m\u001b[1;33m,\u001b[0m \u001b[0mmodel_type\u001b[0m\u001b[1;33m=\u001b[0m\u001b[1;34m'LSTM'\u001b[0m\u001b[1;33m)\u001b[0m\u001b[1;33m\u001b[0m\u001b[1;33m\u001b[0m\u001b[0m\n\u001b[0m\u001b[0;32m      2\u001b[0m \u001b[0mnum_seqs\u001b[0m\u001b[1;33m,\u001b[0m \u001b[0mmax_sequence_len\u001b[0m \u001b[1;33m=\u001b[0m \u001b[0morganize\u001b[0m\u001b[1;33m.\u001b[0m\u001b[0mget_num_and_len_of_seqs_from_file\u001b[0m\u001b[1;33m(\u001b[0m\u001b[0msample_path\u001b[0m\u001b[1;33m)\u001b[0m\u001b[1;33m\u001b[0m\u001b[1;33m\u001b[0m\u001b[0m\n",
      "\u001b[1;32m~\\011019\\ExpressYeaself\\expressyeaself\\encode_sequences.py\u001b[0m in \u001b[0;36mencode_sequences_with_method\u001b[1;34m(input_seqs, method, scale_els, model_type)\u001b[0m\n\u001b[0;32m    129\u001b[0m     \u001b[1;32mif\u001b[0m \u001b[0mmodel_type\u001b[0m \u001b[1;33m==\u001b[0m \u001b[1;34m'LSTM'\u001b[0m\u001b[1;33m:\u001b[0m\u001b[1;33m\u001b[0m\u001b[1;33m\u001b[0m\u001b[0m\n\u001b[0;32m    130\u001b[0m         \u001b[0mencoded_seqs\u001b[0m \u001b[1;33m=\u001b[0m \u001b[0mencoded_seqs\u001b[0m\u001b[1;33m.\u001b[0m\u001b[0mreshape\u001b[0m\u001b[1;33m(\u001b[0m\u001b[1;33m-\u001b[0m\u001b[1;36m1\u001b[0m\u001b[1;33m)\u001b[0m\u001b[1;33m\u001b[0m\u001b[1;33m\u001b[0m\u001b[0m\n\u001b[1;32m--> 131\u001b[1;33m         \u001b[0mencoded_seqs\u001b[0m \u001b[1;33m=\u001b[0m \u001b[0mencoded_seqs\u001b[0m\u001b[1;33m.\u001b[0m\u001b[0mreshape\u001b[0m\u001b[1;33m(\u001b[0m\u001b[0mnum_seqs\u001b[0m\u001b[1;33m,\u001b[0m \u001b[1;36m1\u001b[0m\u001b[1;33m,\u001b[0m \u001b[1;36m5\u001b[0m \u001b[1;33m*\u001b[0m \u001b[0mlen_seq\u001b[0m\u001b[1;33m)\u001b[0m\u001b[1;33m\u001b[0m\u001b[1;33m\u001b[0m\u001b[0m\n\u001b[0m\u001b[0;32m    132\u001b[0m     \u001b[1;31m# Scale expression level values to between -1 and 1\u001b[0m\u001b[1;33m\u001b[0m\u001b[1;33m\u001b[0m\u001b[1;33m\u001b[0m\u001b[0m\n\u001b[0;32m    133\u001b[0m     \u001b[1;32mif\u001b[0m \u001b[0mscale_els\u001b[0m\u001b[1;33m:\u001b[0m\u001b[1;33m\u001b[0m\u001b[1;33m\u001b[0m\u001b[0m\n",
      "\u001b[1;31mTypeError\u001b[0m: 'float' object cannot be interpreted as an integer"
     ]
    }
   ],
   "source": [
    "X_padded, y_scaled, abs_max_el = encode.encode_sequences_with_method(sample_path, method='One-Hot', scale_els=scale_els, model_type='LSTM')\n",
    "num_seqs, max_sequence_len = organize.get_num_and_len_of_seqs_from_file(sample_path)"
   ]
  },
  {
   "cell_type": "code",
   "execution_count": 55,
   "metadata": {},
   "outputs": [],
   "source": [
    "X_padded, y_scaled, abs_max_el = encode.encode_sequences_with_method(sample_path, method='One-Hot', scale_els=scale_els)\n",
    "num_seqs, max_sequence_len = organize.get_num_and_len_of_seqs_from_file(sample_path)"
   ]
  },
  {
   "cell_type": "markdown",
   "metadata": {},
   "source": [
    "### Reshape encoded sequences"
   ]
  },
  {
   "cell_type": "code",
   "execution_count": 85,
   "metadata": {},
   "outputs": [],
   "source": [
    "X_padded = X_padded.reshape(-1)\n",
    "X_padded = X_padded.reshape(int(num_seqs), 1, 5 * int(max_sequence_len))"
   ]
  },
  {
   "cell_type": "markdown",
   "metadata": {},
   "source": [
    "### Reshape expression levels"
   ]
  },
  {
   "cell_type": "code",
   "execution_count": 87,
   "metadata": {},
   "outputs": [],
   "source": [
    "y_scaled = y_scaled.reshape(len(y_scaled), 1, 1)"
   ]
  },
  {
   "cell_type": "markdown",
   "metadata": {},
   "source": [
    "### Perform a train-test split"
   ]
  },
  {
   "cell_type": "code",
   "execution_count": 63,
   "metadata": {},
   "outputs": [],
   "source": [
    "test_size = 0.25"
   ]
  },
  {
   "cell_type": "code",
   "execution_count": 88,
   "metadata": {},
   "outputs": [],
   "source": [
    "X_train, X_test, y_train, y_test = train_test_split(X_padded, y_scaled, test_size=test_size)"
   ]
  },
  {
   "cell_type": "markdown",
   "metadata": {},
   "source": [
    "### Build the model architecture"
   ]
  },
  {
   "cell_type": "code",
   "execution_count": 96,
   "metadata": {},
   "outputs": [
    {
     "name": "stdout",
     "output_type": "stream",
     "text": [
      "_________________________________________________________________\n",
      "Layer (type)                 Output Shape              Param #   \n",
      "=================================================================\n",
      "dense_65 (Dense)             (None, 1, 1024)           1496064   \n",
      "_________________________________________________________________\n",
      "activation_65 (Activation)   (None, 1, 1024)           0         \n",
      "_________________________________________________________________\n",
      "dropout_20 (Dropout)         (None, 1, 1024)           0         \n",
      "_________________________________________________________________\n",
      "dense_66 (Dense)             (None, 1, 512)            524800    \n",
      "_________________________________________________________________\n",
      "activation_66 (Activation)   (None, 1, 512)            0         \n",
      "_________________________________________________________________\n",
      "dropout_21 (Dropout)         (None, 1, 512)            0         \n",
      "_________________________________________________________________\n",
      "dense_67 (Dense)             (None, 1, 256)            131328    \n",
      "_________________________________________________________________\n",
      "activation_67 (Activation)   (None, 1, 256)            0         \n",
      "_________________________________________________________________\n",
      "dropout_22 (Dropout)         (None, 1, 256)            0         \n",
      "_________________________________________________________________\n",
      "dense_68 (Dense)             (None, 1, 128)            32896     \n",
      "_________________________________________________________________\n",
      "activation_68 (Activation)   (None, 1, 128)            0         \n",
      "_________________________________________________________________\n",
      "dropout_23 (Dropout)         (None, 1, 128)            0         \n",
      "_________________________________________________________________\n",
      "dense_69 (Dense)             (None, 1, 64)             8256      \n",
      "_________________________________________________________________\n",
      "activation_69 (Activation)   (None, 1, 64)             0         \n",
      "_________________________________________________________________\n",
      "dropout_24 (Dropout)         (None, 1, 64)             0         \n",
      "_________________________________________________________________\n",
      "dense_70 (Dense)             (None, 1, 32)             2080      \n",
      "_________________________________________________________________\n",
      "activation_70 (Activation)   (None, 1, 32)             0         \n",
      "_________________________________________________________________\n",
      "dropout_25 (Dropout)         (None, 1, 32)             0         \n",
      "_________________________________________________________________\n",
      "dense_71 (Dense)             (None, 1, 16)             528       \n",
      "_________________________________________________________________\n",
      "activation_71 (Activation)   (None, 1, 16)             0         \n",
      "_________________________________________________________________\n",
      "dropout_26 (Dropout)         (None, 1, 16)             0         \n",
      "_________________________________________________________________\n",
      "dense_72 (Dense)             (None, 1, 8)              136       \n",
      "_________________________________________________________________\n",
      "activation_72 (Activation)   (None, 1, 8)              0         \n",
      "_________________________________________________________________\n",
      "lstm_11 (LSTM)               (None, 1, 1)              40        \n",
      "=================================================================\n",
      "Total params: 2,196,128\n",
      "Trainable params: 2,196,128\n",
      "Non-trainable params: 0\n",
      "_________________________________________________________________\n",
      "None\n"
     ]
    }
   ],
   "source": [
    "# Define the model parameters\n",
    "batch_size = int(len(y_scaled) * 0.01)  # no bigger than 1 % of data\n",
    "epochs = 2\n",
    "dropout = 0.5\n",
    "learning_rate = 0.01\n",
    "\n",
    "# Define the checkpointer to allow saving of models\n",
    "model_type = 'lstm_sequential_onehot'\n",
    "save_path = SAVE_DIR + model_type + '.hdf5'\n",
    "checkpointer = ModelCheckpoint(monitor='val_acc', \n",
    "                               filepath=save_path, \n",
    "                               verbose=1, \n",
    "                               save_best_only=True)\n",
    "\n",
    "# Define the model\n",
    "model = Sequential()\n",
    "\n",
    "# Build up the layers\n",
    "\n",
    "model.add(Dense(1024, kernel_initializer='uniform', input_shape=(1,5*int(max_sequence_len),)))\n",
    "model.add(Activation('softmax'))\n",
    "model.add(Dropout(dropout))\n",
    "model.add(Dense(512, kernel_initializer='uniform', input_shape=(1,1024,)))\n",
    "model.add(Activation('softmax'))\n",
    "model.add(Dropout(dropout))\n",
    "model.add(Dense(256, kernel_initializer='uniform', input_shape=(1,512,)))\n",
    "model.add(Activation('softmax'))\n",
    "model.add(Dropout(dropout))\n",
    "model.add(Dense(128, kernel_initializer='uniform', input_shape=(1,256,)))\n",
    "model.add(Activation('softmax'))\n",
    "model.add(Dropout(dropout))\n",
    "model.add(Dense(64, kernel_initializer='uniform', input_shape=(1,128,)))\n",
    "model.add(Activation('softmax'))\n",
    "model.add(Dropout(dropout))\n",
    "model.add(Dense(32, kernel_initializer='uniform', input_shape=(1,64,)))\n",
    "model.add(Activation('softmax'))\n",
    "model.add(Dropout(dropout))\n",
    "model.add(Dense(16, kernel_initializer='uniform', input_shape=(1,32,)))\n",
    "model.add(Activation('softmax'))\n",
    "model.add(Dropout(dropout))\n",
    "model.add(Dense(8, kernel_initializer='uniform', input_shape=(1,16,)))\n",
    "model.add(Activation('softmax'))\n",
    "\n",
    "model.add(LSTM(units=1, input_shape = (1,8), return_sequences=True))\n",
    "sgd = optimizers.SGD(lr=learning_rate, decay=1e-6, momentum=0.9, nesterov=True)\n",
    "\n",
    "# Compile the model\n",
    "model.compile(loss='mse', optimizer='rmsprop', metrics=['accuracy'])\n",
    "\n",
    "# Print model summary\n",
    "print(model.summary())"
   ]
  },
  {
   "cell_type": "markdown",
   "metadata": {},
   "source": [
    "### Fit and Evaluate the model"
   ]
  },
  {
   "cell_type": "code",
   "execution_count": 100,
   "metadata": {},
   "outputs": [
    {
     "name": "stdout",
     "output_type": "stream",
     "text": [
      "Train on 7500 samples, validate on 2500 samples\n",
      "Epoch 1/2\n",
      "7500/7500 [==============================] - 4s 596us/step - loss: 68.4757 - acc: 0.0156 - val_loss: 65.6233 - val_acc: 0.0120\n",
      "\n",
      "Epoch 00001: val_acc did not improve from 0.01200\n",
      "Epoch 2/2\n",
      "7500/7500 [==============================] - 4s 593us/step - loss: 67.6388 - acc: 0.0156 - val_loss: 64.7958 - val_acc: 0.0120\n",
      "\n",
      "Epoch 00002: val_acc did not improve from 0.01200\n",
      "acc: 1.20%\n"
     ]
    },
    {
     "data": {
      "image/png": "[encoded data removed]",
      "text/plain": [
       "<Figure size 432x288 with 2 Axes>"
      ]
     },
     "metadata": {
      "needs_background": "light"
     },
     "output_type": "display_data"
    }
   ],
   "source": [
    "# Fit\n",
    "history = model.fit(X_train, y_train, batch_size=batch_size, epochs=epochs,verbose=1,\n",
    "                    validation_data=(X_test, y_test), callbacks=[checkpointer])\n",
    "\n",
    "\n",
    "# Evaluate\n",
    "score = max(history.history['val_acc'])\n",
    "print(\"%s: %.2f%%\" % (model.metrics_names[1], score*100))\n",
    "plt = construct.plot_results(history.history)\n",
    "plt.show()"
   ]
  },
  {
   "cell_type": "code",
   "execution_count": null,
   "metadata": {},
   "outputs": [],
   "source": []
  }
 ],
 "metadata": {
  "kernelspec": {
   "display_name": "yeast",
   "language": "python",
   "name": "yeast"
  },
  "language_info": {
   "codemirror_mode": {
    "name": "ipython",
    "version": 3
   },
   "file_extension": ".py",
   "mimetype": "text/x-python",
   "name": "python",
   "nbconvert_exporter": "python",
   "pygments_lexer": "ipython3",
   "version": "3.7.1"
  }
 },
 "nbformat": 4,
 "nbformat_minor": 2
}
