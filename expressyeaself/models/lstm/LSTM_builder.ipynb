{
 "cells": [
  {
   "cell_type": "markdown",
   "metadata": {},
   "source": [
    "### Import all needed package"
   ]
  },
  {
   "cell_type": "code",
   "execution_count": 101,
   "metadata": {},
   "outputs": [
    {
     "data": {
      "text/plain": [
       "'C:\\\\Users\\\\Lisboa\\\\011019\\\\ExpressYeaself/'"
      ]
     },
     "execution_count": 101,
     "metadata": {},
     "output_type": "execute_result"
    }
   ],
   "source": [
    "import os\n",
    "import ast\n",
    "import numpy as np\n",
    "import pandas as pd\n",
    "from keras import optimizers\n",
    "from keras.models import Sequential\n",
    "from keras.layers import Dense, Activation, LSTM, Dropout\n",
    "from keras.utils import to_categorical\n",
    "from keras.datasets import mnist\n",
    "from sklearn.preprocessing import OneHotEncoder\n",
    "import matplotlib.pyplot as plt\n",
    "from sklearn.model_selection import train_test_split\n",
    "from tensorflow.python.keras.callbacks import ModelCheckpoint, TensorBoard\n",
    "import context\n",
    "\n",
    "build = context.build_promoter\n",
    "construct = context.construct_neural_net\n",
    "encode = context.encode_sequences\n",
    "organize = context.organize_data\n",
    "\n",
    "ROOT_DIR = os.getcwd()[:os.getcwd().rfind('Express')] + 'ExpressYeaself/'\n",
    "SAVE_DIR = ROOT_DIR + 'expressyeaself/models/lstm/saved_models/'\n",
    "ROOT_DIR"
   ]
  },
  {
   "cell_type": "markdown",
   "metadata": {},
   "source": [
    "### Define the input data"
   ]
  },
  {
   "cell_type": "markdown",
   "metadata": {},
   "source": [
    "#### Using the full data set"
   ]
  },
  {
   "cell_type": "code",
   "execution_count": 73,
   "metadata": {},
   "outputs": [],
   "source": [
    "sample_filename = ('10000_from_20190612130111781831_percentiles_els_binarized_homogeneous_deflanked_'\n",
    "                   'sequences_with_exp_levels.txt.gz')"
   ]
  },
  {
   "cell_type": "markdown",
   "metadata": {},
   "source": [
    "#### Define the absolute path"
   ]
  },
  {
   "cell_type": "code",
   "execution_count": 74,
   "metadata": {},
   "outputs": [],
   "source": [
    "sample_path = ROOT_DIR + 'example/processed_data/' + sample_filename"
   ]
  },
  {
   "cell_type": "markdown",
   "metadata": {},
   "source": [
    "### Encode sequences"
   ]
  },
  {
   "cell_type": "code",
   "execution_count": 75,
   "metadata": {},
   "outputs": [],
   "source": [
    "# Seems to give slightly better accuracy when expression level values aren't scaled.\n",
    "scale_els = False"
   ]
  },
  {
   "cell_type": "code",
   "execution_count": 76,
   "metadata": {},
   "outputs": [],
   "source": [
    "X_padded, y_scaled, abs_max_el = encode.encode_sequences_with_method(sample_path, method='One-Hot', scale_els=scale_els)\n",
    "num_seqs, max_sequence_len = organize.get_num_and_len_of_seqs_from_file(sample_path)"
   ]
  },
  {
   "cell_type": "markdown",
   "metadata": {},
   "source": [
    "### Bulid the 3 dimensions LSTM model"
   ]
  },
  {
   "cell_type": "markdown",
   "metadata": {},
   "source": [
    "#### Reshape encoded sequences"
   ]
  },
  {
   "cell_type": "code",
   "execution_count": 77,
   "metadata": {},
   "outputs": [],
   "source": [
    "X_padded = X_padded.reshape(-1)\n",
    "X_padded = X_padded.reshape(int(num_seqs), 1, 5 * int(max_sequence_len))"
   ]
  },
  {
   "cell_type": "markdown",
   "metadata": {},
   "source": [
    "#### Reshape expression levels"
   ]
  },
  {
   "cell_type": "code",
   "execution_count": 78,
   "metadata": {},
   "outputs": [],
   "source": [
    "y_scaled = y_scaled.reshape(len(y_scaled), 1, 1)"
   ]
  },
  {
   "cell_type": "markdown",
   "metadata": {},
   "source": [
    "#### Perform a train-test split"
   ]
  },
  {
   "cell_type": "code",
   "execution_count": 79,
   "metadata": {},
   "outputs": [],
   "source": [
    "test_size = 0.25"
   ]
  },
  {
   "cell_type": "code",
   "execution_count": 80,
   "metadata": {},
   "outputs": [],
   "source": [
    "X_train, X_test, y_train, y_test = train_test_split(X_padded, y_scaled, test_size=test_size)"
   ]
  },
  {
   "cell_type": "markdown",
   "metadata": {},
   "source": [
    "#### Build the model"
   ]
  },
  {
   "cell_type": "code",
   "execution_count": 81,
   "metadata": {},
   "outputs": [
    {
     "name": "stdout",
     "output_type": "stream",
     "text": [
      "_________________________________________________________________\n",
      "Layer (type)                 Output Shape              Param #   \n",
      "=================================================================\n",
      "dense_83 (Dense)             (None, 1, 1024)           410624    \n",
      "_________________________________________________________________\n",
      "activation_67 (Activation)   (None, 1, 1024)           0         \n",
      "_________________________________________________________________\n",
      "dropout_69 (Dropout)         (None, 1, 1024)           0         \n",
      "_________________________________________________________________\n",
      "dense_84 (Dense)             (None, 1, 256)            262400    \n",
      "_________________________________________________________________\n",
      "activation_68 (Activation)   (None, 1, 256)            0         \n",
      "_________________________________________________________________\n",
      "dropout_70 (Dropout)         (None, 1, 256)            0         \n",
      "_________________________________________________________________\n",
      "lstm_23 (LSTM)               (None, 1, 1)              1032      \n",
      "=================================================================\n",
      "Total params: 674,056\n",
      "Trainable params: 674,056\n",
      "Non-trainable params: 0\n",
      "_________________________________________________________________\n",
      "None\n"
     ]
    }
   ],
   "source": [
    "# Define the model parameters\n",
    "batch_size = int(len(y_scaled) * 0.01)  # no bigger than 1 % of data\n",
    "epochs = 50\n",
    "dropout = 0.3\n",
    "learning_rate = 0.01\n",
    "\n",
    "# Define the checkpointer to allow saving of models\n",
    "model_type = 'lstm_sequential_3d_onehot'\n",
    "save_path = SAVE_DIR + model_type + '.hdf5'\n",
    "checkpointer = ModelCheckpoint(monitor='val_acc', \n",
    "                               filepath=save_path, \n",
    "                               verbose=1, \n",
    "                               save_best_only=True)\n",
    "\n",
    "# Define the model\n",
    "model = Sequential()\n",
    "\n",
    "# Build up the layers\n",
    "\n",
    "model.add(Dense(1024, kernel_initializer='uniform', input_shape=(1,5*int(max_sequence_len),)))\n",
    "model.add(Activation('softmax'))\n",
    "model.add(Dropout(dropout))\n",
    "# model.add(Dense(512, kernel_initializer='uniform', input_shape=(1,1024,)))\n",
    "# model.add(Activation('softmax'))\n",
    "# model.add(Dropout(dropout))\n",
    "model.add(Dense(256, kernel_initializer='uniform', input_shape=(1,512,)))\n",
    "model.add(Activation('softmax'))\n",
    "model.add(Dropout(dropout))\n",
    "# model.add(Dense(128, kernel_initializer='uniform', input_shape=(1,256,)))\n",
    "# model.add(Activation('softmax'))\n",
    "# model.add(Dropout(dropout))\n",
    "# model.add(Dense(64, kernel_initializer='uniform', input_shape=(1,128,)))\n",
    "# model.add(Activation('softmax'))\n",
    "# model.add(Dropout(dropout))\n",
    "# model.add(Dense(32, kernel_initializer='uniform', input_shape=(1,64,)))\n",
    "# model.add(Activation('softmax'))\n",
    "# model.add(Dropout(dropout))\n",
    "# model.add(Dense(16, kernel_initializer='uniform', input_shape=(1,32,)))\n",
    "# model.add(Activation('softmax'))\n",
    "# model.add(Dropout(dropout))\n",
    "# model.add(Dense(8, kernel_initializer='uniform', input_shape=(1,16,)))\n",
    "# model.add(Activation('softmax'))\n",
    "model.add(LSTM(units=1, return_sequences=True))\n",
    "sgd = optimizers.SGD(lr=learning_rate, decay=1e-6, momentum=0.9, nesterov=True)\n",
    "\n",
    "# Compile the model\n",
    "model.compile(loss='mse', optimizer='rmsprop', metrics=['accuracy'])\n",
    "\n",
    "# Print model summary\n",
    "print(model.summary())\n",
    "\n",
    "\n",
    "\n",
    "# model.add(LSTM(100,input_shape=(int(max_sequence_len), 5)))\n",
    "# model.add(Dropout(dropout))\n",
    "# model.add(Dense(50, activation='sigmoid'))\n",
    "# # model.add(Dense(25, activation='sigmoid'))\n",
    "# # model.add(Dense(12, activation='sigmoid'))\n",
    "# # model.add(Dense(6, activation='sigmoid'))\n",
    "# # model.add(Dense(3, activation='sigmoid'))\n",
    "# model.add(Dense(1, activation='sigmoid'))\n",
    "\n",
    "# model.compile(loss='mse',\n",
    "#               optimizer='rmsprop',\n",
    "#               metrics=['accuracy'])\n",
    "# print(model.summary())"
   ]
  },
  {
   "cell_type": "markdown",
   "metadata": {},
   "source": [
    "### Fit and Evaluate the model"
   ]
  },
  {
   "cell_type": "code",
   "execution_count": 82,
   "metadata": {},
   "outputs": [
    {
     "name": "stdout",
     "output_type": "stream",
     "text": [
      "Train on 7500 samples, validate on 2500 samples\n",
      "Epoch 1/50\n",
      "7500/7500 [==============================] - 4s 518us/step - loss: 0.4875 - acc: 0.4871 - val_loss: 0.4596 - val_acc: 0.4916\n",
      "\n",
      "Epoch 00001: val_acc improved from -inf to 0.49160, saving model to C:\\Users\\Lisboa\\011019\\ExpressYeaself/expressyeaself/models/lstm/saved_models/lstm_sequential_3d_onehot.hdf5\n",
      "Epoch 2/50\n",
      "7500/7500 [==============================] - 2s 228us/step - loss: 0.4402 - acc: 0.4871 - val_loss: 0.4132 - val_acc: 0.4916\n",
      "\n",
      "Epoch 00002: val_acc did not improve from 0.49160\n",
      "Epoch 3/50\n",
      "7500/7500 [==============================] - 2s 253us/step - loss: 0.3953 - acc: 0.4871 - val_loss: 0.3709 - val_acc: 0.4916\n",
      "\n",
      "Epoch 00003: val_acc did not improve from 0.49160\n",
      "Epoch 4/50\n",
      "7500/7500 [==============================] - 2s 274us/step - loss: 0.3553 - acc: 0.4871 - val_loss: 0.3349 - val_acc: 0.4916\n",
      "\n",
      "Epoch 00004: val_acc did not improve from 0.49160\n",
      "Epoch 5/50\n",
      "7500/7500 [==============================] - 2s 289us/step - loss: 0.3230 - acc: 0.4871 - val_loss: 0.3061 - val_acc: 0.4916\n",
      "\n",
      "Epoch 00005: val_acc did not improve from 0.49160\n",
      "Epoch 6/50\n",
      "7500/7500 [==============================] - 2s 261us/step - loss: 0.2967 - acc: 0.4871 - val_loss: 0.2843 - val_acc: 0.4916\n",
      "\n",
      "Epoch 00006: val_acc did not improve from 0.49160\n",
      "Epoch 7/50\n",
      "7500/7500 [==============================] - 2s 232us/step - loss: 0.2780 - acc: 0.4871 - val_loss: 0.2693 - val_acc: 0.4916\n",
      "\n",
      "Epoch 00007: val_acc did not improve from 0.49160\n",
      "Epoch 8/50\n",
      "7500/7500 [==============================] - 2s 240us/step - loss: 0.2650 - acc: 0.4871 - val_loss: 0.2592 - val_acc: 0.4916\n",
      "\n",
      "Epoch 00008: val_acc did not improve from 0.49160\n",
      "Epoch 9/50\n",
      "7500/7500 [==============================] - 2s 239us/step - loss: 0.2571 - acc: 0.4871 - val_loss: 0.2536 - val_acc: 0.4916\n",
      "\n",
      "Epoch 00009: val_acc did not improve from 0.49160\n",
      "Epoch 10/50\n",
      "7500/7500 [==============================] - 2s 235us/step - loss: 0.2525 - acc: 0.4845 - val_loss: 0.2509 - val_acc: 0.4916\n",
      "\n",
      "Epoch 00010: val_acc did not improve from 0.49160\n",
      "Epoch 11/50\n",
      "7500/7500 [==============================] - 2s 257us/step - loss: 0.2507 - acc: 0.4863 - val_loss: 0.2501 - val_acc: 0.4916\n",
      "\n",
      "Epoch 00011: val_acc did not improve from 0.49160\n",
      "Epoch 12/50\n",
      "7500/7500 [==============================] - 2s 261us/step - loss: 0.2499 - acc: 0.5123 - val_loss: 0.2500 - val_acc: 0.5084\n",
      "\n",
      "Epoch 00012: val_acc improved from 0.49160 to 0.50840, saving model to C:\\Users\\Lisboa\\011019\\ExpressYeaself/expressyeaself/models/lstm/saved_models/lstm_sequential_3d_onehot.hdf5\n",
      "Epoch 13/50\n",
      "7500/7500 [==============================] - 2s 231us/step - loss: 0.2498 - acc: 0.5055 - val_loss: 0.2499 - val_acc: 0.5084\n",
      "\n",
      "Epoch 00013: val_acc did not improve from 0.50840\n",
      "Epoch 14/50\n",
      "7500/7500 [==============================] - 2s 233us/step - loss: 0.2499 - acc: 0.5119 - val_loss: 0.2499 - val_acc: 0.5084\n",
      "\n",
      "Epoch 00014: val_acc did not improve from 0.50840\n",
      "Epoch 15/50\n",
      "7500/7500 [==============================] - 2s 240us/step - loss: 0.2498 - acc: 0.5116 - val_loss: 0.2497 - val_acc: 0.5084\n",
      "\n",
      "Epoch 00015: val_acc did not improve from 0.50840\n",
      "Epoch 16/50\n",
      "7500/7500 [==============================] - 2s 251us/step - loss: 0.2499 - acc: 0.5035 - val_loss: 0.2496 - val_acc: 0.5084\n",
      "\n",
      "Epoch 00016: val_acc did not improve from 0.50840\n",
      "Epoch 17/50\n",
      "7500/7500 [==============================] - 2s 231us/step - loss: 0.2493 - acc: 0.5173 - val_loss: 0.2493 - val_acc: 0.5084\n",
      "\n",
      "Epoch 00017: val_acc did not improve from 0.50840\n",
      "Epoch 18/50\n",
      "7500/7500 [==============================] - 2s 233us/step - loss: 0.2491 - acc: 0.5136 - val_loss: 0.2489 - val_acc: 0.5084\n",
      "\n",
      "Epoch 00018: val_acc did not improve from 0.50840\n",
      "Epoch 19/50\n",
      "7500/7500 [==============================] - 2s 260us/step - loss: 0.2487 - acc: 0.5215 - val_loss: 0.2482 - val_acc: 0.5084\n",
      "\n",
      "Epoch 00019: val_acc did not improve from 0.50840\n",
      "Epoch 20/50\n",
      "7500/7500 [==============================] - 2s 241us/step - loss: 0.2480 - acc: 0.5232 - val_loss: 0.2472 - val_acc: 0.5084\n",
      "\n",
      "Epoch 00020: val_acc did not improve from 0.50840\n",
      "Epoch 21/50\n",
      "7500/7500 [==============================] - 2s 235us/step - loss: 0.2465 - acc: 0.5483 - val_loss: 0.2456 - val_acc: 0.5228\n",
      "\n",
      "Epoch 00021: val_acc improved from 0.50840 to 0.52280, saving model to C:\\Users\\Lisboa\\011019\\ExpressYeaself/expressyeaself/models/lstm/saved_models/lstm_sequential_3d_onehot.hdf5\n",
      "Epoch 22/50\n",
      "7500/7500 [==============================] - 2s 232us/step - loss: 0.2447 - acc: 0.5836 - val_loss: 0.2434 - val_acc: 0.6772\n",
      "\n",
      "Epoch 00022: val_acc improved from 0.52280 to 0.67720, saving model to C:\\Users\\Lisboa\\011019\\ExpressYeaself/expressyeaself/models/lstm/saved_models/lstm_sequential_3d_onehot.hdf5\n",
      "Epoch 23/50\n",
      "7500/7500 [==============================] - 2s 243us/step - loss: 0.2423 - acc: 0.6076 - val_loss: 0.2405 - val_acc: 0.7304\n",
      "\n",
      "Epoch 00023: val_acc improved from 0.67720 to 0.73040, saving model to C:\\Users\\Lisboa\\011019\\ExpressYeaself/expressyeaself/models/lstm/saved_models/lstm_sequential_3d_onehot.hdf5\n",
      "Epoch 24/50\n",
      "7500/7500 [==============================] - 2s 226us/step - loss: 0.2392 - acc: 0.6444 - val_loss: 0.2367 - val_acc: 0.7408\n",
      "\n",
      "Epoch 00024: val_acc improved from 0.73040 to 0.74080, saving model to C:\\Users\\Lisboa\\011019\\ExpressYeaself/expressyeaself/models/lstm/saved_models/lstm_sequential_3d_onehot.hdf5\n",
      "Epoch 25/50\n",
      "7500/7500 [==============================] - 2s 231us/step - loss: 0.2351 - acc: 0.6543 - val_loss: 0.2322 - val_acc: 0.7428\n",
      "\n",
      "Epoch 00025: val_acc improved from 0.74080 to 0.74280, saving model to C:\\Users\\Lisboa\\011019\\ExpressYeaself/expressyeaself/models/lstm/saved_models/lstm_sequential_3d_onehot.hdf5\n",
      "Epoch 26/50\n",
      "7500/7500 [==============================] - 2s 243us/step - loss: 0.2302 - acc: 0.6628 - val_loss: 0.2268 - val_acc: 0.7436\n",
      "\n",
      "Epoch 00026: val_acc improved from 0.74280 to 0.74360, saving model to C:\\Users\\Lisboa\\011019\\ExpressYeaself/expressyeaself/models/lstm/saved_models/lstm_sequential_3d_onehot.hdf5\n",
      "Epoch 27/50\n",
      "7500/7500 [==============================] - 2s 227us/step - loss: 0.2268 - acc: 0.6549 - val_loss: 0.2206 - val_acc: 0.7436\n",
      "\n",
      "Epoch 00027: val_acc did not improve from 0.74360\n",
      "Epoch 28/50\n",
      "7500/7500 [==============================] - 2s 227us/step - loss: 0.2215 - acc: 0.6632 - val_loss: 0.2146 - val_acc: 0.7432\n",
      "\n",
      "Epoch 00028: val_acc did not improve from 0.74360\n",
      "Epoch 29/50\n",
      "7500/7500 [==============================] - 2s 237us/step - loss: 0.2163 - acc: 0.6629 - val_loss: 0.2076 - val_acc: 0.7472\n",
      "\n",
      "Epoch 00029: val_acc improved from 0.74360 to 0.74720, saving model to C:\\Users\\Lisboa\\011019\\ExpressYeaself/expressyeaself/models/lstm/saved_models/lstm_sequential_3d_onehot.hdf5\n",
      "Epoch 30/50\n",
      "7500/7500 [==============================] - 2s 228us/step - loss: 0.2110 - acc: 0.6712 - val_loss: 0.2015 - val_acc: 0.7464\n",
      "\n",
      "Epoch 00030: val_acc did not improve from 0.74720\n",
      "Epoch 31/50\n",
      "7500/7500 [==============================] - 2s 219us/step - loss: 0.2107 - acc: 0.6613 - val_loss: 0.1977 - val_acc: 0.7444\n",
      "\n",
      "Epoch 00031: val_acc did not improve from 0.74720\n",
      "Epoch 32/50\n",
      "7500/7500 [==============================] - 2s 222us/step - loss: 0.2060 - acc: 0.6609 - val_loss: 0.1938 - val_acc: 0.7452\n",
      "\n",
      "Epoch 00032: val_acc did not improve from 0.74720\n",
      "Epoch 33/50\n",
      "7500/7500 [==============================] - 2s 229us/step - loss: 0.2038 - acc: 0.6645 - val_loss: 0.1918 - val_acc: 0.7396\n",
      "\n",
      "Epoch 00033: val_acc did not improve from 0.74720\n",
      "Epoch 34/50\n",
      "7500/7500 [==============================] - 2s 223us/step - loss: 0.2050 - acc: 0.6579 - val_loss: 0.1900 - val_acc: 0.7412\n",
      "\n",
      "Epoch 00034: val_acc did not improve from 0.74720\n",
      "Epoch 35/50\n",
      "7500/7500 [==============================] - 2s 222us/step - loss: 0.2015 - acc: 0.6673 - val_loss: 0.1888 - val_acc: 0.7392\n",
      "\n",
      "Epoch 00035: val_acc did not improve from 0.74720\n",
      "Epoch 36/50\n",
      "7500/7500 [==============================] - 2s 226us/step - loss: 0.2011 - acc: 0.6716 - val_loss: 0.1880 - val_acc: 0.7396\n",
      "\n",
      "Epoch 00036: val_acc did not improve from 0.74720\n",
      "Epoch 37/50\n",
      "7500/7500 [==============================] - 2s 225us/step - loss: 0.2018 - acc: 0.6609 - val_loss: 0.1879 - val_acc: 0.7420\n",
      "\n",
      "Epoch 00037: val_acc did not improve from 0.74720\n",
      "Epoch 38/50\n",
      "7500/7500 [==============================] - 2s 224us/step - loss: 0.2016 - acc: 0.6673 - val_loss: 0.1879 - val_acc: 0.7408\n",
      "\n",
      "Epoch 00038: val_acc did not improve from 0.74720\n",
      "Epoch 39/50\n",
      "7500/7500 [==============================] - 2s 236us/step - loss: 0.2010 - acc: 0.6607 - val_loss: 0.1873 - val_acc: 0.7376\n",
      "\n",
      "Epoch 00039: val_acc did not improve from 0.74720\n",
      "Epoch 40/50\n",
      "7500/7500 [==============================] - 2s 221us/step - loss: 0.2036 - acc: 0.6577 - val_loss: 0.1879 - val_acc: 0.7384\n",
      "\n",
      "Epoch 00040: val_acc did not improve from 0.74720\n",
      "Epoch 41/50\n",
      "7500/7500 [==============================] - 2s 224us/step - loss: 0.2037 - acc: 0.6576 - val_loss: 0.1882 - val_acc: 0.7388\n",
      "\n",
      "Epoch 00041: val_acc did not improve from 0.74720\n",
      "Epoch 42/50\n",
      "7500/7500 [==============================] - 2s 222us/step - loss: 0.2025 - acc: 0.6592 - val_loss: 0.1880 - val_acc: 0.7372\n",
      "\n",
      "Epoch 00042: val_acc did not improve from 0.74720\n",
      "Epoch 43/50\n",
      "7500/7500 [==============================] - 2s 243us/step - loss: 0.2020 - acc: 0.6655 - val_loss: 0.1877 - val_acc: 0.7424\n",
      "\n",
      "Epoch 00043: val_acc did not improve from 0.74720\n",
      "Epoch 44/50\n",
      "7500/7500 [==============================] - 2s 220us/step - loss: 0.1992 - acc: 0.6673 - val_loss: 0.1874 - val_acc: 0.7444\n",
      "\n",
      "Epoch 00044: val_acc did not improve from 0.74720\n",
      "Epoch 45/50\n",
      "7500/7500 [==============================] - 2s 220us/step - loss: 0.1995 - acc: 0.6731 - val_loss: 0.1873 - val_acc: 0.7416\n",
      "\n",
      "Epoch 00045: val_acc did not improve from 0.74720\n",
      "Epoch 46/50\n",
      "7500/7500 [==============================] - 2s 251us/step - loss: 0.1991 - acc: 0.6673 - val_loss: 0.1873 - val_acc: 0.7348\n",
      "\n",
      "Epoch 00046: val_acc did not improve from 0.74720\n",
      "Epoch 47/50\n",
      "7500/7500 [==============================] - 2s 236us/step - loss: 0.2003 - acc: 0.6736 - val_loss: 0.1876 - val_acc: 0.7340\n",
      "\n",
      "Epoch 00047: val_acc did not improve from 0.74720\n",
      "Epoch 48/50\n",
      "7500/7500 [==============================] - 2s 221us/step - loss: 0.2008 - acc: 0.6668 - val_loss: 0.1876 - val_acc: 0.7364\n",
      "\n",
      "Epoch 00048: val_acc did not improve from 0.74720\n",
      "Epoch 49/50\n",
      "7500/7500 [==============================] - 2s 222us/step - loss: 0.2016 - acc: 0.6648 - val_loss: 0.1877 - val_acc: 0.7408\n",
      "\n",
      "Epoch 00049: val_acc did not improve from 0.74720\n",
      "Epoch 50/50\n",
      "7500/7500 [==============================] - 2s 234us/step - loss: 0.2001 - acc: 0.6737 - val_loss: 0.1888 - val_acc: 0.7320\n",
      "\n",
      "Epoch 00050: val_acc did not improve from 0.74720\n",
      "acc: 74.72%\n"
     ]
    },
    {
     "data": {
      "image/png": "[encoded data removed]",
      "text/plain": [
       "<Figure size 432x288 with 2 Axes>"
      ]
     },
     "metadata": {
      "needs_background": "light"
     },
     "output_type": "display_data"
    }
   ],
   "source": [
    "# Fit\n",
    "history = model.fit(X_train, y_train, batch_size=batch_size, epochs=epochs,verbose=1,\n",
    "                    validation_data=(X_test, y_test), callbacks=[checkpointer])\n",
    "\n",
    "\n",
    "# Evaluate\n",
    "score = max(history.history['val_acc'])\n",
    "print(\"%s: %.2f%%\" % (model.metrics_names[1], score*100))\n",
    "plt = construct.plot_results(history.history)\n",
    "plt.show()"
   ]
  },
  {
   "cell_type": "markdown",
   "metadata": {},
   "source": [
    "### Bulid the 2 dimensions LSTM model"
   ]
  },
  {
   "cell_type": "markdown",
   "metadata": {},
   "source": [
    "As for the data we have, we only have 1 output and that means we only have 1 time step, if we can delete that dimension in that model, then we can have a 2 dimensions LSTM model."
   ]
  },
  {
   "cell_type": "markdown",
   "metadata": {},
   "source": [
    "#### Load the data again"
   ]
  },
  {
   "cell_type": "code",
   "execution_count": 83,
   "metadata": {},
   "outputs": [],
   "source": [
    "X_padded, y_scaled, abs_max_el = encode.encode_sequences_with_method(sample_path, method='One-Hot', scale_els=scale_els)\n",
    "num_seqs, max_sequence_len = organize.get_num_and_len_of_seqs_from_file(sample_path)\n",
    "test_size = 0.25\n",
    "X_train, X_test, y_train, y_test = train_test_split(X_padded, y_scaled, test_size=test_size)"
   ]
  },
  {
   "cell_type": "markdown",
   "metadata": {},
   "source": [
    "#### Build up the model"
   ]
  },
  {
   "cell_type": "code",
   "execution_count": 84,
   "metadata": {},
   "outputs": [
    {
     "name": "stdout",
     "output_type": "stream",
     "text": [
      "_________________________________________________________________\n",
      "Layer (type)                 Output Shape              Param #   \n",
      "=================================================================\n",
      "lstm_24 (LSTM)               (None, 100)               42400     \n",
      "_________________________________________________________________\n",
      "dropout_71 (Dropout)         (None, 100)               0         \n",
      "_________________________________________________________________\n",
      "dense_85 (Dense)             (None, 50)                5050      \n",
      "_________________________________________________________________\n",
      "dense_86 (Dense)             (None, 1)                 51        \n",
      "=================================================================\n",
      "Total params: 47,501\n",
      "Trainable params: 47,501\n",
      "Non-trainable params: 0\n",
      "_________________________________________________________________\n",
      "None\n"
     ]
    }
   ],
   "source": [
    "# Define the model parameters\n",
    "batch_size = int(len(y_scaled) * 0.01)  # no bigger than 1 % of data\n",
    "epochs = 50\n",
    "dropout = 0.3\n",
    "learning_rate = 0.01\n",
    "\n",
    "# Define the checkpointer to allow saving of models\n",
    "model_type = 'lstm_sequential_2d_onehot'\n",
    "save_path = SAVE_DIR + model_type + '.hdf5'\n",
    "checkpointer = ModelCheckpoint(monitor='val_acc', \n",
    "                               filepath=save_path, \n",
    "                               verbose=1, \n",
    "                               save_best_only=True)\n",
    "\n",
    "# Define the model\n",
    "model = Sequential()\n",
    "\n",
    "# Build up the layers\n",
    "\n",
    "\n",
    "model.add(LSTM(100,input_shape=(int(max_sequence_len), 5)))\n",
    "model.add(Dropout(dropout))\n",
    "model.add(Dense(50, activation='sigmoid'))\n",
    "# model.add(Dense(25, activation='sigmoid'))\n",
    "# model.add(Dense(12, activation='sigmoid'))\n",
    "# model.add(Dense(6, activation='sigmoid'))\n",
    "# model.add(Dense(3, activation='sigmoid'))\n",
    "model.add(Dense(1, activation='sigmoid'))\n",
    "\n",
    "model.compile(loss='mse',\n",
    "              optimizer='rmsprop',\n",
    "              metrics=['accuracy'])\n",
    "print(model.summary())"
   ]
  },
  {
   "cell_type": "markdown",
   "metadata": {},
   "source": [
    "### Fit and Evaluate the model"
   ]
  },
  {
   "cell_type": "code",
   "execution_count": 85,
   "metadata": {},
   "outputs": [
    {
     "name": "stdout",
     "output_type": "stream",
     "text": [
      "Train on 7500 samples, validate on 2500 samples\n",
      "Epoch 1/50\n",
      "7500/7500 [==============================] - 14s 2ms/step - loss: 0.2162 - acc: 0.6525 - val_loss: 0.1820 - val_acc: 0.7400\n",
      "\n",
      "Epoch 00001: val_acc improved from -inf to 0.74000, saving model to C:\\Users\\Lisboa\\011019\\ExpressYeaself/expressyeaself/models/lstm/saved_models/lstm_sequential_2d_onehot.hdf5\n",
      "Epoch 2/50\n",
      "7500/7500 [==============================] - 12s 2ms/step - loss: 0.1914 - acc: 0.7165 - val_loss: 0.2017 - val_acc: 0.6908\n",
      "\n",
      "Epoch 00002: val_acc did not improve from 0.74000\n",
      "Epoch 3/50\n",
      "7500/7500 [==============================] - 12s 2ms/step - loss: 0.1878 - acc: 0.7213 - val_loss: 0.2140 - val_acc: 0.6796\n",
      "\n",
      "Epoch 00003: val_acc did not improve from 0.74000\n",
      "Epoch 4/50\n",
      "7500/7500 [==============================] - 12s 2ms/step - loss: 0.1836 - acc: 0.7336 - val_loss: 0.1915 - val_acc: 0.7348\n",
      "\n",
      "Epoch 00004: val_acc did not improve from 0.74000\n",
      "Epoch 5/50\n",
      "7500/7500 [==============================] - 12s 2ms/step - loss: 0.1794 - acc: 0.7367 - val_loss: 0.1676 - val_acc: 0.7644\n",
      "\n",
      "Epoch 00005: val_acc improved from 0.74000 to 0.76440, saving model to C:\\Users\\Lisboa\\011019\\ExpressYeaself/expressyeaself/models/lstm/saved_models/lstm_sequential_2d_onehot.hdf5\n",
      "Epoch 6/50\n",
      "7500/7500 [==============================] - 12s 2ms/step - loss: 0.1777 - acc: 0.7412 - val_loss: 0.1708 - val_acc: 0.7568\n",
      "\n",
      "Epoch 00006: val_acc did not improve from 0.76440\n",
      "Epoch 7/50\n",
      "7500/7500 [==============================] - 12s 2ms/step - loss: 0.1760 - acc: 0.7393 - val_loss: 0.1574 - val_acc: 0.7792\n",
      "\n",
      "Epoch 00007: val_acc improved from 0.76440 to 0.77920, saving model to C:\\Users\\Lisboa\\011019\\ExpressYeaself/expressyeaself/models/lstm/saved_models/lstm_sequential_2d_onehot.hdf5\n",
      "Epoch 8/50\n",
      "7500/7500 [==============================] - 12s 2ms/step - loss: 0.1708 - acc: 0.7479 - val_loss: 0.1586 - val_acc: 0.7760\n",
      "\n",
      "Epoch 00008: val_acc did not improve from 0.77920\n",
      "Epoch 9/50\n",
      "7500/7500 [==============================] - 12s 2ms/step - loss: 0.1681 - acc: 0.7552 - val_loss: 0.1496 - val_acc: 0.7908\n",
      "\n",
      "Epoch 00009: val_acc improved from 0.77920 to 0.79080, saving model to C:\\Users\\Lisboa\\011019\\ExpressYeaself/expressyeaself/models/lstm/saved_models/lstm_sequential_2d_onehot.hdf5\n",
      "Epoch 10/50\n",
      "7500/7500 [==============================] - 12s 2ms/step - loss: 0.1647 - acc: 0.7640 - val_loss: 0.1537 - val_acc: 0.7824\n",
      "\n",
      "Epoch 00010: val_acc did not improve from 0.79080\n",
      "Epoch 11/50\n",
      "7500/7500 [==============================] - 12s 2ms/step - loss: 0.1609 - acc: 0.7723 - val_loss: 0.1446 - val_acc: 0.7972\n",
      "\n",
      "Epoch 00011: val_acc improved from 0.79080 to 0.79720, saving model to C:\\Users\\Lisboa\\011019\\ExpressYeaself/expressyeaself/models/lstm/saved_models/lstm_sequential_2d_onehot.hdf5\n",
      "Epoch 12/50\n",
      "7500/7500 [==============================] - 12s 2ms/step - loss: 0.1563 - acc: 0.7759 - val_loss: 0.1449 - val_acc: 0.7936\n",
      "\n",
      "Epoch 00012: val_acc did not improve from 0.79720\n",
      "Epoch 13/50\n",
      "7500/7500 [==============================] - 12s 2ms/step - loss: 0.1543 - acc: 0.7805 - val_loss: 0.1408 - val_acc: 0.8112\n",
      "\n",
      "Epoch 00013: val_acc improved from 0.79720 to 0.81120, saving model to C:\\Users\\Lisboa\\011019\\ExpressYeaself/expressyeaself/models/lstm/saved_models/lstm_sequential_2d_onehot.hdf5\n",
      "Epoch 14/50\n",
      "7500/7500 [==============================] - 12s 2ms/step - loss: 0.1517 - acc: 0.7836 - val_loss: 0.1394 - val_acc: 0.8092\n",
      "\n",
      "Epoch 00014: val_acc did not improve from 0.81120\n",
      "Epoch 15/50\n",
      "7500/7500 [==============================] - 12s 2ms/step - loss: 0.1476 - acc: 0.7887 - val_loss: 0.1395 - val_acc: 0.8048\n",
      "\n",
      "Epoch 00015: val_acc did not improve from 0.81120\n",
      "Epoch 16/50\n",
      "7500/7500 [==============================] - 12s 2ms/step - loss: 0.1466 - acc: 0.7915 - val_loss: 0.1434 - val_acc: 0.7948\n",
      "\n",
      "Epoch 00016: val_acc did not improve from 0.81120\n",
      "Epoch 17/50\n",
      "7500/7500 [==============================] - 12s 2ms/step - loss: 0.1461 - acc: 0.7920 - val_loss: 0.1447 - val_acc: 0.7948\n",
      "\n",
      "Epoch 00017: val_acc did not improve from 0.81120\n",
      "Epoch 18/50\n",
      "7500/7500 [==============================] - 12s 2ms/step - loss: 0.1434 - acc: 0.7995 - val_loss: 0.1458 - val_acc: 0.8000\n",
      "\n",
      "Epoch 00018: val_acc did not improve from 0.81120\n",
      "Epoch 19/50\n",
      "7500/7500 [==============================] - 12s 2ms/step - loss: 0.1422 - acc: 0.8047 - val_loss: 0.1321 - val_acc: 0.8184\n",
      "\n",
      "Epoch 00019: val_acc improved from 0.81120 to 0.81840, saving model to C:\\Users\\Lisboa\\011019\\ExpressYeaself/expressyeaself/models/lstm/saved_models/lstm_sequential_2d_onehot.hdf5\n",
      "Epoch 20/50\n",
      "7500/7500 [==============================] - 12s 2ms/step - loss: 0.1416 - acc: 0.8045 - val_loss: 0.1334 - val_acc: 0.8148\n",
      "\n",
      "Epoch 00020: val_acc did not improve from 0.81840\n",
      "Epoch 21/50\n",
      "7500/7500 [==============================] - 12s 2ms/step - loss: 0.1397 - acc: 0.8043 - val_loss: 0.1283 - val_acc: 0.8228\n",
      "\n",
      "Epoch 00021: val_acc improved from 0.81840 to 0.82280, saving model to C:\\Users\\Lisboa\\011019\\ExpressYeaself/expressyeaself/models/lstm/saved_models/lstm_sequential_2d_onehot.hdf5\n",
      "Epoch 22/50\n",
      "7500/7500 [==============================] - 12s 2ms/step - loss: 0.1392 - acc: 0.8084 - val_loss: 0.1316 - val_acc: 0.8204\n",
      "\n",
      "Epoch 00022: val_acc did not improve from 0.82280\n",
      "Epoch 23/50\n",
      "7500/7500 [==============================] - 12s 2ms/step - loss: 0.1382 - acc: 0.8108 - val_loss: 0.1272 - val_acc: 0.8248\n",
      "\n",
      "Epoch 00023: val_acc improved from 0.82280 to 0.82480, saving model to C:\\Users\\Lisboa\\011019\\ExpressYeaself/expressyeaself/models/lstm/saved_models/lstm_sequential_2d_onehot.hdf5\n",
      "Epoch 24/50\n",
      "7500/7500 [==============================] - 12s 2ms/step - loss: 0.1357 - acc: 0.8121 - val_loss: 0.1365 - val_acc: 0.8112\n",
      "\n",
      "Epoch 00024: val_acc did not improve from 0.82480\n",
      "Epoch 25/50\n",
      "7500/7500 [==============================] - 12s 2ms/step - loss: 0.1345 - acc: 0.8183 - val_loss: 0.1419 - val_acc: 0.7972\n",
      "\n",
      "Epoch 00025: val_acc did not improve from 0.82480\n",
      "Epoch 26/50\n",
      "7500/7500 [==============================] - 13s 2ms/step - loss: 0.1332 - acc: 0.8196 - val_loss: 0.1408 - val_acc: 0.8064\n",
      "\n",
      "Epoch 00026: val_acc did not improve from 0.82480\n",
      "Epoch 27/50\n",
      "7500/7500 [==============================] - 12s 2ms/step - loss: 0.1319 - acc: 0.8168 - val_loss: 0.1319 - val_acc: 0.8280\n",
      "\n",
      "Epoch 00027: val_acc improved from 0.82480 to 0.82800, saving model to C:\\Users\\Lisboa\\011019\\ExpressYeaself/expressyeaself/models/lstm/saved_models/lstm_sequential_2d_onehot.hdf5\n",
      "Epoch 28/50\n",
      "7500/7500 [==============================] - 12s 2ms/step - loss: 0.1316 - acc: 0.8180 - val_loss: 0.1440 - val_acc: 0.7936\n",
      "\n",
      "Epoch 00028: val_acc did not improve from 0.82800\n",
      "Epoch 29/50\n",
      "7500/7500 [==============================] - 12s 2ms/step - loss: 0.1308 - acc: 0.8199 - val_loss: 0.1217 - val_acc: 0.8308\n",
      "\n",
      "Epoch 00029: val_acc improved from 0.82800 to 0.83080, saving model to C:\\Users\\Lisboa\\011019\\ExpressYeaself/expressyeaself/models/lstm/saved_models/lstm_sequential_2d_onehot.hdf5\n",
      "Epoch 30/50\n",
      "7500/7500 [==============================] - 12s 2ms/step - loss: 0.1294 - acc: 0.8203 - val_loss: 0.1278 - val_acc: 0.8288\n",
      "\n",
      "Epoch 00030: val_acc did not improve from 0.83080\n",
      "Epoch 31/50\n",
      "7500/7500 [==============================] - 12s 2ms/step - loss: 0.1285 - acc: 0.8280 - val_loss: 0.1246 - val_acc: 0.8284\n",
      "\n",
      "Epoch 00031: val_acc did not improve from 0.83080\n",
      "Epoch 32/50\n",
      "7500/7500 [==============================] - 12s 2ms/step - loss: 0.1252 - acc: 0.8295 - val_loss: 0.1220 - val_acc: 0.8380\n",
      "\n",
      "Epoch 00032: val_acc improved from 0.83080 to 0.83800, saving model to C:\\Users\\Lisboa\\011019\\ExpressYeaself/expressyeaself/models/lstm/saved_models/lstm_sequential_2d_onehot.hdf5\n",
      "Epoch 33/50\n",
      "7500/7500 [==============================] - 12s 2ms/step - loss: 0.1262 - acc: 0.8316 - val_loss: 0.1281 - val_acc: 0.8248\n",
      "\n",
      "Epoch 00033: val_acc did not improve from 0.83800\n",
      "Epoch 34/50\n",
      "7500/7500 [==============================] - 12s 2ms/step - loss: 0.1255 - acc: 0.8292 - val_loss: 0.1390 - val_acc: 0.8100\n",
      "\n",
      "Epoch 00034: val_acc did not improve from 0.83800\n",
      "Epoch 35/50\n",
      "7500/7500 [==============================] - 12s 2ms/step - loss: 0.1264 - acc: 0.8265 - val_loss: 0.1188 - val_acc: 0.8368\n",
      "\n",
      "Epoch 00035: val_acc did not improve from 0.83800\n",
      "Epoch 36/50\n",
      "7500/7500 [==============================] - 12s 2ms/step - loss: 0.1237 - acc: 0.8292 - val_loss: 0.1199 - val_acc: 0.8416\n",
      "\n",
      "Epoch 00036: val_acc improved from 0.83800 to 0.84160, saving model to C:\\Users\\Lisboa\\011019\\ExpressYeaself/expressyeaself/models/lstm/saved_models/lstm_sequential_2d_onehot.hdf5\n",
      "Epoch 37/50\n",
      "7500/7500 [==============================] - 13s 2ms/step - loss: 0.1232 - acc: 0.8311 - val_loss: 0.1214 - val_acc: 0.8328\n",
      "\n",
      "Epoch 00037: val_acc did not improve from 0.84160\n",
      "Epoch 38/50\n",
      "7500/7500 [==============================] - 12s 2ms/step - loss: 0.1219 - acc: 0.8336 - val_loss: 0.1206 - val_acc: 0.8344\n",
      "\n",
      "Epoch 00038: val_acc did not improve from 0.84160\n",
      "Epoch 39/50\n",
      "7500/7500 [==============================] - 12s 2ms/step - loss: 0.1222 - acc: 0.8343 - val_loss: 0.1206 - val_acc: 0.8468\n",
      "\n",
      "Epoch 00039: val_acc improved from 0.84160 to 0.84680, saving model to C:\\Users\\Lisboa\\011019\\ExpressYeaself/expressyeaself/models/lstm/saved_models/lstm_sequential_2d_onehot.hdf5\n",
      "Epoch 40/50\n",
      "7500/7500 [==============================] - 12s 2ms/step - loss: 0.1210 - acc: 0.8389 - val_loss: 0.1198 - val_acc: 0.8388\n",
      "\n",
      "Epoch 00040: val_acc did not improve from 0.84680\n",
      "Epoch 41/50\n",
      "7500/7500 [==============================] - 12s 2ms/step - loss: 0.1168 - acc: 0.8447 - val_loss: 0.1245 - val_acc: 0.8392\n",
      "\n",
      "Epoch 00041: val_acc did not improve from 0.84680\n",
      "Epoch 42/50\n",
      "7500/7500 [==============================] - 12s 2ms/step - loss: 0.1180 - acc: 0.8407 - val_loss: 0.1265 - val_acc: 0.8280\n",
      "\n",
      "Epoch 00042: val_acc did not improve from 0.84680\n",
      "Epoch 43/50\n",
      "7500/7500 [==============================] - 12s 2ms/step - loss: 0.1159 - acc: 0.8461 - val_loss: 0.1322 - val_acc: 0.8216\n",
      "\n",
      "Epoch 00043: val_acc did not improve from 0.84680\n",
      "Epoch 44/50\n",
      "7500/7500 [==============================] - 12s 2ms/step - loss: 0.1177 - acc: 0.8427 - val_loss: 0.1238 - val_acc: 0.8344\n",
      "\n",
      "Epoch 00044: val_acc did not improve from 0.84680\n",
      "Epoch 45/50\n",
      "7500/7500 [==============================] - 12s 2ms/step - loss: 0.1147 - acc: 0.8449 - val_loss: 0.1179 - val_acc: 0.8452\n",
      "\n",
      "Epoch 00045: val_acc did not improve from 0.84680\n",
      "Epoch 46/50\n",
      "7500/7500 [==============================] - 12s 2ms/step - loss: 0.1147 - acc: 0.8452 - val_loss: 0.1181 - val_acc: 0.8432\n",
      "\n",
      "Epoch 00046: val_acc did not improve from 0.84680\n",
      "Epoch 47/50\n",
      "7500/7500 [==============================] - 12s 2ms/step - loss: 0.1129 - acc: 0.8487 - val_loss: 0.1188 - val_acc: 0.8420\n",
      "\n",
      "Epoch 00047: val_acc did not improve from 0.84680\n",
      "Epoch 48/50\n",
      "7500/7500 [==============================] - 12s 2ms/step - loss: 0.1136 - acc: 0.8476 - val_loss: 0.1190 - val_acc: 0.8448\n",
      "\n",
      "Epoch 00048: val_acc did not improve from 0.84680\n",
      "Epoch 49/50\n",
      "7500/7500 [==============================] - 12s 2ms/step - loss: 0.1115 - acc: 0.8491 - val_loss: 0.1171 - val_acc: 0.8460\n",
      "\n",
      "Epoch 00049: val_acc did not improve from 0.84680\n",
      "Epoch 50/50\n",
      "7500/7500 [==============================] - 12s 2ms/step - loss: 0.1106 - acc: 0.8552 - val_loss: 0.1188 - val_acc: 0.8464\n",
      "\n",
      "Epoch 00050: val_acc did not improve from 0.84680\n",
      "acc: 84.68%\n"
     ]
    },
    {
     "data": {
      "image/png": "[encoded data removed]",
      "text/plain": [
       "<Figure size 432x288 with 2 Axes>"
      ]
     },
     "metadata": {
      "needs_background": "light"
     },
     "output_type": "display_data"
    }
   ],
   "source": [
    "# Fit\n",
    "history = model.fit(X_train, y_train, batch_size=batch_size, epochs=epochs,verbose=1,\n",
    "                    validation_data=(X_test, y_test), callbacks=[checkpointer])\n",
    "\n",
    "\n",
    "# Evaluate\n",
    "score = max(history.history['val_acc'])\n",
    "print(\"%s: %.2f%%\" % (model.metrics_names[1], score*100))\n",
    "plt = construct.plot_results(history.history)\n",
    "plt.show()"
   ]
  },
  {
   "cell_type": "markdown",
   "metadata": {},
   "source": [
    "## Checking predictions on a small sample of native data"
   ]
  },
  {
   "cell_type": "code",
   "execution_count": 104,
   "metadata": {},
   "outputs": [],
   "source": [
    "input_seqs = ROOT_DIR + 'expressyeaself/models/1d_cnn/native_sample.txt'\n",
    "model_to_use = '1d_cnn_sequential'"
   ]
  },
  {
   "cell_type": "code",
   "execution_count": 105,
   "metadata": {},
   "outputs": [
    {
     "ename": "TypeError",
     "evalue": "Unexpected keyword argument passed to optimizer: name",
     "output_type": "error",
     "traceback": [
      "\u001b[1;31m---------------------------------------------------------------------------\u001b[0m",
      "\u001b[1;31mTypeError\u001b[0m                                 Traceback (most recent call last)",
      "\u001b[1;32m<ipython-input-105-4afa92f433b9>\u001b[0m in \u001b[0;36m<module>\u001b[1;34m\u001b[0m\n\u001b[1;32m----> 1\u001b[1;33m \u001b[0mconstruct\u001b[0m\u001b[1;33m.\u001b[0m\u001b[0mget_predictions_for_input_file\u001b[0m\u001b[1;33m(\u001b[0m\u001b[0minput_seqs\u001b[0m\u001b[1;33m,\u001b[0m \u001b[0mmodel_to_use\u001b[0m\u001b[1;33m,\u001b[0m \u001b[0msort_df\u001b[0m\u001b[1;33m=\u001b[0m\u001b[1;32mTrue\u001b[0m\u001b[1;33m,\u001b[0m \u001b[0mwrite_to_file\u001b[0m\u001b[1;33m=\u001b[0m\u001b[1;32mFalse\u001b[0m\u001b[1;33m)\u001b[0m\u001b[1;33m\u001b[0m\u001b[1;33m\u001b[0m\u001b[0m\n\u001b[0m",
      "\u001b[1;32m~\\011019\\ExpressYeaself\\expressyeaself\\construct_neural_net.py\u001b[0m in \u001b[0;36mget_predictions_for_input_file\u001b[1;34m(input_seqs, model_to_use, sort_df, write_to_file)\u001b[0m\n\u001b[0;32m    176\u001b[0m     \u001b[1;31m# Functionality\u001b[0m\u001b[1;33m\u001b[0m\u001b[1;33m\u001b[0m\u001b[1;33m\u001b[0m\u001b[0m\n\u001b[0;32m    177\u001b[0m     \u001b[0mresults_df\u001b[0m \u001b[1;33m=\u001b[0m \u001b[0mpd\u001b[0m\u001b[1;33m.\u001b[0m\u001b[0mread_csv\u001b[0m\u001b[1;33m(\u001b[0m\u001b[0minput_seqs\u001b[0m\u001b[1;33m,\u001b[0m \u001b[0mnames\u001b[0m\u001b[1;33m=\u001b[0m\u001b[1;33m[\u001b[0m\u001b[1;34m'seq'\u001b[0m\u001b[1;33m,\u001b[0m \u001b[1;34m'el_prediction'\u001b[0m\u001b[1;33m]\u001b[0m\u001b[1;33m)\u001b[0m\u001b[1;33m\u001b[0m\u001b[1;33m\u001b[0m\u001b[0m\n\u001b[1;32m--> 178\u001b[1;33m     \u001b[1;31m# Define and load model\u001b[0m\u001b[1;33m\u001b[0m\u001b[1;33m\u001b[0m\u001b[1;33m\u001b[0m\u001b[0m\n\u001b[0m\u001b[0;32m    179\u001b[0m     \u001b[0msaved_model\u001b[0m \u001b[1;33m=\u001b[0m \u001b[0mget_saved_model_path\u001b[0m\u001b[1;33m(\u001b[0m\u001b[0mmodel_to_use\u001b[0m\u001b[1;33m)\u001b[0m\u001b[1;33m\u001b[0m\u001b[1;33m\u001b[0m\u001b[0m\n\u001b[0;32m    180\u001b[0m     \u001b[0mloaded_model\u001b[0m \u001b[1;33m=\u001b[0m \u001b[0mload_saved_model\u001b[0m\u001b[1;33m(\u001b[0m\u001b[0msaved_model\u001b[0m\u001b[1;33m)\u001b[0m\u001b[1;33m\u001b[0m\u001b[1;33m\u001b[0m\u001b[0m\n",
      "\u001b[1;32m~\\011019\\ExpressYeaself\\expressyeaself\\construct_neural_net.py\u001b[0m in \u001b[0;36mload_saved_model\u001b[1;34m(saved_model)\u001b[0m\n\u001b[0;32m    108\u001b[0m     \u001b[1;32massert\u001b[0m \u001b[0misinstance\u001b[0m\u001b[1;33m(\u001b[0m\u001b[0msaved_model\u001b[0m\u001b[1;33m,\u001b[0m \u001b[0mstr\u001b[0m\u001b[1;33m)\u001b[0m\u001b[1;33m\u001b[0m\u001b[1;33m\u001b[0m\u001b[0m\n\u001b[0;32m    109\u001b[0m     \u001b[1;32massert\u001b[0m \u001b[0mos\u001b[0m\u001b[1;33m.\u001b[0m\u001b[0mpath\u001b[0m\u001b[1;33m.\u001b[0m\u001b[0mexists\u001b[0m\u001b[1;33m(\u001b[0m\u001b[0msaved_model\u001b[0m\u001b[1;33m)\u001b[0m\u001b[1;33m\u001b[0m\u001b[1;33m\u001b[0m\u001b[0m\n\u001b[1;32m--> 110\u001b[1;33m     \u001b[1;31m# Functionality\u001b[0m\u001b[1;33m\u001b[0m\u001b[1;33m\u001b[0m\u001b[1;33m\u001b[0m\u001b[0m\n\u001b[0m\u001b[0;32m    111\u001b[0m     \u001b[1;31m# with open(saved_model, 'rb', encoding='utf-8') as f:\u001b[0m\u001b[1;33m\u001b[0m\u001b[1;33m\u001b[0m\u001b[1;33m\u001b[0m\u001b[0m\n\u001b[0;32m    112\u001b[0m     \u001b[0mloaded_model\u001b[0m \u001b[1;33m=\u001b[0m \u001b[0mload_model\u001b[0m\u001b[1;33m(\u001b[0m\u001b[0msaved_model\u001b[0m\u001b[1;33m)\u001b[0m\u001b[1;33m\u001b[0m\u001b[1;33m\u001b[0m\u001b[0m\n",
      "\u001b[1;32m~\\Anaconda3\\lib\\site-packages\\tensorflow\\python\\keras\\engine\\saving.py\u001b[0m in \u001b[0;36mload_model\u001b[1;34m(filepath, custom_objects, compile)\u001b[0m\n\u001b[0;32m    247\u001b[0m       \u001b[0moptimizer_config\u001b[0m \u001b[1;33m=\u001b[0m \u001b[0mtraining_config\u001b[0m\u001b[1;33m[\u001b[0m\u001b[1;34m'optimizer_config'\u001b[0m\u001b[1;33m]\u001b[0m\u001b[1;33m\u001b[0m\u001b[1;33m\u001b[0m\u001b[0m\n\u001b[0;32m    248\u001b[0m       optimizer = optimizers.deserialize(\n\u001b[1;32m--> 249\u001b[1;33m           optimizer_config, custom_objects=custom_objects)\n\u001b[0m\u001b[0;32m    250\u001b[0m \u001b[1;33m\u001b[0m\u001b[0m\n\u001b[0;32m    251\u001b[0m       \u001b[1;31m# Recover loss functions and metrics.\u001b[0m\u001b[1;33m\u001b[0m\u001b[1;33m\u001b[0m\u001b[1;33m\u001b[0m\u001b[0m\n",
      "\u001b[1;32m~\\Anaconda3\\lib\\site-packages\\tensorflow\\python\\keras\\optimizers.py\u001b[0m in \u001b[0;36mdeserialize\u001b[1;34m(config, custom_objects)\u001b[0m\n\u001b[0;32m    836\u001b[0m       \u001b[0mmodule_objects\u001b[0m\u001b[1;33m=\u001b[0m\u001b[0mall_classes\u001b[0m\u001b[1;33m,\u001b[0m\u001b[1;33m\u001b[0m\u001b[1;33m\u001b[0m\u001b[0m\n\u001b[0;32m    837\u001b[0m       \u001b[0mcustom_objects\u001b[0m\u001b[1;33m=\u001b[0m\u001b[0mcustom_objects\u001b[0m\u001b[1;33m,\u001b[0m\u001b[1;33m\u001b[0m\u001b[1;33m\u001b[0m\u001b[0m\n\u001b[1;32m--> 838\u001b[1;33m       printable_module_name='optimizer')\n\u001b[0m\u001b[0;32m    839\u001b[0m \u001b[1;33m\u001b[0m\u001b[0m\n\u001b[0;32m    840\u001b[0m \u001b[1;33m\u001b[0m\u001b[0m\n",
      "\u001b[1;32m~\\Anaconda3\\lib\\site-packages\\tensorflow\\python\\keras\\utils\\generic_utils.py\u001b[0m in \u001b[0;36mdeserialize_keras_object\u001b[1;34m(identifier, module_objects, custom_objects, printable_module_name)\u001b[0m\n\u001b[0;32m    192\u001b[0m                 list(custom_objects.items())))\n\u001b[0;32m    193\u001b[0m       \u001b[1;32mwith\u001b[0m \u001b[0mCustomObjectScope\u001b[0m\u001b[1;33m(\u001b[0m\u001b[0mcustom_objects\u001b[0m\u001b[1;33m)\u001b[0m\u001b[1;33m:\u001b[0m\u001b[1;33m\u001b[0m\u001b[1;33m\u001b[0m\u001b[0m\n\u001b[1;32m--> 194\u001b[1;33m         \u001b[1;32mreturn\u001b[0m \u001b[0mcls\u001b[0m\u001b[1;33m.\u001b[0m\u001b[0mfrom_config\u001b[0m\u001b[1;33m(\u001b[0m\u001b[0mcls_config\u001b[0m\u001b[1;33m)\u001b[0m\u001b[1;33m\u001b[0m\u001b[1;33m\u001b[0m\u001b[0m\n\u001b[0m\u001b[0;32m    195\u001b[0m     \u001b[1;32melse\u001b[0m\u001b[1;33m:\u001b[0m\u001b[1;33m\u001b[0m\u001b[1;33m\u001b[0m\u001b[0m\n\u001b[0;32m    196\u001b[0m       \u001b[1;31m# Then `cls` may be a function returning a class.\u001b[0m\u001b[1;33m\u001b[0m\u001b[1;33m\u001b[0m\u001b[1;33m\u001b[0m\u001b[0m\n",
      "\u001b[1;32m~\\Anaconda3\\lib\\site-packages\\tensorflow\\python\\keras\\optimizers.py\u001b[0m in \u001b[0;36mfrom_config\u001b[1;34m(cls, config)\u001b[0m\n\u001b[0;32m    157\u001b[0m   \u001b[1;33m@\u001b[0m\u001b[0mclassmethod\u001b[0m\u001b[1;33m\u001b[0m\u001b[1;33m\u001b[0m\u001b[0m\n\u001b[0;32m    158\u001b[0m   \u001b[1;32mdef\u001b[0m \u001b[0mfrom_config\u001b[0m\u001b[1;33m(\u001b[0m\u001b[0mcls\u001b[0m\u001b[1;33m,\u001b[0m \u001b[0mconfig\u001b[0m\u001b[1;33m)\u001b[0m\u001b[1;33m:\u001b[0m\u001b[1;33m\u001b[0m\u001b[1;33m\u001b[0m\u001b[0m\n\u001b[1;32m--> 159\u001b[1;33m     \u001b[1;32mreturn\u001b[0m \u001b[0mcls\u001b[0m\u001b[1;33m(\u001b[0m\u001b[1;33m**\u001b[0m\u001b[0mconfig\u001b[0m\u001b[1;33m)\u001b[0m\u001b[1;33m\u001b[0m\u001b[1;33m\u001b[0m\u001b[0m\n\u001b[0m\u001b[0;32m    160\u001b[0m \u001b[1;33m\u001b[0m\u001b[0m\n\u001b[0;32m    161\u001b[0m \u001b[1;33m\u001b[0m\u001b[0m\n",
      "\u001b[1;32m~\\Anaconda3\\lib\\site-packages\\tensorflow\\python\\keras\\optimizers.py\u001b[0m in \u001b[0;36m__init__\u001b[1;34m(self, lr, rho, epsilon, decay, **kwargs)\u001b[0m\n\u001b[0;32m    245\u001b[0m \u001b[1;33m\u001b[0m\u001b[0m\n\u001b[0;32m    246\u001b[0m   \u001b[1;32mdef\u001b[0m \u001b[0m__init__\u001b[0m\u001b[1;33m(\u001b[0m\u001b[0mself\u001b[0m\u001b[1;33m,\u001b[0m \u001b[0mlr\u001b[0m\u001b[1;33m=\u001b[0m\u001b[1;36m0.001\u001b[0m\u001b[1;33m,\u001b[0m \u001b[0mrho\u001b[0m\u001b[1;33m=\u001b[0m\u001b[1;36m0.9\u001b[0m\u001b[1;33m,\u001b[0m \u001b[0mepsilon\u001b[0m\u001b[1;33m=\u001b[0m\u001b[1;32mNone\u001b[0m\u001b[1;33m,\u001b[0m \u001b[0mdecay\u001b[0m\u001b[1;33m=\u001b[0m\u001b[1;36m0.\u001b[0m\u001b[1;33m,\u001b[0m \u001b[1;33m**\u001b[0m\u001b[0mkwargs\u001b[0m\u001b[1;33m)\u001b[0m\u001b[1;33m:\u001b[0m\u001b[1;33m\u001b[0m\u001b[1;33m\u001b[0m\u001b[0m\n\u001b[1;32m--> 247\u001b[1;33m     \u001b[0msuper\u001b[0m\u001b[1;33m(\u001b[0m\u001b[0mRMSprop\u001b[0m\u001b[1;33m,\u001b[0m \u001b[0mself\u001b[0m\u001b[1;33m)\u001b[0m\u001b[1;33m.\u001b[0m\u001b[0m__init__\u001b[0m\u001b[1;33m(\u001b[0m\u001b[1;33m**\u001b[0m\u001b[0mkwargs\u001b[0m\u001b[1;33m)\u001b[0m\u001b[1;33m\u001b[0m\u001b[1;33m\u001b[0m\u001b[0m\n\u001b[0m\u001b[0;32m    248\u001b[0m     \u001b[1;32mwith\u001b[0m \u001b[0mK\u001b[0m\u001b[1;33m.\u001b[0m\u001b[0mname_scope\u001b[0m\u001b[1;33m(\u001b[0m\u001b[0mself\u001b[0m\u001b[1;33m.\u001b[0m\u001b[0m__class__\u001b[0m\u001b[1;33m.\u001b[0m\u001b[0m__name__\u001b[0m\u001b[1;33m)\u001b[0m\u001b[1;33m:\u001b[0m\u001b[1;33m\u001b[0m\u001b[1;33m\u001b[0m\u001b[0m\n\u001b[0;32m    249\u001b[0m       \u001b[0mself\u001b[0m\u001b[1;33m.\u001b[0m\u001b[0mlr\u001b[0m \u001b[1;33m=\u001b[0m \u001b[0mK\u001b[0m\u001b[1;33m.\u001b[0m\u001b[0mvariable\u001b[0m\u001b[1;33m(\u001b[0m\u001b[0mlr\u001b[0m\u001b[1;33m,\u001b[0m \u001b[0mname\u001b[0m\u001b[1;33m=\u001b[0m\u001b[1;34m'lr'\u001b[0m\u001b[1;33m)\u001b[0m\u001b[1;33m\u001b[0m\u001b[1;33m\u001b[0m\u001b[0m\n",
      "\u001b[1;32m~\\Anaconda3\\lib\\site-packages\\tensorflow\\python\\keras\\optimizers.py\u001b[0m in \u001b[0;36m__init__\u001b[1;34m(self, **kwargs)\u001b[0m\n\u001b[0;32m     66\u001b[0m       \u001b[1;32mif\u001b[0m \u001b[0mk\u001b[0m \u001b[1;32mnot\u001b[0m \u001b[1;32min\u001b[0m \u001b[0mallowed_kwargs\u001b[0m\u001b[1;33m:\u001b[0m\u001b[1;33m\u001b[0m\u001b[1;33m\u001b[0m\u001b[0m\n\u001b[0;32m     67\u001b[0m         raise TypeError('Unexpected keyword argument '\n\u001b[1;32m---> 68\u001b[1;33m                         'passed to optimizer: ' + str(k))\n\u001b[0m\u001b[0;32m     69\u001b[0m       \u001b[1;31m# checks that clipnorm >= 0 and clipvalue >= 0\u001b[0m\u001b[1;33m\u001b[0m\u001b[1;33m\u001b[0m\u001b[1;33m\u001b[0m\u001b[0m\n\u001b[0;32m     70\u001b[0m       \u001b[1;32mif\u001b[0m \u001b[0mkwargs\u001b[0m\u001b[1;33m[\u001b[0m\u001b[0mk\u001b[0m\u001b[1;33m]\u001b[0m \u001b[1;33m<\u001b[0m \u001b[1;36m0\u001b[0m\u001b[1;33m:\u001b[0m\u001b[1;33m\u001b[0m\u001b[1;33m\u001b[0m\u001b[0m\n",
      "\u001b[1;31mTypeError\u001b[0m: Unexpected keyword argument passed to optimizer: name"
     ]
    }
   ],
   "source": [
    "construct.get_predictions_for_input_file(input_seqs, model_to_use, sort_df=True, write_to_file=False)"
   ]
  },
  {
   "cell_type": "code",
   "execution_count": 99,
   "metadata": {},
   "outputs": [
    {
     "data": {
      "text/plain": [
       "True"
      ]
     },
     "execution_count": 99,
     "metadata": {},
     "output_type": "execute_result"
    }
   ],
   "source": []
  },
  {
   "cell_type": "code",
   "execution_count": null,
   "metadata": {},
   "outputs": [],
   "source": []
  }
 ],
 "metadata": {
  "kernelspec": {
   "display_name": "yeast",
   "language": "python",
   "name": "yeast"
  },
  "language_info": {
   "codemirror_mode": {
    "name": "ipython",
    "version": 3
   },
   "file_extension": ".py",
   "mimetype": "text/x-python",
   "name": "python",
   "nbconvert_exporter": "python",
   "pygments_lexer": "ipython3",
   "version": "3.7.1"
  }
 },
 "nbformat": 4,
 "nbformat_minor": 2
}
