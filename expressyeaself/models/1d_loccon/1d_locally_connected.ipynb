{
 "cells": [
  {
   "cell_type": "code",
   "execution_count": 1,
   "metadata": {},
   "outputs": [
    {
     "name": "stderr",
     "output_type": "stream",
     "text": [
      "Using TensorFlow backend.\n"
     ]
    }
   ],
   "source": [
    "%matplotlib inline\n",
    "import context\n",
    "import os\n",
    "import pandas as pd\n",
    "import numpy as np\n",
    "from sklearn import datasets, linear_model\n",
    "from sklearn.model_selection import train_test_split\n",
    "import keras as k\n",
    "from keras.models import Sequential, Model\n",
    "from keras.layers import Input, MaxPooling1D, Dense, InputLayer, Dropout, Flatten, Concatenate, BatchNormalization, LocallyConnected1D\n",
    "import matplotlib.pyplot as plt\n",
    "import tensorflow as tf\n",
    "\n",
    "from tensorflow.python.keras import regularizers\n",
    "from tensorflow.python.keras.utils import to_categorical\n",
    "from tensorflow.python.keras.callbacks import ModelCheckpoint, TensorBoard\n",
    "from sklearn.model_selection import StratifiedKFold\n",
    "\n",
    "ROOT_DIR = os.getcwd() + '/'\n",
    "CHECKPOINTS_DIR = ROOT_DIR + 'checkpoints/'\n",
    "construct = context.construct_neural_net\n",
    "encode = context.encode_sequences\n",
    "organize = context.organize_data"
   ]
  },
  {
   "cell_type": "code",
   "execution_count": 2,
   "metadata": {},
   "outputs": [],
   "source": [
    "def encode_data(datapath):\n",
    "    \"\"\"\n",
    "    This function reads in a file and outputs a file with each of the\n",
    "    sequences encoded.\n",
    "    Input: file path\n",
    "    Output: file consisting of encoded sequences\n",
    "    (encoded by scripted from encode_sequences file)\n",
    "    \"\"\"\n",
    "    sequences, expression_levels, max_el = encode.encode_sequences_with_method(datapath, method='One-Hot', scale_els=True, model_type='1DLOCCON', binarized_els=True)\n",
    "    return sequences, expression_levels, max_el"
   ]
  },
  {
   "cell_type": "code",
   "execution_count": 3,
   "metadata": {
    "scrolled": true
   },
   "outputs": [],
   "source": [
    "data = '/Users/Meenakshi Krishnan/Documents/DIRECT/Capstone/yeastpro/ExpressYeaself/example/processed_data/10000_from_20190612130111781831_percentiles_els_binarized_homogeneous_deflanked_sequences_with_exp_levels.txt.gz'\n",
    "#organize.create_sample_data(data, 10000)"
   ]
  },
  {
   "cell_type": "code",
   "execution_count": 4,
   "metadata": {},
   "outputs": [],
   "source": [
    "sequences, expression_levels, max_el = encode_data(data)"
   ]
  },
  {
   "cell_type": "code",
   "execution_count": 5,
   "metadata": {
    "scrolled": true
   },
   "outputs": [],
   "source": [
    "def data_shape(sequences):\n",
    "    \"\"\"\n",
    "    This function reads in the np.array sequence matrix and outputs its\n",
    "    dimensions. \n",
    "    Input: np.array\n",
    "    Output: tuple consisting of the dimensions of the input matrix\n",
    "    \"\"\"\n",
    "    shape = sequences.shape\n",
    "    return shape"
   ]
  },
  {
   "cell_type": "code",
   "execution_count": 6,
   "metadata": {},
   "outputs": [],
   "source": [
    "shape = data_shape(sequences)"
   ]
  },
  {
   "cell_type": "code",
   "execution_count": 7,
   "metadata": {},
   "outputs": [],
   "source": [
    "def plot_results(fit):\n",
    "    \"\"\"\n",
    "    This function takes the results from the model fit and evaluations\n",
    "    and returns a visualization for the test-train accuracies and model\n",
    "    losses.\n",
    "    Input: model.fit() object results, specifically accuracies and \n",
    "    losses of the train and test data\n",
    "    Output: matplotlib graphical visualizations of each\n",
    "    \"\"\"\n",
    "    # Create plot with subplots\n",
    "    fig, ax = plt.subplots(1, 2, figsize=(15,12))\n",
    "\n",
    "    # Plot the accuracy plot\n",
    "    ax1 = plt.subplot(221, xlabel='Epoch', ylabel='Accuracy', title='Model Accuracy Plot')\n",
    "    ax1.plot(fit['acc'], color='goldenrod', lw=2, alpha=0.5)\n",
    "    ax1.plot(fit['val_acc'], color='rebeccapurple', lw=2, alpha=0.5)\n",
    "\n",
    "    # Plot the loss plot\n",
    "    ax2 = plt.subplot(222, xlabel='Epoch', ylabel='Loss', title='Model Loss Plot')\n",
    "    ax2.plot(fit['loss'], color='goldenrod', lw=2, alpha=0.5)\n",
    "    ax2.plot(fit['val_loss'], color='rebeccapurple', lw=2, alpha=0.5)\n",
    "\n",
    "\n",
    "    # create a list to store the axes\n",
    "    axes_list = [ax1, ax2]\n",
    "    # edit common components using a for loop\n",
    "    for ax in axes_list:\n",
    "        ax.title.set_fontsize(20) \n",
    "        ax.xaxis.label.set_fontsize(14) \n",
    "        ax.yaxis.label.set_fontsize(14)\n",
    "        ax.legend(['Train', 'Test'], loc='upper left')\n",
    "\n",
    "    return ax1, ax2"
   ]
  },
  {
   "cell_type": "code",
   "execution_count": 8,
   "metadata": {},
   "outputs": [],
   "source": [
    "def tt_split(sequences, expression_levels):\n",
    "    \"\"\"\n",
    "    This function reads in the np.array sequence matrix and expressions levels\n",
    "    and performs a test-train split on the data.\n",
    "    Input: np.array sequence matrix and expression levels\n",
    "    Output: train_x, test_x, train_y, test_y\n",
    "    \"\"\"\n",
    "    train_x, test_x, train_y, test_y = train_test_split(sequences, expression_levels, test_size=0.30)\n",
    "    return train_x, test_x, train_y, test_y"
   ]
  },
  {
   "cell_type": "code",
   "execution_count": 38,
   "metadata": {
    "scrolled": false
   },
   "outputs": [
    {
     "name": "stdout",
     "output_type": "stream",
     "text": [
      "__________________________________________________________________________________________________\n",
      "Layer (type)                    Output Shape         Param #     Connected to                     \n",
      "==================================================================================================\n",
      "input_18 (InputLayer)           (None, 80, 5)        0                                            \n",
      "__________________________________________________________________________________________________\n",
      "locally_connected1d_86 (Locally (None, 78, 15)       18720       input_18[0][0]                   \n",
      "__________________________________________________________________________________________________\n",
      "locally_connected1d_87 (Locally (None, 76, 15)       29640       input_18[0][0]                   \n",
      "__________________________________________________________________________________________________\n",
      "locally_connected1d_88 (Locally (None, 74, 15)       39960       input_18[0][0]                   \n",
      "__________________________________________________________________________________________________\n",
      "locally_connected1d_89 (Locally (None, 72, 15)       49680       input_18[0][0]                   \n",
      "__________________________________________________________________________________________________\n",
      "locally_connected1d_90 (Locally (None, 70, 15)       58800       input_18[0][0]                   \n",
      "__________________________________________________________________________________________________\n",
      "dropout_136 (Dropout)           (None, 78, 15)       0           locally_connected1d_86[0][0]     \n",
      "__________________________________________________________________________________________________\n",
      "dropout_137 (Dropout)           (None, 76, 15)       0           locally_connected1d_87[0][0]     \n",
      "__________________________________________________________________________________________________\n",
      "dropout_138 (Dropout)           (None, 74, 15)       0           locally_connected1d_88[0][0]     \n",
      "__________________________________________________________________________________________________\n",
      "dropout_139 (Dropout)           (None, 72, 15)       0           locally_connected1d_89[0][0]     \n",
      "__________________________________________________________________________________________________\n",
      "dropout_140 (Dropout)           (None, 70, 15)       0           locally_connected1d_90[0][0]     \n",
      "__________________________________________________________________________________________________\n",
      "max_pooling1d_71 (MaxPooling1D) (None, 78, 1)        0           dropout_136[0][0]                \n",
      "__________________________________________________________________________________________________\n",
      "max_pooling1d_72 (MaxPooling1D) (None, 76, 1)        0           dropout_137[0][0]                \n",
      "__________________________________________________________________________________________________\n",
      "max_pooling1d_73 (MaxPooling1D) (None, 74, 1)        0           dropout_138[0][0]                \n",
      "__________________________________________________________________________________________________\n",
      "max_pooling1d_74 (MaxPooling1D) (None, 72, 1)        0           dropout_139[0][0]                \n",
      "__________________________________________________________________________________________________\n",
      "max_pooling1d_75 (MaxPooling1D) (None, 70, 1)        0           dropout_140[0][0]                \n",
      "__________________________________________________________________________________________________\n",
      "flatten_71 (Flatten)            (None, 78)           0           max_pooling1d_71[0][0]           \n",
      "__________________________________________________________________________________________________\n",
      "flatten_72 (Flatten)            (None, 76)           0           max_pooling1d_72[0][0]           \n",
      "__________________________________________________________________________________________________\n",
      "flatten_73 (Flatten)            (None, 74)           0           max_pooling1d_73[0][0]           \n",
      "__________________________________________________________________________________________________\n",
      "flatten_74 (Flatten)            (None, 72)           0           max_pooling1d_74[0][0]           \n",
      "__________________________________________________________________________________________________\n",
      "flatten_75 (Flatten)            (None, 70)           0           max_pooling1d_75[0][0]           \n",
      "__________________________________________________________________________________________________\n",
      "dense_136 (Dense)               (None, 40)           3160        flatten_71[0][0]                 \n",
      "__________________________________________________________________________________________________\n",
      "dense_137 (Dense)               (None, 40)           3080        flatten_72[0][0]                 \n",
      "__________________________________________________________________________________________________\n",
      "dense_138 (Dense)               (None, 40)           3000        flatten_73[0][0]                 \n",
      "__________________________________________________________________________________________________\n",
      "dense_139 (Dense)               (None, 40)           2920        flatten_74[0][0]                 \n",
      "__________________________________________________________________________________________________\n",
      "dense_140 (Dense)               (None, 40)           2840        flatten_75[0][0]                 \n",
      "__________________________________________________________________________________________________\n",
      "concatenate_18 (Concatenate)    (None, 200)          0           dense_136[0][0]                  \n",
      "                                                                 dense_137[0][0]                  \n",
      "                                                                 dense_138[0][0]                  \n",
      "                                                                 dense_139[0][0]                  \n",
      "                                                                 dense_140[0][0]                  \n",
      "__________________________________________________________________________________________________\n",
      "dropout_141 (Dropout)           (None, 200)          0           concatenate_18[0][0]             \n",
      "__________________________________________________________________________________________________\n",
      "dense_141 (Dense)               (None, 100)          20100       dropout_141[0][0]                \n",
      "__________________________________________________________________________________________________\n",
      "dropout_142 (Dropout)           (None, 100)          0           dense_141[0][0]                  \n",
      "__________________________________________________________________________________________________\n",
      "dense_142 (Dense)               (None, 50)           5050        dropout_142[0][0]                \n",
      "__________________________________________________________________________________________________\n",
      "dropout_143 (Dropout)           (None, 50)           0           dense_142[0][0]                  \n",
      "__________________________________________________________________________________________________\n",
      "dense_143 (Dense)               (None, 10)           510         dropout_143[0][0]                \n",
      "__________________________________________________________________________________________________\n",
      "dropout_144 (Dropout)           (None, 10)           0           dense_143[0][0]                  \n",
      "__________________________________________________________________________________________________\n",
      "dense_144 (Dense)               (None, 1)            11          dropout_144[0][0]                \n",
      "==================================================================================================\n",
      "Total params: 237,471\n",
      "Trainable params: 237,471\n",
      "Non-trainable params: 0\n",
      "__________________________________________________________________________________________________\n",
      "None\n"
     ]
    }
   ],
   "source": [
    "# Define the model parameters\n",
    "batch_size = len(expression_levels) * 0.01 # no bigger than 1 % of data\n",
    "filters = 15\n",
    "# kernel_size\n",
    "strides = 1\n",
    "epochs = 10\n",
    "dropout = 0.1\n",
    "num_layers = 5\n",
    "\n",
    "# Define the inputs\n",
    "x_input = shape[1]\n",
    "y_input = shape[2]\n",
    "inputs = Input(shape=(x_input, y_input))\n",
    "layers = []\n",
    "\n",
    "# Define the tensorboard and checkpointer if desired\n",
    "checkpointer = ModelCheckpoint(monitor='val_acc', \n",
    "                               filepath=(CHECKPOINTS_DIR + '1d_loccon_classifer_onehot.hdf5'), \n",
    "                               verbose=1, \n",
    "                               save_best_only=True)\n",
    "\n",
    "# Build up the layers\n",
    "for i in range(2, num_layers + 2):\n",
    "    layer_lc = LocallyConnected1D(filters, kernel_size=(2 * i - 1), strides=strides, activation='relu')(inputs)\n",
    "    layer_drop = Dropout(0.1)(layer_lc)\n",
    "    layer_pool = MaxPooling1D(pool_size=15, data_format='channels_first')(layer_drop)\n",
    "    layer_flat = Flatten()(layer_pool)\n",
    "    layer_dense = Dense(40, activation='sigmoid')(layer_flat)\n",
    "    layers.append(layer_dense)\n",
    "    \n",
    "# Combine the layers\n",
    "combined = Concatenate(axis=1)(layers)\n",
    "\n",
    "# Add some flatten, dense, and dropout layers\n",
    "out = Dropout(dropout)(combined)\n",
    "out = Dense(100, activation='sigmoid')(out)\n",
    "out = Dropout(dropout)(out)\n",
    "out = Dense(50, activation='sigmoid')(out)\n",
    "out = Dropout(dropout)(out)\n",
    "out = Dense(10, activation='sigmoid')(out)\n",
    "out = Dropout(dropout)(out)\n",
    "out = Dense(1, activation='sigmoid')(out)\n",
    "\n",
    "\n",
    "# Define the model with inputs and outputs, and compile.\n",
    "model = Model(inputs=inputs, outputs=out)\n",
    "model.compile(optimizer='rmsprop', loss='binary_crossentropy', metrics=['mae', 'acc'])\n",
    "\n",
    "# Print model summary\n",
    "print(model.summary())"
   ]
  },
  {
   "cell_type": "code",
   "execution_count": 39,
   "metadata": {
    "scrolled": false
   },
   "outputs": [
    {
     "name": "stdout",
     "output_type": "stream",
     "text": [
      "Train on 7000 samples, validate on 3000 samples\n",
      "Epoch 1/10\n",
      "7000/7000 [==============================] - 10s 1ms/step - loss: 0.6979 - mean_absolute_error: 0.4990 - acc: 0.5137 - val_loss: 0.6926 - val_mean_absolute_error: 0.4996 - val_acc: 0.5027\n",
      "\n",
      "Epoch 00001: val_acc improved from -inf to 0.50267, saving model to C:\\Users\\Meenakshi Krishnan\\Documents\\DIRECT\\Capstone\\yeastpro\\ExpressYeaself\\expressyeaself\\models\\1d_loccon/checkpoints/1d_loccon_classifer_onehot.hdf5\n",
      "Epoch 2/10\n",
      "7000/7000 [==============================] - 3s 395us/step - loss: 0.6937 - mean_absolute_error: 0.4990 - acc: 0.5150 - val_loss: 0.6863 - val_mean_absolute_error: 0.4965 - val_acc: 0.6073\n",
      "\n",
      "Epoch 00002: val_acc improved from 0.50267 to 0.60733, saving model to C:\\Users\\Meenakshi Krishnan\\Documents\\DIRECT\\Capstone\\yeastpro\\ExpressYeaself\\expressyeaself\\models\\1d_loccon/checkpoints/1d_loccon_classifer_onehot.hdf5\n",
      "Epoch 3/10\n",
      "7000/7000 [==============================] - 3s 395us/step - loss: 0.6548 - mean_absolute_error: 0.4758 - acc: 0.6377 - val_loss: 0.5993 - val_mean_absolute_error: 0.4424 - val_acc: 0.7223\n",
      "\n",
      "Epoch 00003: val_acc improved from 0.60733 to 0.72233, saving model to C:\\Users\\Meenakshi Krishnan\\Documents\\DIRECT\\Capstone\\yeastpro\\ExpressYeaself\\expressyeaself\\models\\1d_loccon/checkpoints/1d_loccon_classifer_onehot.hdf5\n",
      "Epoch 4/10\n",
      "7000/7000 [==============================] - 3s 405us/step - loss: 0.5747 - mean_absolute_error: 0.4130 - acc: 0.7250 - val_loss: 0.5466 - val_mean_absolute_error: 0.3938 - val_acc: 0.7353\n",
      "\n",
      "Epoch 00004: val_acc improved from 0.72233 to 0.73533, saving model to C:\\Users\\Meenakshi Krishnan\\Documents\\DIRECT\\Capstone\\yeastpro\\ExpressYeaself\\expressyeaself\\models\\1d_loccon/checkpoints/1d_loccon_classifer_onehot.hdf5\n",
      "Epoch 5/10\n",
      "7000/7000 [==============================] - 3s 415us/step - loss: 0.5348 - mean_absolute_error: 0.3745 - acc: 0.7550 - val_loss: 0.5260 - val_mean_absolute_error: 0.3709 - val_acc: 0.7460\n",
      "\n",
      "Epoch 00005: val_acc improved from 0.73533 to 0.74600, saving model to C:\\Users\\Meenakshi Krishnan\\Documents\\DIRECT\\Capstone\\yeastpro\\ExpressYeaself\\expressyeaself\\models\\1d_loccon/checkpoints/1d_loccon_classifer_onehot.hdf5\n",
      "Epoch 6/10\n",
      "7000/7000 [==============================] - 3s 394us/step - loss: 0.5036 - mean_absolute_error: 0.3484 - acc: 0.7767 - val_loss: 0.5226 - val_mean_absolute_error: 0.3539 - val_acc: 0.7467\n",
      "\n",
      "Epoch 00006: val_acc improved from 0.74600 to 0.74667, saving model to C:\\Users\\Meenakshi Krishnan\\Documents\\DIRECT\\Capstone\\yeastpro\\ExpressYeaself\\expressyeaself\\models\\1d_loccon/checkpoints/1d_loccon_classifer_onehot.hdf5\n",
      "Epoch 7/10\n",
      "7000/7000 [==============================] - 3s 399us/step - loss: 0.4737 - mean_absolute_error: 0.3232 - acc: 0.7954 - val_loss: 0.5085 - val_mean_absolute_error: 0.3434 - val_acc: 0.7597\n",
      "\n",
      "Epoch 00007: val_acc improved from 0.74667 to 0.75967, saving model to C:\\Users\\Meenakshi Krishnan\\Documents\\DIRECT\\Capstone\\yeastpro\\ExpressYeaself\\expressyeaself\\models\\1d_loccon/checkpoints/1d_loccon_classifer_onehot.hdf5\n",
      "Epoch 8/10\n",
      "7000/7000 [==============================] - 3s 420us/step - loss: 0.4336 - mean_absolute_error: 0.2945 - acc: 0.8199 - val_loss: 0.4990 - val_mean_absolute_error: 0.3219 - val_acc: 0.7627\n",
      "\n",
      "Epoch 00008: val_acc improved from 0.75967 to 0.76267, saving model to C:\\Users\\Meenakshi Krishnan\\Documents\\DIRECT\\Capstone\\yeastpro\\ExpressYeaself\\expressyeaself\\models\\1d_loccon/checkpoints/1d_loccon_classifer_onehot.hdf5\n",
      "Epoch 9/10\n",
      "7000/7000 [==============================] - 3s 469us/step - loss: 0.4025 - mean_absolute_error: 0.2688 - acc: 0.8381 - val_loss: 0.4876 - val_mean_absolute_error: 0.3091 - val_acc: 0.7760\n",
      "\n",
      "Epoch 00009: val_acc improved from 0.76267 to 0.77600, saving model to C:\\Users\\Meenakshi Krishnan\\Documents\\DIRECT\\Capstone\\yeastpro\\ExpressYeaself\\expressyeaself\\models\\1d_loccon/checkpoints/1d_loccon_classifer_onehot.hdf5\n",
      "Epoch 10/10\n",
      "7000/7000 [==============================] - 3s 452us/step - loss: 0.3635 - mean_absolute_error: 0.2399 - acc: 0.8613 - val_loss: 0.4979 - val_mean_absolute_error: 0.2984 - val_acc: 0.7723\n",
      "\n",
      "Epoch 00010: val_acc did not improve from 0.77600\n",
      "3000/3000 [==============================] - 1s 327us/step\n"
     ]
    },
    {
     "data": {
      "text/plain": [
       "'Values: loss: 0.4979221541881561 acc: 77.23333331743876%'"
      ]
     },
     "execution_count": 39,
     "metadata": {},
     "output_type": "execute_result"
    },
    {
     "data": {
      "image/png": "[encoded data removed]",
      "text/plain": [
       "<Figure size 432x288 with 2 Axes>"
      ]
     },
     "metadata": {
      "needs_background": "light"
     },
     "output_type": "display_data"
    }
   ],
   "source": [
    "# initialize training and testing values\n",
    "train_x, test_x, train_y, test_y = tt_split(sequences, expression_levels)\n",
    "\n",
    "# fit model\n",
    "fit = model.fit(train_x, train_y, epochs=10, batch_size=100, validation_data=(test_x, test_y), callbacks=[checkpointer])\n",
    "\n",
    "# evaluate model (run tests)\n",
    "scores = model.evaluate(test_x, test_y)\n",
    "\n",
    "# plot results\n",
    "#plt = plot_results(fit.history)\n",
    "plt = construct.plot_results(fit.history)\n",
    "\n",
    "# return model accuracy\n",
    "(\"Values: \"+ str(model.metrics_names[0]) + ': ' + str(scores[0]) + ' ' + str(model.metrics_names[2]) + ': ' + str(scores[2]*100) + '%')"
   ]
  }
 ],
 "metadata": {
  "kernelspec": {
   "display_name": "yeast",
   "language": "python",
   "name": "yeast"
  },
  "language_info": {
   "codemirror_mode": {
    "name": "ipython",
    "version": 3
   },
   "file_extension": ".py",
   "mimetype": "text/x-python",
   "name": "python",
   "nbconvert_exporter": "python",
   "pygments_lexer": "ipython3",
   "version": "3.7.0"
  }
 },
 "nbformat": 4,
 "nbformat_minor": 2
}
