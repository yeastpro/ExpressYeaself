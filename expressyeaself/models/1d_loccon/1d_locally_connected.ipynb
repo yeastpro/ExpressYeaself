{
 "cells": [
  {
   "cell_type": "code",
   "execution_count": 3,
   "metadata": {},
   "outputs": [],
   "source": [
    "import context\n",
    "import pandas as pd\n",
    "import numpy as np\n",
    "from sklearn import preprocessing\n",
    "from sklearn import datasets, linear_model\n",
    "from sklearn.model_selection import train_test_split\n",
    "import keras as k\n",
    "import ast\n",
    "from keras.models import Sequential\n",
    "from keras.layers import Dense, InputLayer, Dropout, Flatten, BatchNormalization, LocallyConnected1D\n",
    "import matplotlib.pyplot as plt\n",
    "%matplotlib inline\n",
    "\n",
    "encode = context.encode_sequences\n",
    "organize = context.organize_data"
   ]
  },
  {
   "cell_type": "code",
   "execution_count": 7,
   "metadata": {},
   "outputs": [],
   "source": [
    "def encode_data(datapath):\n",
    "    \"\"\"\n",
    "    This function reads in a file and outputs a file with each of the\n",
    "    sequences encoded.\n",
    "    Input: file path\n",
    "    Output: file consisting of encoded sequences\n",
    "    (encoded by scripted from encode_sequences file)\n",
    "    \"\"\"\n",
    "    en_data = encode.encode_sequences_with_method(datapath)\n",
    "    return en_data"
   ]
  },
  {
   "cell_type": "code",
   "execution_count": 8,
   "metadata": {
    "scrolled": true
   },
   "outputs": [
    {
     "ename": "AssertionError",
     "evalue": "Input file does not exist.",
     "output_type": "error",
     "traceback": [
      "\u001b[1;31m---------------------------------------------------------------------------\u001b[0m",
      "\u001b[1;31mAssertionError\u001b[0m                            Traceback (most recent call last)",
      "\u001b[1;32m<ipython-input-8-3f049f1945da>\u001b[0m in \u001b[0;36m<module>\u001b[1;34m\u001b[0m\n\u001b[0;32m      1\u001b[0m \u001b[0mdata\u001b[0m \u001b[1;33m=\u001b[0m \u001b[1;34m'/Users/Meenakshi Krishnan/Documents/DIRECT/Capstone/yeastpro/ExpressYeaself/example/processed_data/20190612130111781831_percentiles_els_binarized_homogeneous_deflanked_sequences_with_exp_levels.txt.gz'\u001b[0m\u001b[1;33m\u001b[0m\u001b[0m\n\u001b[1;32m----> 2\u001b[1;33m \u001b[0morganize\u001b[0m\u001b[1;33m.\u001b[0m\u001b[0mcreate_sample_data\u001b[0m\u001b[1;33m(\u001b[0m\u001b[0mdata\u001b[0m\u001b[1;33m,\u001b[0m \u001b[1;36m10000\u001b[0m\u001b[1;33m)\u001b[0m\u001b[1;33m\u001b[0m\u001b[0m\n\u001b[0m",
      "\u001b[1;32m~\\Documents\\DIRECT\\Capstone\\yeastpro\\ExpressYeaself\\expressyeaself\\organize_data.py\u001b[0m in \u001b[0;36mcreate_sample_data\u001b[1;34m(input_seqs, sample_size)\u001b[0m\n\u001b[0;32m    531\u001b[0m     \u001b[1;32massert\u001b[0m \u001b[0misinstance\u001b[0m\u001b[1;33m(\u001b[0m\u001b[0minput_seqs\u001b[0m\u001b[1;33m,\u001b[0m \u001b[0mstr\u001b[0m\u001b[1;33m)\u001b[0m\u001b[1;33m,\u001b[0m\u001b[0;31m \u001b[0m\u001b[0;31m'\u001b[0m\u001b[0mInput\u001b[0m \u001b[0msequences\u001b[0m \u001b[0mfile\u001b[0m \u001b[0mpath\u001b[0m \u001b[0mmust\u001b[0m \u001b[0mbe\u001b[0m\u001b[0;31m\\\u001b[0m\u001b[1;33m\u001b[0m\u001b[0m\n\u001b[0;32m    532\u001b[0m     \u001b[0mpassed\u001b[0m \u001b[1;32mas\u001b[0m \u001b[0ma\u001b[0m \u001b[0mstring\u001b[0m\u001b[1;33m.\u001b[0m\u001b[0;31m'\u001b[0m\u001b[1;33m\u001b[0m\u001b[0m\n\u001b[1;32m--> 533\u001b[1;33m     \u001b[1;32massert\u001b[0m \u001b[0mos\u001b[0m\u001b[1;33m.\u001b[0m\u001b[0mpath\u001b[0m\u001b[1;33m.\u001b[0m\u001b[0mexists\u001b[0m\u001b[1;33m(\u001b[0m\u001b[0minput_seqs\u001b[0m\u001b[1;33m)\u001b[0m\u001b[1;33m,\u001b[0m \u001b[1;34m'Input file does not exist.'\u001b[0m\u001b[1;33m\u001b[0m\u001b[0m\n\u001b[0m\u001b[0;32m    534\u001b[0m     \u001b[1;32massert\u001b[0m \u001b[0misinstance\u001b[0m\u001b[1;33m(\u001b[0m\u001b[0msample_size\u001b[0m\u001b[1;33m,\u001b[0m \u001b[0mint\u001b[0m\u001b[1;33m)\u001b[0m\u001b[1;33m,\u001b[0m\u001b[0;31m \u001b[0m\u001b[0;31m'\u001b[0m\u001b[0mNumber\u001b[0m \u001b[0mof\u001b[0m \u001b[0msequences\u001b[0m \u001b[0mto\u001b[0m \u001b[0msample\u001b[0m \u001b[0mmust\u001b[0m\u001b[0;31m\\\u001b[0m\u001b[1;33m\u001b[0m\u001b[0m\n\u001b[0;32m    535\u001b[0m     \u001b[0mbe\u001b[0m \u001b[0mpassed\u001b[0m \u001b[1;32mas\u001b[0m \u001b[0man\u001b[0m \u001b[0minteger\u001b[0m\u001b[1;33m.\u001b[0m\u001b[0;31m'\u001b[0m\u001b[1;33m\u001b[0m\u001b[0m\n",
      "\u001b[1;31mAssertionError\u001b[0m: Input file does not exist."
     ]
    }
   ],
   "source": [
    "data = '/Users/Meenakshi Krishnan/Documents/DIRECT/Capstone/yeastpro/ExpressYeaself/example/processed_data/20190612130111781831_percentiles_els_binarized_homogeneous_deflanked_sequences_with_exp_levels.txt.gz'\n",
    "organize.create_sample_data(data, 10000)"
   ]
  },
  {
   "cell_type": "code",
   "execution_count": 9,
   "metadata": {},
   "outputs": [
    {
     "ename": "AssertionError",
     "evalue": "Input file does not exist.",
     "output_type": "error",
     "traceback": [
      "\u001b[1;31m---------------------------------------------------------------------------\u001b[0m",
      "\u001b[1;31mAssertionError\u001b[0m                            Traceback (most recent call last)",
      "\u001b[1;32m<ipython-input-9-a86f00cb2dea>\u001b[0m in \u001b[0;36m<module>\u001b[1;34m\u001b[0m\n\u001b[1;32m----> 1\u001b[1;33m \u001b[0men_data\u001b[0m \u001b[1;33m=\u001b[0m \u001b[0mencode_data\u001b[0m\u001b[1;33m(\u001b[0m\u001b[0mdata\u001b[0m\u001b[1;33m)\u001b[0m\u001b[1;33m\u001b[0m\u001b[0m\n\u001b[0m",
      "\u001b[1;32m<ipython-input-7-7b152ae40b27>\u001b[0m in \u001b[0;36mencode_data\u001b[1;34m(datapath)\u001b[0m\n\u001b[0;32m      7\u001b[0m     \u001b[1;33m(\u001b[0m\u001b[0mencoded\u001b[0m \u001b[0mby\u001b[0m \u001b[0mscripted\u001b[0m \u001b[1;32mfrom\u001b[0m \u001b[0mencode_sequences\u001b[0m \u001b[0mfile\u001b[0m\u001b[1;33m)\u001b[0m\u001b[1;33m\u001b[0m\u001b[0m\n\u001b[0;32m      8\u001b[0m     \"\"\"\n\u001b[1;32m----> 9\u001b[1;33m     \u001b[0men_data\u001b[0m \u001b[1;33m=\u001b[0m \u001b[0mencode\u001b[0m\u001b[1;33m.\u001b[0m\u001b[0mencode_sequences_with_method\u001b[0m\u001b[1;33m(\u001b[0m\u001b[0mdatapath\u001b[0m\u001b[1;33m)\u001b[0m\u001b[1;33m\u001b[0m\u001b[0m\n\u001b[0m\u001b[0;32m     10\u001b[0m     \u001b[1;32mreturn\u001b[0m \u001b[0men_data\u001b[0m\u001b[1;33m\u001b[0m\u001b[0m\n",
      "\u001b[1;32m~\\Documents\\DIRECT\\Capstone\\yeastpro\\ExpressYeaself\\expressyeaself\\encode_sequences.py\u001b[0m in \u001b[0;36mencode_sequences_with_method\u001b[1;34m(input_seqs, method, scale_els, model_type, binarized_els)\u001b[0m\n\u001b[0;32m     96\u001b[0m     \u001b[1;31m# Functionality\u001b[0m\u001b[1;33m\u001b[0m\u001b[1;33m\u001b[0m\u001b[0m\n\u001b[0;32m     97\u001b[0m     \u001b[1;31m# Open input file\u001b[0m\u001b[1;33m\u001b[0m\u001b[1;33m\u001b[0m\u001b[0m\n\u001b[1;32m---> 98\u001b[1;33m     \u001b[0minfile\u001b[0m \u001b[1;33m=\u001b[0m \u001b[0msmart_open\u001b[0m\u001b[1;33m(\u001b[0m\u001b[0minput_seqs\u001b[0m\u001b[1;33m,\u001b[0m \u001b[1;34m'r'\u001b[0m\u001b[1;33m)\u001b[0m\u001b[1;33m\u001b[0m\u001b[0m\n\u001b[0m\u001b[0;32m     99\u001b[0m     \u001b[1;31m# Initialize output lists, preallocating dimensions for speed.\u001b[0m\u001b[1;33m\u001b[0m\u001b[1;33m\u001b[0m\u001b[0m\n\u001b[0;32m    100\u001b[0m     \u001b[0mnum_seqs\u001b[0m\u001b[1;33m,\u001b[0m \u001b[0mlen_seq\u001b[0m \u001b[1;33m=\u001b[0m \u001b[0morganize\u001b[0m\u001b[1;33m.\u001b[0m\u001b[0mget_num_and_len_of_seqs_from_file\u001b[0m\u001b[1;33m(\u001b[0m\u001b[0minput_seqs\u001b[0m\u001b[1;33m)\u001b[0m\u001b[1;33m\u001b[0m\u001b[0m\n",
      "\u001b[1;32m~\\Documents\\DIRECT\\Capstone\\yeastpro\\ExpressYeaself\\expressyeaself\\utilities.py\u001b[0m in \u001b[0;36msmart_open\u001b[1;34m(filename, mode)\u001b[0m\n\u001b[0;32m     36\u001b[0m     \u001b[1;32massert\u001b[0m \u001b[0misinstance\u001b[0m\u001b[1;33m(\u001b[0m\u001b[0mmode\u001b[0m\u001b[1;33m,\u001b[0m \u001b[0mstr\u001b[0m\u001b[1;33m)\u001b[0m\u001b[1;33m,\u001b[0m \u001b[1;34m'Opening mode must be passed as a string.'\u001b[0m\u001b[1;33m\u001b[0m\u001b[0m\n\u001b[0;32m     37\u001b[0m     \u001b[1;32mif\u001b[0m \u001b[0mmode\u001b[0m\u001b[1;33m.\u001b[0m\u001b[0mstartswith\u001b[0m\u001b[1;33m(\u001b[0m\u001b[1;34m'r'\u001b[0m\u001b[1;33m)\u001b[0m\u001b[1;33m:\u001b[0m\u001b[1;33m\u001b[0m\u001b[0m\n\u001b[1;32m---> 38\u001b[1;33m         \u001b[1;32massert\u001b[0m \u001b[0mos\u001b[0m\u001b[1;33m.\u001b[0m\u001b[0mpath\u001b[0m\u001b[1;33m.\u001b[0m\u001b[0mexists\u001b[0m\u001b[1;33m(\u001b[0m\u001b[0mfilename\u001b[0m\u001b[1;33m)\u001b[0m\u001b[1;33m,\u001b[0m \u001b[1;34m'Input file does not exist.'\u001b[0m\u001b[1;33m\u001b[0m\u001b[0m\n\u001b[0m\u001b[0;32m     39\u001b[0m     \u001b[1;31m# Functionality\u001b[0m\u001b[1;33m\u001b[0m\u001b[1;33m\u001b[0m\u001b[0m\n\u001b[0;32m     40\u001b[0m     \u001b[1;32mif\u001b[0m \u001b[0mlen\u001b[0m\u001b[1;33m(\u001b[0m\u001b[0mfilename\u001b[0m\u001b[1;33m)\u001b[0m \u001b[1;33m>\u001b[0m \u001b[1;36m3\u001b[0m \u001b[1;32mand\u001b[0m \u001b[0mfilename\u001b[0m\u001b[1;33m.\u001b[0m\u001b[0mendswith\u001b[0m\u001b[1;33m(\u001b[0m\u001b[1;34m'.gz'\u001b[0m\u001b[1;33m)\u001b[0m\u001b[1;33m:\u001b[0m\u001b[1;33m\u001b[0m\u001b[0m\n",
      "\u001b[1;31mAssertionError\u001b[0m: Input file does not exist."
     ]
    }
   ],
   "source": [
    "en_data = encode_data(data)"
   ]
  },
  {
   "cell_type": "code",
   "execution_count": 14,
   "metadata": {
    "scrolled": true
   },
   "outputs": [],
   "source": [
    "def data_to_df(en_data):\n",
    "    \"\"\"\n",
    "    This function reads in the file with encoded sequences and\n",
    "    converts it into a dataframe, easily accessible by python tools.\n",
    "    Input: file with encoded sequences\n",
    "    Output:dataframe\n",
    "    \"\"\"\n",
    "    proxy_df = pd.read_csv(en_data, names=['raw_sequence', 'ex_levels'], sep='\\t')\n",
    "    return proxy_df"
   ]
  },
  {
   "cell_type": "code",
   "execution_count": 24,
   "metadata": {},
   "outputs": [],
   "source": [
    "proxy_df = data_to_df(en_data)"
   ]
  },
  {
   "cell_type": "code",
   "execution_count": 110,
   "metadata": {},
   "outputs": [],
   "source": [
    "def store_expression_levels(proxy_df):\n",
    "    \"\"\"\n",
    "    This function reads in the dataframe of encoded sequences and\n",
    "    scales and stores the expression levels as a separate variable.\n",
    "    Input: dataframe\n",
    "    Output: np.array of scaled expression levels\n",
    "    \"\"\"\n",
    "    expression_levels = np.array(proxy_df['ex_levels'])\n",
    "    \n",
    "#     scaler = preprocessing.MinMaxScaler()\n",
    "#     reshaped = ex_levels.reshape((len(ex_levels), 1))\n",
    "#     expression_levels = scaler.fit_transform(reshaped)\n",
    "    \n",
    "    return expression_levels"
   ]
  },
  {
   "cell_type": "code",
   "execution_count": 111,
   "metadata": {},
   "outputs": [
    {
     "name": "stdout",
     "output_type": "stream",
     "text": [
      "[ 1.         10.          8.51420455 ...  4.         11.\n",
      "  8.        ]\n"
     ]
    }
   ],
   "source": [
    "expression_levels = store_expression_levels(proxy_df)\n",
    "print(expression_levels)"
   ]
  },
  {
   "cell_type": "code",
   "execution_count": 112,
   "metadata": {},
   "outputs": [],
   "source": [
    "def store_sequence_matrix(proxy_df):\n",
    "    \"\"\"\n",
    "    This function reads in the dataframe of encoded sequences, consisting\n",
    "    of \"raw matrices\" per sequence, and converts and stores them all within\n",
    "    a (3-dimensional) np.array of each matrix per sequence. This will allow\n",
    "    the data to be better read by neural network objects.\n",
    "    Input: dataframe\n",
    "    Output: np.array consisting of all sequence matricies (3-dimensional array)\n",
    "    \"\"\"\n",
    "    sequence_matrix = []\n",
    "\n",
    "    for sequence in proxy_df['raw_sequence']:\n",
    "        array_seq = np.array(ast.literal_eval(sequence))\n",
    "        sequence_matrix.append(array_seq)\n",
    "    \n",
    "    sequence_matrix = np.array(sequence_matrix)\n",
    "    \n",
    "    return sequence_matrix"
   ]
  },
  {
   "cell_type": "code",
   "execution_count": 122,
   "metadata": {
    "scrolled": true
   },
   "outputs": [
    {
     "data": {
      "text/plain": [
       "numpy.ndarray"
      ]
     },
     "execution_count": 122,
     "metadata": {},
     "output_type": "execute_result"
    }
   ],
   "source": [
    "sequence_matrix = store_sequence_matrix(proxy_df)\n",
    "type(sequence_matrix)"
   ]
  },
  {
   "cell_type": "code",
   "execution_count": 114,
   "metadata": {
    "scrolled": true
   },
   "outputs": [],
   "source": [
    "def data_shape(sequence_matrix):\n",
    "    \"\"\"\n",
    "    This function reads in the np.array sequence matrix and outputs its\n",
    "    dimensions. \n",
    "    Input: np.array\n",
    "    Output: tuple consisting of the dimensions of the input matrix\n",
    "    \"\"\"\n",
    "    shape = sequence_matrix.shape\n",
    "    return shape"
   ]
  },
  {
   "cell_type": "code",
   "execution_count": 123,
   "metadata": {},
   "outputs": [
    {
     "data": {
      "text/plain": [
       "tuple"
      ]
     },
     "execution_count": 123,
     "metadata": {},
     "output_type": "execute_result"
    }
   ],
   "source": [
    "shape = data_shape(sequence_matrix)\n",
    "type(shape)"
   ]
  },
  {
   "cell_type": "code",
   "execution_count": 116,
   "metadata": {},
   "outputs": [],
   "source": [
    "def plot_results(fit):\n",
    "    \"\"\"\n",
    "    This function takes the results from the model fit and evaluations\n",
    "    and returns a visualization for the test-train accuracies and model\n",
    "    losses.\n",
    "    Input: model.fit() object results, specifically accuracies and \n",
    "    losses of the train and test data\n",
    "    Output: matplotlib graphical visualizations of each\n",
    "    \"\"\"\n",
    "    # Create plot with subplots\n",
    "    fig, ax = plt.subplots(1, 2, figsize=(12,10))\n",
    "\n",
    "    # Plot the accuracy plot\n",
    "    ax1 = plt.subplot(221, xlabel='Epoch', ylabel='Accuracy', title='Model Accuracy Plot')\n",
    "    ax1.plot(fit['acc'], color='goldenrod', lw=2, alpha=0.5)\n",
    "    ax1.plot(fit['val_acc'], color='rebeccapurple', lw=2, alpha=0.5)\n",
    "\n",
    "    # Plot the loss plot\n",
    "    ax2 = plt.subplot(222, xlabel='Epoch', ylabel='Loss', title='Model Loss Plot')\n",
    "    ax2.plot(fit['loss'], color='goldenrod', lw=2, alpha=0.5)\n",
    "    ax2.plot(fit['val_loss'], color='rebeccapurple', lw=2, alpha=0.5)\n",
    "\n",
    "\n",
    "    # create a list to store the axes\n",
    "    axes_list = [ax1, ax2]\n",
    "    # edit common components using a for loop\n",
    "    for ax in axes_list:\n",
    "        ax.title.set_fontsize(20) \n",
    "        ax.xaxis.label.set_fontsize(14) \n",
    "        ax.yaxis.label.set_fontsize(14)\n",
    "        ax.legend(['Train', 'Test'], loc='upper left')\n",
    "\n",
    "    return ax1, ax2"
   ]
  },
  {
   "cell_type": "code",
   "execution_count": 117,
   "metadata": {},
   "outputs": [],
   "source": [
    "def tt_split(sequence_matrix, expression_levels):\n",
    "    \"\"\"\n",
    "    This function reads in the np.array sequence matrix and expressions levels\n",
    "    and performs a test-train split on the data.\n",
    "    Input: np.array sequence matrix and expression levels\n",
    "    Output: train_x, test_x, train_y, test_y\n",
    "    \"\"\"\n",
    "    train_x, test_x, train_y, test_y = train_test_split(sequence_matrix, expression_levels, test_size=0.25)\n",
    "    return train_x, test_x, train_y, test_y"
   ]
  },
  {
   "cell_type": "code",
   "execution_count": null,
   "metadata": {},
   "outputs": [],
   "source": [
    "# Define the model parameters\n",
    "batch_size = len(y_scaled) * 0.01 # no bigger than 1 % of data\n",
    "filters = 15\n",
    "# kernel_size\n",
    "strides = 1\n",
    "epochs = 10\n",
    "dropout = 0.1\n",
    "num_layers = 10\n",
    "\n",
    "# Define the inputs\n",
    "inputs = Input(shape=(max_sequence_len, 5))\n",
    "layers = []\n",
    "\n",
    "# Build up the layers\n",
    "for i in range(1, num_layers + 1):\n",
    "    layer = Conv1D(filters, (2 * i - 1), strides)(inputs)\n",
    "    layers.append(layer)\n",
    "\n",
    "# Combine the layers\n",
    "combined = Concatenate(axis=1)(layers)\n",
    "\n",
    "# Add some flatten, dense, and dropout layers\n",
    "out = Flatten()(combined)\n",
    "# out = Dropout(dropout)(out)\n",
    "out = Dense(500, activation='sigmoid')(out)\n",
    "out = Dropout(dropout)(out)\n",
    "out = Dense(1, activation='sigmoid')(out)\n",
    "out = Dropout(dropout)(out)\n",
    "\n",
    "# Define the model with inputs and outputs, and compile.\n",
    "model = Model(inputs=inputs, outputs=out)\n",
    "model.compile(loss='mse', optimizer='adam', metrics=['accuracy'])\n",
    "\n",
    "# Print model summary\n",
    "print(model.summary())"
   ]
  },
  {
   "cell_type": "code",
   "execution_count": null,
   "metadata": {},
   "outputs": [],
   "source": []
  },
  {
   "cell_type": "code",
   "execution_count": 118,
   "metadata": {},
   "outputs": [],
   "source": [
    "def loc_con_1d_model(filters, kernel_size, strides, input_x, input_y, drop_rate, dense_units1, dense_units_final, optimizer, loss):\n",
    "    \"\"\"\n",
    "    This function reads in various parameters to compiles a LocallyConnected1D\n",
    "    model, consisting of various layers including Dropout, Flatten and\n",
    "    Dense. The function returns the model summary.\n",
    "    Input: Various parameters including filter size, kernel size, number\n",
    "    of strides, x and y dimensional input values, dropout rate (for Dropout\n",
    "    Layers), dense units (for Dense Layers) and the optimizer and loss\n",
    "    methods for the model.compile function.\n",
    "    Output: model summary (based on model.summary() object)\n",
    "    \"\"\"\n",
    "    # make a global variable\n",
    "    global model\n",
    "    \n",
    "    # initialize model\n",
    "    model = Sequential()\n",
    "    model.add(LocallyConnected1D(filters, kernel_size, strides=strides, input_shape=(input_x, input_y), activation='relu'))\n",
    "    \n",
    "    # additional layers\n",
    "#     model.add(Dense(50))    \n",
    "#     model.add(Dropout(drop_rate))\n",
    "#     model.add(LocallyConnected1D(50, 15, activation='relu'))\n",
    "#     model.add(Dense(10))  \n",
    "#     model.add(Dropout(drop_rate))\n",
    "#     model.add(Dense(10))  \n",
    "#     model.add(Dropout(drop_rate))\n",
    "    model.add(Dense(dense_units)) \n",
    "    model.add(Dropout(drop_rate))\n",
    "    \n",
    "    # final flatten and dense layers\n",
    "    model.add(Flatten())\n",
    "    model.add(Dense(dense_units_final))\n",
    "    \n",
    "    # compile model\n",
    "    model.compile(optimizer=optimizer, loss=loss, metrics=['mae', 'acc'])\n",
    "    \n",
    "    # return model summary\n",
    "    return(model, model.summary())"
   ]
  },
  {
   "cell_type": "code",
   "execution_count": 119,
   "metadata": {
    "scrolled": true
   },
   "outputs": [
    {
     "name": "stdout",
     "output_type": "stream",
     "text": [
      "_________________________________________________________________\n",
      "Layer (type)                 Output Shape              Param #   \n",
      "=================================================================\n",
      "locally_connected1d_6 (Local (None, 238, 100)          2403800   \n",
      "_________________________________________________________________\n",
      "dense_9 (Dense)              (None, 238, 1)            101       \n",
      "_________________________________________________________________\n",
      "dropout_6 (Dropout)          (None, 238, 1)            0         \n",
      "_________________________________________________________________\n",
      "flatten_5 (Flatten)          (None, 238)               0         \n",
      "_________________________________________________________________\n",
      "dense_10 (Dense)             (None, 1)                 239       \n",
      "=================================================================\n",
      "Total params: 2,404,140\n",
      "Trainable params: 2,404,140\n",
      "Non-trainable params: 0\n",
      "_________________________________________________________________\n"
     ]
    },
    {
     "data": {
      "text/plain": [
       "(<keras.engine.sequential.Sequential at 0x1cabe9e8eb8>, None)"
      ]
     },
     "execution_count": 119,
     "metadata": {},
     "output_type": "execute_result"
    }
   ],
   "source": [
    "loc_con_1d_model(100, 20, 1, 257, 5, 0.5, 10, 1, 'adam', 'mean_squared_error')"
   ]
  },
  {
   "cell_type": "code",
   "execution_count": 120,
   "metadata": {},
   "outputs": [],
   "source": [
    "def model_eval(sequence_matrix, expression_levels, epochs, batch_size):\n",
    "     \"\"\"\n",
    "    This function fits the LocallyConnected1D model, generated in the \n",
    "    loc_con_1d_model() function, using given train and test data sets. The\n",
    "    model evaluates acccuracy and loss scores and outputs these values\n",
    "    as well as a graphical visualization by calling the plot_results()\n",
    "    function and passing through these values.\n",
    "    Input: sequence_matrix and expression_level arrays, number of epochs\n",
    "    to run the model for, and batch size (number of samples to train)\n",
    "    Output: accuracy and loss values, accuracy and loss graphs\n",
    "    \"\"\"\n",
    "    # initialize training and testing values\n",
    "    train_x, test_x, train_y, test_y = tt_split(sequence_matrix, expression_levels)\n",
    "    \n",
    "    # fit model\n",
    "    fit = model.fit(train_x, train_y, epochs=epochs, batch_size=batch_size, validation_data=(test_x, test_y))\n",
    "    \n",
    "    # evaluate model (run tests)\n",
    "    scores = model.evaluate(test_x, test_y)\n",
    "    \n",
    "    # plot results\n",
    "    plt = plot_results(fit.history)\n",
    "    #plt.show()\n",
    "    \n",
    "    # return model accuracy\n",
    "    return(\"Values: \"+ str(model.metrics_names[0]) + ': ' + str(scores[0]) + ' ' + str(model.metrics_names[2]) + ': ' + str(scores[2]*100) + '%')"
   ]
  },
  {
   "cell_type": "code",
   "execution_count": 121,
   "metadata": {},
   "outputs": [
    {
     "name": "stdout",
     "output_type": "stream",
     "text": [
      "Train on 7500 samples, validate on 2500 samples\n",
      "Epoch 1/10\n",
      "7500/7500 [==============================] - 13s 2ms/step - loss: 15.0179 - mean_absolute_error: 3.1204 - acc: 0.0775 - val_loss: 12.3927 - val_mean_absolute_error: 2.9065 - val_acc: 0.0584\n",
      "Epoch 2/10\n",
      "7500/7500 [==============================] - 9s 1ms/step - loss: 11.8242 - mean_absolute_error: 2.7873 - acc: 0.0843 - val_loss: 11.5211 - val_mean_absolute_error: 2.7853 - val_acc: 0.0748\n",
      "Epoch 3/10\n",
      "7500/7500 [==============================] - 9s 1ms/step - loss: 11.1242 - mean_absolute_error: 2.6851 - acc: 0.0905 - val_loss: 11.2775 - val_mean_absolute_error: 2.7152 - val_acc: 0.0864\n",
      "Epoch 4/10\n",
      "7500/7500 [==============================] - 9s 1ms/step - loss: 10.9327 - mean_absolute_error: 2.6513 - acc: 0.0936 - val_loss: 11.0215 - val_mean_absolute_error: 2.6957 - val_acc: 0.0864\n",
      "Epoch 5/10\n",
      "7500/7500 [==============================] - 9s 1ms/step - loss: 10.8895 - mean_absolute_error: 2.6478 - acc: 0.0899 - val_loss: 11.2502 - val_mean_absolute_error: 2.6851 - val_acc: 0.0944\n",
      "Epoch 6/10\n",
      "7500/7500 [==============================] - 9s 1ms/step - loss: 10.5738 - mean_absolute_error: 2.6056 - acc: 0.0936 - val_loss: 11.0222 - val_mean_absolute_error: 2.6762 - val_acc: 0.0896\n",
      "Epoch 7/10\n",
      "7500/7500 [==============================] - 9s 1ms/step - loss: 10.7142 - mean_absolute_error: 2.6187 - acc: 0.0932 - val_loss: 10.9675 - val_mean_absolute_error: 2.6908 - val_acc: 0.0848\n",
      "Epoch 8/10\n",
      "7500/7500 [==============================] - 9s 1ms/step - loss: 10.4183 - mean_absolute_error: 2.5791 - acc: 0.0968 - val_loss: 10.9778 - val_mean_absolute_error: 2.6613 - val_acc: 0.0928\n",
      "Epoch 9/10\n",
      "7500/7500 [==============================] - 9s 1ms/step - loss: 10.3995 - mean_absolute_error: 2.5706 - acc: 0.0996 - val_loss: 10.9213 - val_mean_absolute_error: 2.6862 - val_acc: 0.0820\n",
      "Epoch 10/10\n",
      "7500/7500 [==============================] - 9s 1ms/step - loss: 10.2313 - mean_absolute_error: 2.5504 - acc: 0.0977 - val_loss: 10.8780 - val_mean_absolute_error: 2.6619 - val_acc: 0.0896\n",
      "2500/2500 [==============================] - 1s 455us/step\n"
     ]
    },
    {
     "data": {
      "text/plain": [
       "'Values: loss: 10.877972393798828 acc: 8.959999999999999%'"
      ]
     },
     "execution_count": 121,
     "metadata": {},
     "output_type": "execute_result"
    },
    {
     "data": {
      "image/png": "[encoded data removed]",
      "text/plain": [
       "<Figure size 864x720 with 2 Axes>"
      ]
     },
     "metadata": {
      "needs_background": "light"
     },
     "output_type": "display_data"
    }
   ],
   "source": [
    "model_eval(sequence_matrix, expression_levels, 10, 100)"
   ]
  },
  {
   "cell_type": "code",
   "execution_count": null,
   "metadata": {},
   "outputs": [],
   "source": []
  }
 ],
 "metadata": {
  "kernelspec": {
   "display_name": "yeast",
   "language": "python",
   "name": "yeast"
  },
  "language_info": {
   "codemirror_mode": {
    "name": "ipython",
    "version": 3
   },
   "file_extension": ".py",
   "mimetype": "text/x-python",
   "name": "python",
   "nbconvert_exporter": "python",
   "pygments_lexer": "ipython3",
   "version": "3.7.0"
  }
 },
 "nbformat": 4,
 "nbformat_minor": 2
}
