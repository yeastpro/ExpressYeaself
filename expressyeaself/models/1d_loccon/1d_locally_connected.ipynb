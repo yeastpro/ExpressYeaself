{
 "cells": [
  {
   "cell_type": "code",
   "execution_count": 1,
   "metadata": {},
   "outputs": [
    {
     "name": "stderr",
     "output_type": "stream",
     "text": [
      "Using TensorFlow backend.\n"
     ]
    }
   ],
   "source": [
    "%matplotlib inline\n",
    "import context\n",
    "import os\n",
    "import pandas as pd\n",
    "import numpy as np\n",
    "from sklearn import datasets, linear_model\n",
    "from sklearn.model_selection import train_test_split\n",
    "import keras as k\n",
    "from keras.models import Sequential, Model\n",
    "from keras.layers import Input, Dense, InputLayer, Dropout, Flatten, Concatenate, BatchNormalization, LocallyConnected1D\n",
    "import matplotlib.pyplot as plt\n",
    "import tensorflow as tf\n",
    "\n",
    "from tensorflow.python.keras import regularizers\n",
    "from tensorflow.python.keras.utils import to_categorical\n",
    "from tensorflow.python.keras.callbacks import ModelCheckpoint, TensorBoard\n",
    "from sklearn.model_selection import StratifiedKFold\n",
    "\n",
    "ROOT_DIR = os.getcwd() + '/'\n",
    "CHECKPOINTS_DIR = ROOT_DIR + 'checkpoints/'\n",
    "construct = context.construct_neural_net\n",
    "encode = context.encode_sequences\n",
    "organize = context.organize_data"
   ]
  },
  {
   "cell_type": "code",
   "execution_count": 2,
   "metadata": {},
   "outputs": [],
   "source": [
    "def encode_data(datapath):\n",
    "    \"\"\"\n",
    "    This function reads in a file and outputs a file with each of the\n",
    "    sequences encoded.\n",
    "    Input: file path\n",
    "    Output: file consisting of encoded sequences\n",
    "    (encoded by scripted from encode_sequences file)\n",
    "    \"\"\"\n",
    "    sequences, expression_levels, max_el = encode.encode_sequences_with_method(datapath, method='One-Hot', scale_els=True, model_type='1DLOCCON', binarized_els=True)\n",
    "    return sequences, expression_levels, max_el"
   ]
  },
  {
   "cell_type": "code",
   "execution_count": 3,
   "metadata": {
    "scrolled": true
   },
   "outputs": [],
   "source": [
    "data = '/Users/Meenakshi Krishnan/Documents/DIRECT/Capstone/yeastpro/ExpressYeaself/example/processed_data/10000_from_20190612130111781831_percentiles_els_binarized_homogeneous_deflanked_sequences_with_exp_levels.txt.gz'\n",
    "#organize.create_sample_data(data, 10000)"
   ]
  },
  {
   "cell_type": "code",
   "execution_count": 4,
   "metadata": {},
   "outputs": [],
   "source": [
    "sequences, expression_levels, max_el = encode_data(data)"
   ]
  },
  {
   "cell_type": "code",
   "execution_count": 5,
   "metadata": {
    "scrolled": true
   },
   "outputs": [],
   "source": [
    "def data_shape(sequences):\n",
    "    \"\"\"\n",
    "    This function reads in the np.array sequence matrix and outputs its\n",
    "    dimensions. \n",
    "    Input: np.array\n",
    "    Output: tuple consisting of the dimensions of the input matrix\n",
    "    \"\"\"\n",
    "    shape = sequences.shape\n",
    "    return shape"
   ]
  },
  {
   "cell_type": "code",
   "execution_count": 6,
   "metadata": {},
   "outputs": [],
   "source": [
    "shape = data_shape(sequences)"
   ]
  },
  {
   "cell_type": "code",
   "execution_count": 7,
   "metadata": {},
   "outputs": [],
   "source": [
    "def plot_results(fit):\n",
    "    \"\"\"\n",
    "    This function takes the results from the model fit and evaluations\n",
    "    and returns a visualization for the test-train accuracies and model\n",
    "    losses.\n",
    "    Input: model.fit() object results, specifically accuracies and \n",
    "    losses of the train and test data\n",
    "    Output: matplotlib graphical visualizations of each\n",
    "    \"\"\"\n",
    "    # Create plot with subplots\n",
    "    fig, ax = plt.subplots(1, 2, figsize=(15,12))\n",
    "\n",
    "    # Plot the accuracy plot\n",
    "    ax1 = plt.subplot(221, xlabel='Epoch', ylabel='Accuracy', title='Model Accuracy Plot')\n",
    "    ax1.plot(fit['acc'], color='goldenrod', lw=2, alpha=0.5)\n",
    "    ax1.plot(fit['val_acc'], color='rebeccapurple', lw=2, alpha=0.5)\n",
    "\n",
    "    # Plot the loss plot\n",
    "    ax2 = plt.subplot(222, xlabel='Epoch', ylabel='Loss', title='Model Loss Plot')\n",
    "    ax2.plot(fit['loss'], color='goldenrod', lw=2, alpha=0.5)\n",
    "    ax2.plot(fit['val_loss'], color='rebeccapurple', lw=2, alpha=0.5)\n",
    "\n",
    "\n",
    "    # create a list to store the axes\n",
    "    axes_list = [ax1, ax2]\n",
    "    # edit common components using a for loop\n",
    "    for ax in axes_list:\n",
    "        ax.title.set_fontsize(20) \n",
    "        ax.xaxis.label.set_fontsize(14) \n",
    "        ax.yaxis.label.set_fontsize(14)\n",
    "        ax.legend(['Train', 'Test'], loc='upper left')\n",
    "\n",
    "    return ax1, ax2"
   ]
  },
  {
   "cell_type": "code",
   "execution_count": 8,
   "metadata": {},
   "outputs": [],
   "source": [
    "def tt_split(sequences, expression_levels):\n",
    "    \"\"\"\n",
    "    This function reads in the np.array sequence matrix and expressions levels\n",
    "    and performs a test-train split on the data.\n",
    "    Input: np.array sequence matrix and expression levels\n",
    "    Output: train_x, test_x, train_y, test_y\n",
    "    \"\"\"\n",
    "    train_x, test_x, train_y, test_y = train_test_split(sequences, expression_levels, test_size=0.30)\n",
    "    return train_x, test_x, train_y, test_y"
   ]
  },
  {
   "cell_type": "code",
   "execution_count": 47,
   "metadata": {
    "scrolled": false
   },
   "outputs": [
    {
     "name": "stdout",
     "output_type": "stream",
     "text": [
      "__________________________________________________________________________________________________\n",
      "Layer (type)                    Output Shape         Param #     Connected to                     \n",
      "==================================================================================================\n",
      "input_25 (InputLayer)           (None, 80, 5)        0                                            \n",
      "__________________________________________________________________________________________________\n",
      "locally_connected1d_110 (Locall (None, 80, 15)       7200        input_25[0][0]                   \n",
      "__________________________________________________________________________________________________\n",
      "locally_connected1d_111 (Locall (None, 77, 15)       24255       input_25[0][0]                   \n",
      "__________________________________________________________________________________________________\n",
      "locally_connected1d_112 (Locall (None, 74, 15)       39960       input_25[0][0]                   \n",
      "__________________________________________________________________________________________________\n",
      "locally_connected1d_113 (Locall (None, 71, 15)       54315       input_25[0][0]                   \n",
      "__________________________________________________________________________________________________\n",
      "locally_connected1d_114 (Locall (None, 68, 15)       67320       input_25[0][0]                   \n",
      "__________________________________________________________________________________________________\n",
      "concatenate_25 (Concatenate)    (None, 370, 15)      0           locally_connected1d_110[0][0]    \n",
      "                                                                 locally_connected1d_111[0][0]    \n",
      "                                                                 locally_connected1d_112[0][0]    \n",
      "                                                                 locally_connected1d_113[0][0]    \n",
      "                                                                 locally_connected1d_114[0][0]    \n",
      "__________________________________________________________________________________________________\n",
      "flatten_25 (Flatten)            (None, 5550)         0           concatenate_25[0][0]             \n",
      "__________________________________________________________________________________________________\n",
      "dropout_79 (Dropout)            (None, 5550)         0           flatten_25[0][0]                 \n",
      "__________________________________________________________________________________________________\n",
      "dense_79 (Dense)                (None, 2500)         13877500    dropout_79[0][0]                 \n",
      "__________________________________________________________________________________________________\n",
      "dropout_80 (Dropout)            (None, 2500)         0           dense_79[0][0]                   \n",
      "__________________________________________________________________________________________________\n",
      "dense_80 (Dense)                (None, 10)           25010       dropout_80[0][0]                 \n",
      "__________________________________________________________________________________________________\n",
      "dropout_81 (Dropout)            (None, 10)           0           dense_80[0][0]                   \n",
      "__________________________________________________________________________________________________\n",
      "dense_81 (Dense)                (None, 1)            11          dropout_81[0][0]                 \n",
      "==================================================================================================\n",
      "Total params: 14,095,571\n",
      "Trainable params: 14,095,571\n",
      "Non-trainable params: 0\n",
      "__________________________________________________________________________________________________\n",
      "None\n"
     ]
    }
   ],
   "source": [
    "# Define the model parameters\n",
    "batch_size = len(expression_levels) * 0.01 # no bigger than 1 % of data\n",
    "filters = 15\n",
    "# kernel_size\n",
    "strides = 1\n",
    "epochs = 10\n",
    "dropout = 0.1\n",
    "num_layers = 5\n",
    "\n",
    "# Define the inputs\n",
    "x_input = shape[1]\n",
    "y_input = shape[2]\n",
    "inputs = Input(shape=(x_input, y_input))\n",
    "layers = []\n",
    "\n",
    "# Define the tensorboard and checkpointer if desired\n",
    "checkpointer = ModelCheckpoint(monitor='val_acc', \n",
    "                               filepath=(CHECKPOINTS_DIR + '1d_loccon_classifer_onehot.hdf5'), \n",
    "                               verbose=1, \n",
    "                               save_best_only=True)\n",
    "\n",
    "# Build up the layers\n",
    "for i in range(1, num_layers + 1):\n",
    "    layer = LocallyConnected1D(filters, kernel_size=(3 * i - 2), strides=strides, activation='relu')(inputs)\n",
    "    layers.append(layer)\n",
    "\n",
    "# Combine the layers\n",
    "combined = Concatenate(axis=1)(layers)\n",
    "\n",
    "# Add some flatten, dense, and dropout layers\n",
    "out = Flatten()(combined)\n",
    "out = Dropout(dropout)(out)\n",
    "out = Dense(2500, activation='sigmoid')(out)\n",
    "out = Dropout(dropout)(out)\n",
    "# out = Dense(1000, activation='sigmoid')(out)\n",
    "# out = Dropout(dropout)(out)\n",
    "out = Dense(10, activation='sigmoid')(out)\n",
    "out = Dropout(dropout)(out)\n",
    "# out = Dense(10, activation='sigmoid')(out)\n",
    "# out = Dropout(dropout)(out)\n",
    "out = Dense(1, activation='sigmoid')(out)\n",
    "\n",
    "\n",
    "# Define the model with inputs and outputs, and compile.\n",
    "model = Model(inputs=inputs, outputs=out)\n",
    "model.compile(optimizer='rmsprop', loss='binary_crossentropy', metrics=['mae', 'acc'])\n",
    "\n",
    "# Print model summary\n",
    "print(model.summary())"
   ]
  },
  {
   "cell_type": "code",
   "execution_count": 48,
   "metadata": {
    "scrolled": false
   },
   "outputs": [
    {
     "name": "stdout",
     "output_type": "stream",
     "text": [
      "Train on 7000 samples, validate on 3000 samples\n",
      "Epoch 1/12\n",
      "7000/7000 [==============================] - 44s 6ms/step - loss: 0.6485 - mean_absolute_error: 0.4563 - acc: 0.6240 - val_loss: 0.5743 - val_mean_absolute_error: 0.4124 - val_acc: 0.7150\n",
      "\n",
      "Epoch 00001: val_acc improved from -inf to 0.71500, saving model to C:\\Users\\Meenakshi Krishnan\\Documents\\DIRECT\\Capstone\\yeastpro\\ExpressYeaself\\expressyeaself\\models\\1d_loccon/checkpoints/1d_loccon_classifer_onehot.hdf5\n",
      "Epoch 2/12\n",
      "7000/7000 [==============================] - 29s 4ms/step - loss: 0.5540 - mean_absolute_error: 0.3832 - acc: 0.7267 - val_loss: 0.5425 - val_mean_absolute_error: 0.3819 - val_acc: 0.7373\n",
      "\n",
      "Epoch 00002: val_acc improved from 0.71500 to 0.73733, saving model to C:\\Users\\Meenakshi Krishnan\\Documents\\DIRECT\\Capstone\\yeastpro\\ExpressYeaself\\expressyeaself\\models\\1d_loccon/checkpoints/1d_loccon_classifer_onehot.hdf5\n",
      "Epoch 3/12\n",
      "7000/7000 [==============================] - 29s 4ms/step - loss: 0.5156 - mean_absolute_error: 0.3549 - acc: 0.7586 - val_loss: 0.5357 - val_mean_absolute_error: 0.3666 - val_acc: 0.7400\n",
      "\n",
      "Epoch 00003: val_acc improved from 0.73733 to 0.74000, saving model to C:\\Users\\Meenakshi Krishnan\\Documents\\DIRECT\\Capstone\\yeastpro\\ExpressYeaself\\expressyeaself\\models\\1d_loccon/checkpoints/1d_loccon_classifer_onehot.hdf5\n",
      "Epoch 4/12\n",
      "7000/7000 [==============================] - 29s 4ms/step - loss: 0.4885 - mean_absolute_error: 0.3327 - acc: 0.7776 - val_loss: 0.5205 - val_mean_absolute_error: 0.3500 - val_acc: 0.7487\n",
      "\n",
      "Epoch 00004: val_acc improved from 0.74000 to 0.74867, saving model to C:\\Users\\Meenakshi Krishnan\\Documents\\DIRECT\\Capstone\\yeastpro\\ExpressYeaself\\expressyeaself\\models\\1d_loccon/checkpoints/1d_loccon_classifer_onehot.hdf5\n",
      "Epoch 5/12\n",
      "7000/7000 [==============================] - 29s 4ms/step - loss: 0.4546 - mean_absolute_error: 0.3064 - acc: 0.8019 - val_loss: 0.5398 - val_mean_absolute_error: 0.3535 - val_acc: 0.7343\n",
      "\n",
      "Epoch 00005: val_acc did not improve from 0.74867\n",
      "Epoch 6/12\n",
      "7000/7000 [==============================] - 29s 4ms/step - loss: 0.4234 - mean_absolute_error: 0.2814 - acc: 0.8216 - val_loss: 0.5183 - val_mean_absolute_error: 0.3148 - val_acc: 0.7613\n",
      "\n",
      "Epoch 00006: val_acc improved from 0.74867 to 0.76133, saving model to C:\\Users\\Meenakshi Krishnan\\Documents\\DIRECT\\Capstone\\yeastpro\\ExpressYeaself\\expressyeaself\\models\\1d_loccon/checkpoints/1d_loccon_classifer_onehot.hdf5\n",
      "Epoch 7/12\n",
      "7000/7000 [==============================] - 29s 4ms/step - loss: 0.3876 - mean_absolute_error: 0.2560 - acc: 0.8439 - val_loss: 0.5007 - val_mean_absolute_error: 0.3146 - val_acc: 0.7677\n",
      "\n",
      "Epoch 00007: val_acc improved from 0.76133 to 0.76767, saving model to C:\\Users\\Meenakshi Krishnan\\Documents\\DIRECT\\Capstone\\yeastpro\\ExpressYeaself\\expressyeaself\\models\\1d_loccon/checkpoints/1d_loccon_classifer_onehot.hdf5\n",
      "Epoch 8/12\n",
      "7000/7000 [==============================] - 29s 4ms/step - loss: 0.3356 - mean_absolute_error: 0.2214 - acc: 0.8753 - val_loss: 0.5333 - val_mean_absolute_error: 0.3001 - val_acc: 0.7623\n",
      "\n",
      "Epoch 00008: val_acc did not improve from 0.76767\n",
      "Epoch 9/12\n",
      "7000/7000 [==============================] - 29s 4ms/step - loss: 0.3096 - mean_absolute_error: 0.1986 - acc: 0.8873 - val_loss: 0.5564 - val_mean_absolute_error: 0.3039 - val_acc: 0.7480\n",
      "\n",
      "Epoch 00009: val_acc did not improve from 0.76767\n",
      "Epoch 10/12\n",
      "7000/7000 [==============================] - 29s 4ms/step - loss: 0.2650 - mean_absolute_error: 0.1714 - acc: 0.9137 - val_loss: 0.6246 - val_mean_absolute_error: 0.3031 - val_acc: 0.7383\n",
      "\n",
      "Epoch 00010: val_acc did not improve from 0.76767\n",
      "Epoch 11/12\n",
      "7000/7000 [==============================] - 29s 4ms/step - loss: 0.2499 - mean_absolute_error: 0.1579 - acc: 0.9164 - val_loss: 0.6794 - val_mean_absolute_error: 0.3142 - val_acc: 0.7190\n",
      "\n",
      "Epoch 00011: val_acc did not improve from 0.76767\n",
      "Epoch 12/12\n",
      "7000/7000 [==============================] - 29s 4ms/step - loss: 0.2254 - mean_absolute_error: 0.1406 - acc: 0.9297 - val_loss: 0.5971 - val_mean_absolute_error: 0.2790 - val_acc: 0.7613\n",
      "\n",
      "Epoch 00012: val_acc did not improve from 0.76767\n",
      "3000/3000 [==============================] - 4s 1ms/step\n"
     ]
    },
    {
     "data": {
      "text/plain": [
       "'Values: loss: 0.5971159842809042 acc: 76.13333331743875%'"
      ]
     },
     "execution_count": 48,
     "metadata": {},
     "output_type": "execute_result"
    },
    {
     "data": {
      "image/png": "[encoded data removed]",
      "text/plain": [
       "<Figure size 432x288 with 2 Axes>"
      ]
     },
     "metadata": {
      "needs_background": "light"
     },
     "output_type": "display_data"
    }
   ],
   "source": [
    "# initialize training and testing values\n",
    "train_x, test_x, train_y, test_y = tt_split(sequences, expression_levels)\n",
    "\n",
    "# fit model\n",
    "fit = model.fit(train_x, train_y, epochs=12, batch_size=100, validation_data=(test_x, test_y), callbacks=[checkpointer])\n",
    "\n",
    "# evaluate model (run tests)\n",
    "scores = model.evaluate(test_x, test_y)\n",
    "\n",
    "# plot results\n",
    "#plt = plot_results(fit.history)\n",
    "plt = construct.plot_results(fit.history)\n",
    "\n",
    "# return model accuracy\n",
    "(\"Values: \"+ str(model.metrics_names[0]) + ': ' + str(scores[0]) + ' ' + str(model.metrics_names[2]) + ': ' + str(scores[2]*100) + '%')"
   ]
  },
  {
   "cell_type": "code",
   "execution_count": null,
   "metadata": {},
   "outputs": [],
   "source": [
    "# def loc_con_1d_model(filters, kernel_size, strides, input_x, input_y, drop_rate, dense_units1, dense_units_final, optimizer, loss):\n",
    "#     \"\"\"\n",
    "#     This function reads in various parameters to compiles a LocallyConnected1D\n",
    "#     model, consisting of various layers including Dropout, Flatten and\n",
    "#     Dense. The function returns the model summary.\n",
    "#     Input: Various parameters including filter size, kernel size, number\n",
    "#     of strides, x and y dimensional input values, dropout rate (for Dropout\n",
    "#     Layers), dense units (for Dense Layers) and the optimizer and loss\n",
    "#     methods for the model.compile function.\n",
    "#     Output: model summary (based on model.summary() object)\n",
    "#     \"\"\"\n",
    "#     # make a global variable\n",
    "#     global model\n",
    "    \n",
    "#     # initialize model\n",
    "#     model = Sequential()\n",
    "#     model.add(LocallyConnected1D(filters, kernel_size, strides=strides, input_shape=(input_x, input_y), activation='relu'))\n",
    "    \n",
    "#     # additional layers\n",
    "# #     model.add(Dense(50))    \n",
    "# #     model.add(Dropout(drop_rate))\n",
    "# #     model.add(LocallyConnected1D(50, 15, activation='relu'))\n",
    "# #     model.add(Dense(10))  \n",
    "# #     model.add(Dropout(drop_rate))\n",
    "# #     model.add(Dense(10))  \n",
    "# #     model.add(Dropout(drop_rate))\n",
    "#     model.add(Dense(dense_units)) \n",
    "#     model.add(Dropout(drop_rate))\n",
    "    \n",
    "#     # final flatten and dense layers\n",
    "#     model.add(Flatten())\n",
    "#     model.add(Dense(dense_units_final))\n",
    "    \n",
    "#     # compile model\n",
    "#     model.compile(optimizer=optimizer, loss=loss, metrics=['mae', 'acc'])\n",
    "    \n",
    "#     # return model summary\n",
    "#     return(model, model.summary())"
   ]
  },
  {
   "cell_type": "code",
   "execution_count": null,
   "metadata": {
    "scrolled": true
   },
   "outputs": [],
   "source": [
    "# loc_con_1d_model(100, 20, 1, 257, 5, 0.5, 10, 1, 'adam', 'mean_squared_error')"
   ]
  },
  {
   "cell_type": "code",
   "execution_count": null,
   "metadata": {},
   "outputs": [],
   "source": [
    "# def model_eval(sequence_matrix, expression_levels, epochs, batch_size):\n",
    "#      \"\"\"\n",
    "#     This function fits the LocallyConnected1D model, generated in the \n",
    "#     loc_con_1d_model() function, using given train and test data sets. The\n",
    "#     model evaluates acccuracy and loss scores and outputs these values\n",
    "#     as well as a graphical visualization by calling the plot_results()\n",
    "#     function and passing through these values.\n",
    "#     Input: sequence_matrix and expression_level arrays, number of epochs\n",
    "#     to run the model for, and batch size (number of samples to train)\n",
    "#     Output: accuracy and loss values, accuracy and loss graphs\n",
    "#     \"\"\"\n",
    "#     # initialize training and testing values\n",
    "#     train_x, test_x, train_y, test_y = tt_split(sequence_matrix, expression_levels)\n",
    "    \n",
    "#     # fit model\n",
    "#     fit = model.fit(train_x, train_y, epochs=epochs, batch_size=batch_size, validation_data=(test_x, test_y))\n",
    "    \n",
    "#     # evaluate model (run tests)\n",
    "#     scores = model.evaluate(test_x, test_y)\n",
    "    \n",
    "#     # plot results\n",
    "#     plt = plot_results(fit.history)\n",
    "#     #plt.show()\n",
    "    \n",
    "#     # return model accuracy\n",
    "#     return(\"Values: \"+ str(model.metrics_names[0]) + ': ' + str(scores[0]) + ' ' + str(model.metrics_names[2]) + ': ' + str(scores[2]*100) + '%')"
   ]
  },
  {
   "cell_type": "code",
   "execution_count": null,
   "metadata": {},
   "outputs": [],
   "source": [
    "# model_eval(sequence_matrix, expression_levels, 10, 100)"
   ]
  },
  {
   "cell_type": "code",
   "execution_count": null,
   "metadata": {},
   "outputs": [],
   "source": []
  }
 ],
 "metadata": {
  "kernelspec": {
   "display_name": "yeast",
   "language": "python",
   "name": "yeast"
  },
  "language_info": {
   "codemirror_mode": {
    "name": "ipython",
    "version": 3
   },
   "file_extension": ".py",
   "mimetype": "text/x-python",
   "name": "python",
   "nbconvert_exporter": "python",
   "pygments_lexer": "ipython3",
   "version": "3.7.0"
  }
 },
 "nbformat": 4,
 "nbformat_minor": 2
}
