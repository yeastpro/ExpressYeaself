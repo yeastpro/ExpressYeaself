{
 "cells": [
  {
   "cell_type": "markdown",
   "metadata": {},
   "source": [
    "# Using _organize__data.py_"
   ]
  },
  {
   "cell_type": "markdown",
   "metadata": {},
   "source": [
    "## Contents \n",
    "#### (the functions contained within _encode__sequences.py_)"
   ]
  },
  {
   "cell_type": "markdown",
   "metadata": {},
   "source": [
    "1. split_scaffolds_by_type()\n",
    "1. check_oligonucleotide_flanks()\n",
    "1. create_proxy_one_hot_data()\n",
    "1. pull_homogeneous_sequences()"
   ]
  },
  {
   "cell_type": "markdown",
   "metadata": {},
   "source": [
    "## How to use them"
   ]
  },
  {
   "cell_type": "markdown",
   "metadata": {},
   "source": [
    "### 4. pull_homogeneous_sequences()"
   ]
  },
  {
   "cell_type": "markdown",
   "metadata": {},
   "source": [
    "#### Import the function"
   ]
  },
  {
   "cell_type": "code",
   "execution_count": 2,
   "metadata": {},
   "outputs": [],
   "source": [
    "from organize_data import pull_homogeneous_sequences as pull_homogen_seqs"
   ]
  },
  {
   "cell_type": "markdown",
   "metadata": {},
   "source": [
    "#### Define the input and output files"
   ]
  },
  {
   "cell_type": "markdown",
   "metadata": {},
   "source": [
    "* Here we are going to data entitled 'GSE104878_20160609_average_promoter_ELs_per_seq_pTpA_ALL.shuffled.txt.gz' from https://www.ncbi.nlm.nih.gov/geo/query/acc.cgi?acc=GSE104878 "
   ]
  },
  {
   "cell_type": "code",
   "execution_count": null,
   "metadata": {},
   "outputs": [],
   "source": [
    "infile = '../example/pTpA_data/average_promoter_ELs_per_seq_pTpA_ALL_GSE104878_20160609.shuffled.txt'\n",
    "outfile = './homogeneous_seqs.txt'"
   ]
  },
  {
   "cell_type": "code",
   "execution_count": null,
   "metadata": {},
   "outputs": [],
   "source": [
    "t0 = t.time()\n",
    "pull_homogeneous_seqs(infile, outfile, scaffold_type='pTpA')\n",
    "t1 = t.time()\n",
    "print(t1-t0)"
   ]
  }
 ],
 "metadata": {
  "kernelspec": {
   "display_name": "yeast",
   "language": "python",
   "name": "yeast"
  },
  "language_info": {
   "codemirror_mode": {
    "name": "ipython",
    "version": 3
   },
   "file_extension": ".py",
   "mimetype": "text/x-python",
   "name": "python",
   "nbconvert_exporter": "python",
   "pygments_lexer": "ipython3",
   "version": "3.7.3"
  }
 },
 "nbformat": 4,
 "nbformat_minor": 2
}
