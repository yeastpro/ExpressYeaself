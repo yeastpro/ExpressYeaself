{
 "cells": [
  {
   "cell_type": "code",
   "execution_count": 4,
   "metadata": {},
   "outputs": [
    {
     "name": "stderr",
     "output_type": "stream",
     "text": [
      "Using TensorFlow backend.\n"
     ]
    }
   ],
   "source": [
    "import pandas as pd\n",
    "import numpy as np\n",
    "from sklearn import datasets, linear_model\n",
    "from sklearn.model_selection import train_test_split\n",
    "import keras as k\n",
    "from keras.models import Sequential\n",
    "from keras.layers import Dense, InputLayer, Dropout, Flatten, BatchNormalization, LocallyConnected1D\n",
    "import matplotlib.pyplot as plt\n",
    "import expressyeaself.encode_sequences as encode\n",
    "\n",
    "%matplotlib inline"
   ]
  },
  {
   "cell_type": "code",
   "execution_count": 5,
   "metadata": {},
   "outputs": [
    {
     "name": "stdout",
     "output_type": "stream",
     "text": [
      "C:\\Users\\Meenakshi Krishnan\\Documents\\DIRECT\\Capstone\\yeastpro\\ExpressYeaself\\example/encoded_data/20190606220418898176_encoded_sequences.txt\n"
     ]
    }
   ],
   "source": [
    "data = '/Users/Meenakshi Krishnan/Documents/DIRECT/Capstone/yeastpro/ExpressYeaself/example/processed_data/10000_samples_from_190523000651814570_deflanked_sequences_inserted_into_Abf1TATA_scaffold_padded_with_exp_levels.txt.gz'\n",
    "en_data = encode.encode_sequences_with_method(data)\n",
    "print(en_data)"
   ]
  },
  {
   "cell_type": "code",
   "execution_count": 6,
   "metadata": {
    "scrolled": true
   },
   "outputs": [
    {
     "data": {
      "text/html": [
       "<div>\n",
       "<style scoped>\n",
       "    .dataframe tbody tr th:only-of-type {\n",
       "        vertical-align: middle;\n",
       "    }\n",
       "\n",
       "    .dataframe tbody tr th {\n",
       "        vertical-align: top;\n",
       "    }\n",
       "\n",
       "    .dataframe thead th {\n",
       "        text-align: right;\n",
       "    }\n",
       "</style>\n",
       "<table border=\"1\" class=\"dataframe\">\n",
       "  <thead>\n",
       "    <tr style=\"text-align: right;\">\n",
       "      <th></th>\n",
       "      <th>raw_sequence</th>\n",
       "      <th>ex_levels</th>\n",
       "    </tr>\n",
       "  </thead>\n",
       "  <tbody>\n",
       "    <tr>\n",
       "      <th>0</th>\n",
       "      <td>[[0, 0, 1, 0, 0], [0, 0, 0, 1, 0], [0, 1, 0, 0...</td>\n",
       "      <td>1.000000</td>\n",
       "    </tr>\n",
       "    <tr>\n",
       "      <th>1</th>\n",
       "      <td>[[0, 0, 1, 0, 0], [0, 0, 0, 1, 0], [0, 1, 0, 0...</td>\n",
       "      <td>10.000000</td>\n",
       "    </tr>\n",
       "    <tr>\n",
       "      <th>2</th>\n",
       "      <td>[[0, 0, 1, 0, 0], [0, 0, 0, 1, 0], [0, 1, 0, 0...</td>\n",
       "      <td>8.514205</td>\n",
       "    </tr>\n",
       "    <tr>\n",
       "      <th>3</th>\n",
       "      <td>[[0, 0, 1, 0, 0], [0, 0, 0, 1, 0], [0, 1, 0, 0...</td>\n",
       "      <td>3.000000</td>\n",
       "    </tr>\n",
       "    <tr>\n",
       "      <th>4</th>\n",
       "      <td>[[0, 0, 1, 0, 0], [0, 0, 0, 1, 0], [0, 1, 0, 0...</td>\n",
       "      <td>7.759058</td>\n",
       "    </tr>\n",
       "  </tbody>\n",
       "</table>\n",
       "</div>"
      ],
      "text/plain": [
       "                                        raw_sequence  ex_levels\n",
       "0  [[0, 0, 1, 0, 0], [0, 0, 0, 1, 0], [0, 1, 0, 0...   1.000000\n",
       "1  [[0, 0, 1, 0, 0], [0, 0, 0, 1, 0], [0, 1, 0, 0...  10.000000\n",
       "2  [[0, 0, 1, 0, 0], [0, 0, 0, 1, 0], [0, 1, 0, 0...   8.514205\n",
       "3  [[0, 0, 1, 0, 0], [0, 0, 0, 1, 0], [0, 1, 0, 0...   3.000000\n",
       "4  [[0, 0, 1, 0, 0], [0, 0, 0, 1, 0], [0, 1, 0, 0...   7.759058"
      ]
     },
     "execution_count": 6,
     "metadata": {},
     "output_type": "execute_result"
    }
   ],
   "source": [
    "proxy_df = pd.read_csv(en_data, names=['raw_sequence', 'ex_levels'], sep='\\t')\n",
    "proxy_df.head()"
   ]
  },
  {
   "cell_type": "code",
   "execution_count": 7,
   "metadata": {},
   "outputs": [],
   "source": [
    "ex_levels = np.array(proxy_df['ex_levels'])\n",
    "# ex_levels"
   ]
  },
  {
   "cell_type": "code",
   "execution_count": 8,
   "metadata": {},
   "outputs": [],
   "source": [
    "# ex_levels = []\n",
    "# for ex_lev in proxy_df['ex_levels']:\n",
    "#     array_ex = np.array(ast.literal_eval(ex_lev))\n",
    "#     ex_levels.append(array_ex)"
   ]
  },
  {
   "cell_type": "code",
   "execution_count": 9,
   "metadata": {},
   "outputs": [
    {
     "data": {
      "text/plain": [
       "array([[[0, 0, 1, 0, 0],\n",
       "        [0, 0, 0, 1, 0],\n",
       "        [0, 1, 0, 0, 0],\n",
       "        ...,\n",
       "        [0, 0, 0, 0, 0],\n",
       "        [0, 0, 0, 0, 0],\n",
       "        [0, 0, 0, 0, 0]],\n",
       "\n",
       "       [[0, 0, 1, 0, 0],\n",
       "        [0, 0, 0, 1, 0],\n",
       "        [0, 1, 0, 0, 0],\n",
       "        ...,\n",
       "        [0, 0, 0, 0, 0],\n",
       "        [0, 0, 0, 0, 0],\n",
       "        [0, 0, 0, 0, 0]],\n",
       "\n",
       "       [[0, 0, 1, 0, 0],\n",
       "        [0, 0, 0, 1, 0],\n",
       "        [0, 1, 0, 0, 0],\n",
       "        ...,\n",
       "        [0, 0, 0, 0, 0],\n",
       "        [0, 0, 0, 0, 0],\n",
       "        [0, 0, 0, 0, 0]],\n",
       "\n",
       "       ...,\n",
       "\n",
       "       [[0, 0, 1, 0, 0],\n",
       "        [0, 0, 0, 1, 0],\n",
       "        [0, 1, 0, 0, 0],\n",
       "        ...,\n",
       "        [0, 0, 0, 0, 0],\n",
       "        [0, 0, 0, 0, 0],\n",
       "        [0, 0, 0, 0, 0]],\n",
       "\n",
       "       [[0, 0, 1, 0, 0],\n",
       "        [0, 0, 0, 1, 0],\n",
       "        [0, 1, 0, 0, 0],\n",
       "        ...,\n",
       "        [0, 0, 0, 0, 0],\n",
       "        [0, 0, 0, 0, 0],\n",
       "        [0, 0, 0, 0, 0]],\n",
       "\n",
       "       [[0, 0, 1, 0, 0],\n",
       "        [0, 0, 0, 1, 0],\n",
       "        [0, 1, 0, 0, 0],\n",
       "        ...,\n",
       "        [0, 0, 0, 0, 0],\n",
       "        [0, 0, 0, 0, 0],\n",
       "        [0, 0, 0, 0, 0]]])"
      ]
     },
     "execution_count": 9,
     "metadata": {},
     "output_type": "execute_result"
    }
   ],
   "source": [
    "import ast\n",
    "#proxy_data = ast.literal_eval(proxy_df[0][0])\n",
    "seq_mat = []\n",
    "\n",
    "for sequence in proxy_df['raw_sequence']:\n",
    "    array_seq = np.array(ast.literal_eval(sequence))\n",
    "    seq_mat.append(array_seq)\n",
    "    \n",
    "seq_mat = np.array(seq_mat)\n",
    "seq_mat"
   ]
  },
  {
   "cell_type": "code",
   "execution_count": 10,
   "metadata": {
    "scrolled": true
   },
   "outputs": [
    {
     "data": {
      "text/plain": [
       "10000"
      ]
     },
     "execution_count": 10,
     "metadata": {},
     "output_type": "execute_result"
    }
   ],
   "source": [
    "data_len = seq_mat.shape[0]\n",
    "data_len"
   ]
  },
  {
   "cell_type": "code",
   "execution_count": 11,
   "metadata": {
    "scrolled": true
   },
   "outputs": [
    {
     "data": {
      "text/plain": [
       "257"
      ]
     },
     "execution_count": 11,
     "metadata": {},
     "output_type": "execute_result"
    }
   ],
   "source": [
    "seq_len = seq_mat.shape[1]\n",
    "seq_len"
   ]
  },
  {
   "cell_type": "code",
   "execution_count": 19,
   "metadata": {},
   "outputs": [],
   "source": [
    "def plot(fit):\n",
    "    # summarize history for accuracy\n",
    "    \n",
    "    plt.subplot(1, 2, 1)\n",
    "    plt.plot(fit['acc'])\n",
    "    plt.plot(fit['val_acc'])\n",
    "    plt.title('Model Accuracy')\n",
    "    plt.ylabel('Accuracy')\n",
    "    plt.xlabel('Epoch')\n",
    "    plt.legend(['Train', 'Test'], loc='upper left')\n",
    "\n",
    "    # summarize history for loss\n",
    "    plt.subplot(1, 2, 2)\n",
    "    plt.plot(fit['loss'])\n",
    "    plt.plot(fit['val_loss'])\n",
    "    plt.title('Model Loss')\n",
    "    plt.ylabel('Loss')\n",
    "    plt.xlabel('Epoch')\n",
    "    plt.legend(['Train', 'Test'], loc='upper left')\n",
    "    #plt.tight_layout()\n",
    "    \n",
    "    return plt"
   ]
  },
  {
   "cell_type": "code",
   "execution_count": 33,
   "metadata": {},
   "outputs": [],
   "source": [
    "def plot_results(fit):\n",
    "    # Create plot with subplots\n",
    "    fig, ax = plt.subplots(1, 2, figsize=(12,10))\n",
    "\n",
    "    # Plot the accuracy plot\n",
    "    ax1 = plt.subplot(221, xlabel='Epoch', ylabel='Accuracy', title='Model Accuracy Plot')\n",
    "    ax1.plot(fit['acc'], color='goldenrod', alpha=0.5)\n",
    "    ax1.plot(fit['val_acc'], color='rebeccapurple', alpha=0.5)\n",
    "\n",
    "    # Plot the loss plot\n",
    "    ax2 = plt.subplot(222, xlabel='Epoch', ylabel='Loss', title='Model Loss Plot')\n",
    "    ax2.plot(fit['loss'], color='goldenrod', alpha=0.5)\n",
    "    ax2.plot(fit['val_loss'], color='rebeccapurple', alpha=0.5)\n",
    "\n",
    "\n",
    "    # create a list to store the axes\n",
    "    axes_list = [ax1, ax2]\n",
    "    # edit common components using a for loop\n",
    "    for ax in axes_list:\n",
    "        ax.title.set_fontsize(12) \n",
    "        ax.xaxis.label.set_fontsize(12) \n",
    "        ax.yaxis.label.set_fontsize(12)\n",
    "        ax.legend(['Train', 'Test'], loc='upper left')\n",
    "\n",
    "    return ax1, ax2"
   ]
  },
  {
   "cell_type": "code",
   "execution_count": 34,
   "metadata": {},
   "outputs": [],
   "source": [
    "def tt_split(sequence_matrix, expression_levels):\n",
    "    train_x, test_x, train_y, test_y = train_test_split(sequence_matrix, expression_levels, test_size=0.25)\n",
    "    return train_x, test_x, train_y, test_y"
   ]
  },
  {
   "cell_type": "code",
   "execution_count": 35,
   "metadata": {},
   "outputs": [],
   "source": [
    "#tt_split(seq_mat, ex_levels)"
   ]
  },
  {
   "cell_type": "code",
   "execution_count": 36,
   "metadata": {},
   "outputs": [],
   "source": [
    "def loc_con_1d_model(filters, kernel_size, strides, input_x, input_y, drop_rate, dense_units, optimizer, loss):\n",
    "    \n",
    "    # make a global variable\n",
    "    global model\n",
    "    \n",
    "    # initialize model\n",
    "    model = Sequential()\n",
    "    model.add(LocallyConnected1D(filters, kernel_size, strides=strides, input_shape=(input_x, input_y), activation='relu'))\n",
    "    \n",
    "#     model.add(Dense(50))    \n",
    "    model.add(Dropout(drop_rate))\n",
    "    model.add(LocallyConnected1D(50, 15, activation='relu'))\n",
    "#     model.add(Dense(10))  \n",
    "#     model.add(Dropout(drop_rate))\n",
    "#     model.add(Dense(10))  \n",
    "#     model.add(Dropout(drop_rate))\n",
    "    model.add(Dense(1)) \n",
    "    model.add(Dropout(drop_rate))\n",
    "    \n",
    "    model.add(Flatten())\n",
    "    model.add(Dense(dense_units))\n",
    "    \n",
    "    # compile model\n",
    "    model.compile(optimizer=optimizer, loss=loss, metrics=['mae', 'acc'])\n",
    "    \n",
    "    # return model summary\n",
    "    return(model, model.summary())"
   ]
  },
  {
   "cell_type": "code",
   "execution_count": 38,
   "metadata": {
    "scrolled": true
   },
   "outputs": [
    {
     "name": "stdout",
     "output_type": "stream",
     "text": [
      "_________________________________________________________________\n",
      "Layer (type)                 Output Shape              Param #   \n",
      "=================================================================\n",
      "locally_connected1d_6 (Local (None, 238, 100)          2403800   \n",
      "_________________________________________________________________\n",
      "dropout_9 (Dropout)          (None, 238, 100)          0         \n",
      "_________________________________________________________________\n",
      "locally_connected1d_7 (Local (None, 224, 50)           16811200  \n",
      "_________________________________________________________________\n",
      "dense_12 (Dense)             (None, 224, 1)            51        \n",
      "_________________________________________________________________\n",
      "dropout_10 (Dropout)         (None, 224, 1)            0         \n",
      "_________________________________________________________________\n",
      "flatten_5 (Flatten)          (None, 224)               0         \n",
      "_________________________________________________________________\n",
      "dense_13 (Dense)             (None, 1)                 225       \n",
      "=================================================================\n",
      "Total params: 19,215,276\n",
      "Trainable params: 19,215,276\n",
      "Non-trainable params: 0\n",
      "_________________________________________________________________\n"
     ]
    },
    {
     "data": {
      "text/plain": [
       "(<keras.engine.sequential.Sequential at 0x192db8c6f98>, None)"
      ]
     },
     "execution_count": 38,
     "metadata": {},
     "output_type": "execute_result"
    }
   ],
   "source": [
    "loc_con_1d_model(100, 20, 1, 257, 5, 0.5, 1, 'adam', 'mean_squared_error')"
   ]
  },
  {
   "cell_type": "code",
   "execution_count": 41,
   "metadata": {},
   "outputs": [],
   "source": [
    "def model_eval(sequence_matrix, expression_levels, epochs, batch_size):\n",
    "    # initialize training and testing values\n",
    "    train_x, test_x, train_y, test_y = tt_split(sequence_matrix, expression_levels)\n",
    "    \n",
    "    # fit model\n",
    "    fit = model.fit(train_x, train_y, epochs=epochs, batch_size=batch_size, validation_data=(test_x, test_y))\n",
    "    \n",
    "    # evaluate model (run tests)\n",
    "    scores = model.evaluate(test_x, test_y)\n",
    "    \n",
    "    # plot results\n",
    "    plt = plot_results(fit.history)\n",
    "    #plt.show()\n",
    "    \n",
    "    # return model accuracy\n",
    "    return(\"Values: \"+ str(model.metrics_names[0]) + ': ' + str(scores[0]) + ' ' + str(model.metrics_names[2]) + ': ' + str(scores[2]*100) + '%')"
   ]
  },
  {
   "cell_type": "code",
   "execution_count": 42,
   "metadata": {},
   "outputs": [
    {
     "name": "stdout",
     "output_type": "stream",
     "text": [
      "Train on 7500 samples, validate on 2500 samples\n",
      "Epoch 1/1\n",
      "7500/7500 [==============================] - 125s 17ms/step - loss: 7.2523 - mean_absolute_error: 2.1092 - acc: 0.1229 - val_loss: 6.0155 - val_mean_absolute_error: 1.9300 - val_acc: 0.1236\n",
      "2500/2500 [==============================] - 4s 2ms/step\n"
     ]
    },
    {
     "data": {
      "text/plain": [
       "'Values: loss: 6.0154744819641115 acc: 12.36%'"
      ]
     },
     "execution_count": 42,
     "metadata": {},
     "output_type": "execute_result"
    },
    {
     "data": {
      "image/png": "[encoded data removed]",
      "text/plain": [
       "<Figure size 864x720 with 2 Axes>"
      ]
     },
     "metadata": {
      "needs_background": "light"
     },
     "output_type": "display_data"
    }
   ],
   "source": [
    "model_eval(seq_mat, ex_levels, 1, 100)"
   ]
  },
  {
   "cell_type": "code",
   "execution_count": null,
   "metadata": {},
   "outputs": [],
   "source": []
  }
 ],
 "metadata": {
  "kernelspec": {
   "display_name": "yeast",
   "language": "python",
   "name": "yeast"
  },
  "language_info": {
   "codemirror_mode": {
    "name": "ipython",
    "version": 3
   },
   "file_extension": ".py",
   "mimetype": "text/x-python",
   "name": "python",
   "nbconvert_exporter": "python",
   "pygments_lexer": "ipython3",
   "version": "3.7.0"
  }
 },
 "nbformat": 4,
 "nbformat_minor": 2
}
