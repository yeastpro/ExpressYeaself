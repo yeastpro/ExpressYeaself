{
 "cells": [
  {
   "cell_type": "code",
   "execution_count": null,
   "metadata": {},
   "outputs": [],
   "source": [
    "import pandas as pd\n",
    "import numpy as np\n",
    "import keras"
   ]
  },
  {
   "cell_type": "code",
   "execution_count": null,
   "metadata": {},
   "outputs": [],
   "source": [
    "#keras.layers.LocallyConnected1D(filters, kernel_size, strides=1, padding='valid', data_format=None, activation=None, use_bias=True, kernel_initializer='glorot_uniform', bias_initializer='zeros', kernel_regularizer=None, bias_regularizer=None, activity_regularizer=None, kernel_constraint=None, bias_constraint=None)"
   ]
  },
  {
   "cell_type": "markdown",
   "metadata": {},
   "source": [
    "Arguments\n",
    "\n",
    "filters: Integer, the dimensionality of the output space (i.e. the number of output filters in the convolution).\n",
    "\n",
    "kernel_size: An integer or tuple/list of a single integer, specifying the length of the 1D convolution window.\n",
    "\n",
    "strides: An integer or tuple/list of a single integer, specifying the stride length of the convolution. Specifying any \n",
    "stride value != 1 is incompatible with specifying any dilation_rate value != 1.\n",
    "\n",
    "padding: Currently only supports \"valid\" (case-insensitive).  \"same\" may be supported in the future.\n",
    "\n",
    "data_format: String, one of channels_first, channels_last.\n",
    "\n",
    "activation: Activation function to use (see activations). If you don't specify anything, no activation is applied (ie. \"linear\" activation: a(x) = x).\n",
    "\n",
    "use_bias: Boolean, whether the layer uses a bias vector.\n",
    "\n",
    "kernel_initializer: Initializer for the kernel weights matrix (see initializers).\n",
    "\n",
    "bias_initializer: Initializer for the bias vector (see initializers).\n",
    "\n",
    "kernel_regularizer: Regularizer function applied to the kernel weights matrix (see regularizer).\n",
    "\n",
    "bias_regularizer: Regularizer function applied to the bias vector (see regularizer).\n",
    "\n",
    "activity_regularizer: Regularizer function applied to the output of the layer (its \"activation\"). (see regularizer).\n",
    "\n",
    "kernel_constraint: Constraint function applied to the kernel matrix (see constraints).\n",
    "\n",
    "bias_constraint: Constraint function applied to the bias vector (see constraints).\n",
    "\n",
    "Input shape: 3D tensor with shape - (batch_size, steps, input_dim)\n",
    "\n",
    "Output shape; 3D tensor with shape - (batch_size, new_steps, filters) steps value might have changed due to padding or strides"
   ]
  },
  {
   "cell_type": "code",
   "execution_count": 2,
   "metadata": {},
   "outputs": [],
   "source": [
    "# # Example:\n",
    "# # apply a unshared weight convolution 1d of length 3 to a sequence with\n",
    "# # 10 timesteps, with 64 output filters\n",
    "# model = Sequential()\n",
    "# model.add(LocallyConnected1D(64, 3, input_shape=(10, 32)))\n",
    "# # now model.output_shape == (None, 8, 64)\n",
    "# # add a new conv1d on top\n",
    "# model.add(LocallyConnected1D(32, 3))\n",
    "# # now model.output_shape == (None, 6, 32)"
   ]
  },
  {
   "cell_type": "code",
   "execution_count": null,
   "metadata": {},
   "outputs": [],
   "source": []
  }
 ],
 "metadata": {
  "kernelspec": {
   "display_name": "Python 3",
   "language": "python",
   "name": "python3"
  },
  "language_info": {
   "codemirror_mode": {
    "name": "ipython",
    "version": 3
   },
   "file_extension": ".py",
   "mimetype": "text/x-python",
   "name": "python",
   "nbconvert_exporter": "python",
   "pygments_lexer": "ipython3",
   "version": "3.7.0"
  }
 },
 "nbformat": 4,
 "nbformat_minor": 2
}
