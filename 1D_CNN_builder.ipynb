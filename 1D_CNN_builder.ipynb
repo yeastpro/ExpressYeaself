{
 "cells": [
  {
   "cell_type": "markdown",
   "metadata": {},
   "source": [
    "# Building the 1D CNN"
   ]
  },
  {
   "cell_type": "markdown",
   "metadata": {},
   "source": [
    "### Import the relevant packages"
   ]
  },
  {
   "cell_type": "code",
   "execution_count": 3,
   "metadata": {},
   "outputs": [],
   "source": [
    "%matplotlib inline\n",
    "import expressyeaself.encode_sequences as encode\n",
    "import expressyeaself.organize_data as organize \n",
    "import itertools\n",
    "import matplotlib.pyplot as plt\n",
    "import numpy as np\n",
    "import os\n",
    "import pandas as pd\n",
    "import seaborn as sns\n",
    "import subprocess\n",
    "import sys\n",
    "from tqdm import tqdm\n",
    "\n",
    "import tensorflow as tf\n",
    "tf.get_variable('test_bool', 1, tf.bool)\n",
    "from tensorflow.python.keras import backend as K\n",
    "from sklearn.model_selection import train_test_split\n",
    "from sklearn.preprocessing import MinMaxScaler\n",
    "from tensorflow.python.keras.preprocessing import sequence\n",
    "from tensorflow.python.keras.models import Sequential\n",
    "from tensorflow.python.keras.layers import Input, Dense, Dropout, Embedding, Conv1D, MaxPooling1D, GlobalAveragePooling1D\n",
    "from tensorflow.python.keras import regularizers\n",
    "from tensorflow.python.keras.utils import to_categorical\n",
    "from tensorflow.python.keras.callbacks import ModelCheckpoint, TensorBoard\n",
    "from sklearn.model_selection import StratifiedKFold\n",
    "\n",
    "ROOT_DIR = os.getcwd() + '/'\n",
    "CHECKPOINTS_DIR = ROOT_DIR + 'expressyeaself/models/1dcnn/checkpoints/'"
   ]
  },
  {
   "cell_type": "markdown",
   "metadata": {},
   "source": [
    "### Define a plotting function"
   ]
  },
  {
   "cell_type": "code",
   "execution_count": 7,
   "metadata": {},
   "outputs": [],
   "source": [
    "def plot_results(hist):\n",
    "    # summarize history for accuracy\n",
    "    plt.subplot(1, 2, 1)\n",
    "    plt.plot(hist['acc'])\n",
    "    plt.plot(hist['val_acc'])\n",
    "    plt.title('model accuracy')\n",
    "    plt.ylabel('accuracy')\n",
    "    plt.xlabel('epoch')\n",
    "    plt.legend(['train', 'test'], loc='upper left')\n",
    "\n",
    "    # summarize history for loss\n",
    "    plt.subplot(1, 2, 2)\n",
    "    plt.plot(hist['loss'])\n",
    "    plt.plot(hist['val_loss'])\n",
    "    plt.title('model loss')\n",
    "    plt.ylabel('loss')\n",
    "    plt.xlabel('epoch')\n",
    "    plt.legend(['train', 'test'], loc='upper left')\n",
    "    plt.tight_layout()\n",
    "    \n",
    "    return plt"
   ]
  },
  {
   "cell_type": "markdown",
   "metadata": {},
   "source": [
    "### Define the input data"
   ]
  },
  {
   "cell_type": "code",
   "execution_count": 4,
   "metadata": {},
   "outputs": [],
   "source": [
    "sample_filename = '10000_samples_from_190523000651814570_deflanked_sequences_inserted_into_Abf1TATA_scaffold_padded_with_exp_levels.txt.gz'\n",
    "sample_path = ROOT_DIR + 'example/processed_data/' + sample_filename\n",
    "\n"
   ]
  },
  {
   "cell_type": "markdown",
   "metadata": {},
   "source": [
    "### Encode sequences"
   ]
  },
  {
   "cell_type": "code",
   "execution_count": 5,
   "metadata": {},
   "outputs": [],
   "source": [
    "X_padded, y_scaled, abs_max_el = encode.encode_sequences_with_method(sample_path, method='One-Hot', scale_els=True, model_type='1DCNN')\n",
    "num_seqs, max_sequence_len = organize.get_num_and_len_of_seqs_from_file(sample_path)\n"
   ]
  },
  {
   "cell_type": "markdown",
   "metadata": {},
   "source": [
    "### Reshape inputs"
   ]
  },
  {
   "cell_type": "code",
   "execution_count": 6,
   "metadata": {},
   "outputs": [],
   "source": [
    "scaler = MinMaxScaler()\n",
    "y_scaled = y_scaled.reshape((len(y_scaled), 1))\n",
    "scaler.fit(y_scaled)\n",
    "y_scaled = scaler.transform(y_scaled)"
   ]
  },
  {
   "cell_type": "markdown",
   "metadata": {},
   "source": [
    "### Perform a train-test split"
   ]
  },
  {
   "cell_type": "code",
   "execution_count": 8,
   "metadata": {},
   "outputs": [],
   "source": [
    "test_size = 0.3"
   ]
  },
  {
   "cell_type": "code",
   "execution_count": 9,
   "metadata": {},
   "outputs": [],
   "source": [
    "X_train, X_test, y_train, y_test = train_test_split(X_padded, y_scaled, test_size=test_size)"
   ]
  },
  {
   "cell_type": "markdown",
   "metadata": {},
   "source": [
    "### Build the model architecture"
   ]
  },
  {
   "cell_type": "code",
   "execution_count": 10,
   "metadata": {},
   "outputs": [],
   "source": [
    "batch_size = 128"
   ]
  },
  {
   "cell_type": "code",
   "execution_count": 11,
   "metadata": {},
   "outputs": [
    {
     "name": "stderr",
     "output_type": "stream",
     "text": [
      "WARNING: Logging before flag parsing goes to stderr.\n",
      "W0607 15:29:43.351120 4472243648 callbacks.py:1466] `write_grads` will be ignored in TensorFlow 2.0 for the `TensorBoard` Callback.\n",
      "W0607 15:29:43.358654 4472243648 callbacks.py:1469] `batch_size` is no longer needed in the `TensorBoard` Callback and will be ignored in TensorFlow 2.0.\n"
     ]
    }
   ],
   "source": [
    "tb = TensorBoard(log_dir='./logs', histogram_freq=3, batch_size=batch_size, write_graph=True, write_grads=True, \n",
    "                 write_images=True)\n",
    "checkpointer = ModelCheckpoint(monitor='val_acc', filepath=(CHECKPOINTS_DIR + '1dcnn_onehot.hdf5'), verbose=1, save_best_only=True)\n",
    "\n"
   ]
  },
  {
   "cell_type": "code",
   "execution_count": 12,
   "metadata": {},
   "outputs": [
    {
     "name": "stdout",
     "output_type": "stream",
     "text": [
      "Model: \"sequential\"\n",
      "_________________________________________________________________\n",
      "Layer (type)                 Output Shape              Param #   \n",
      "=================================================================\n",
      "conv1d (Conv1D)              (None, 255, 32)           512       \n",
      "_________________________________________________________________\n",
      "conv1d_1 (Conv1D)            (None, 253, 32)           3104      \n",
      "_________________________________________________________________\n",
      "max_pooling1d (MaxPooling1D) (None, 84, 32)            0         \n",
      "_________________________________________________________________\n",
      "conv1d_2 (Conv1D)            (None, 80, 128)           20608     \n",
      "_________________________________________________________________\n",
      "conv1d_3 (Conv1D)            (None, 76, 128)           82048     \n",
      "_________________________________________________________________\n",
      "global_average_pooling1d (Gl (None, 128)               0         \n",
      "_________________________________________________________________\n",
      "dropout (Dropout)            (None, 128)               0         \n",
      "_________________________________________________________________\n",
      "dense (Dense)                (None, 1)                 129       \n",
      "=================================================================\n",
      "Total params: 106,401\n",
      "Trainable params: 106,401\n",
      "Non-trainable params: 0\n",
      "_________________________________________________________________\n",
      "None\n",
      "Train on 7000 samples, validate on 3000 samples\n",
      "Epoch 1/10\n",
      "7000/7000 [==============================] - 12s 2ms/sample - loss: 0.0467 - acc: 0.0149 - val_loss: 0.0468 - val_acc: 0.0163\n",
      "Epoch 2/10\n",
      "7000/7000 [==============================] - 10s 1ms/sample - loss: 0.0447 - acc: 0.0163 - val_loss: 0.0395 - val_acc: 0.0187\n",
      "Epoch 3/10\n",
      "7000/7000 [==============================] - 10s 1ms/sample - loss: 0.0400 - acc: 0.0183 - val_loss: 0.0353 - val_acc: 0.0197\n",
      "Epoch 4/10\n",
      "7000/7000 [==============================] - 9s 1ms/sample - loss: 0.0369 - acc: 0.0206 - val_loss: 0.0335 - val_acc: 0.0183\n",
      "Epoch 5/10\n",
      "7000/7000 [==============================] - 10s 1ms/sample - loss: 0.0354 - acc: 0.0207 - val_loss: 0.0327 - val_acc: 0.0183\n",
      "Epoch 6/10\n",
      "7000/7000 [==============================] - 10s 1ms/sample - loss: 0.0343 - acc: 0.0211 - val_loss: 0.0331 - val_acc: 0.0183\n",
      "Epoch 7/10\n",
      "7000/7000 [==============================] - 11s 2ms/sample - loss: 0.0343 - acc: 0.0209 - val_loss: 0.0314 - val_acc: 0.0190\n",
      "Epoch 8/10\n",
      "7000/7000 [==============================] - 10s 1ms/sample - loss: 0.0336 - acc: 0.0220 - val_loss: 0.0311 - val_acc: 0.0190\n",
      "Epoch 9/10\n",
      "7000/7000 [==============================] - 12s 2ms/sample - loss: 0.0326 - acc: 0.0214 - val_loss: 0.0315 - val_acc: 0.0190\n",
      "Epoch 10/10\n",
      "7000/7000 [==============================] - 10s 1ms/sample - loss: 0.0325 - acc: 0.0219 - val_loss: 0.0325 - val_acc: 0.0183\n",
      "acc: 1.97%\n"
     ]
    },
    {
     "data": {
      "image/png": "[encoded data removed]",
      "text/plain": [
       "<Figure size 432x288 with 2 Axes>"
      ]
     },
     "metadata": {
      "needs_background": "light"
     },
     "output_type": "display_data"
    }
   ],
   "source": [
    "model = Sequential()\n",
    "model.add(Conv1D(32, 3, activation='relu', input_shape=(max_sequence_len, 5)))\n",
    "model.add(Conv1D(32, 3, activation='relu'))\n",
    "model.add(MaxPooling1D(3))\n",
    "model.add(Conv1D(128, 5, activation='relu'))\n",
    "model.add(Conv1D(128, 5, activation='relu'))\n",
    "model.add(GlobalAveragePooling1D())\n",
    "model.add(Dropout(0.5))\n",
    "model.add(Dense(1, activation='sigmoid'))\n",
    "\n",
    "model.compile(loss='mse',\n",
    "              optimizer='rmsprop',\n",
    "              metrics=['accuracy'])\n",
    "print(model.summary())\n",
    "# Fit the model\n",
    "history = model.fit(X_train, y_train, batch_size=batch_size, epochs=10,verbose=1,\n",
    "                    validation_data=(X_test, y_test)) #callbacks=[checkpointer]\n",
    "\n",
    "# evaluate the model\n",
    "score = max(history.history['val_acc'])\n",
    "print(\"%s: %.2f%%\" % (model.metrics_names[1], score*100))\n",
    "plt = plot_results(history.history)\n",
    "plt.show()"
   ]
  },
  {
   "cell_type": "code",
   "execution_count": null,
   "metadata": {},
   "outputs": [],
   "source": []
  }
 ],
 "metadata": {
  "kernelspec": {
   "display_name": "yeast",
   "language": "python",
   "name": "yeast"
  },
  "language_info": {
   "codemirror_mode": {
    "name": "ipython",
    "version": 3
   },
   "file_extension": ".py",
   "mimetype": "text/x-python",
   "name": "python",
   "nbconvert_exporter": "python",
   "pygments_lexer": "ipython3",
   "version": "3.7.3"
  }
 },
 "nbformat": 4,
 "nbformat_minor": 2
}
