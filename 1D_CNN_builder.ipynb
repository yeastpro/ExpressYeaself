{
 "cells": [
  {
   "cell_type": "markdown",
   "metadata": {},
   "source": [
    "# Building the 1D CNN"
   ]
  },
  {
   "cell_type": "markdown",
   "metadata": {},
   "source": [
    "### Import the relevant packages"
   ]
  },
  {
   "cell_type": "code",
   "execution_count": 1,
   "metadata": {},
   "outputs": [],
   "source": [
    "%matplotlib inline\n",
    "import expressyeaself.construct_neural_net as construct\n",
    "import expressyeaself.encode_sequences as encode\n",
    "import expressyeaself.organize_data as organize \n",
    "import itertools\n",
    "import matplotlib.pyplot as plt\n",
    "import numpy as np\n",
    "import os\n",
    "import pandas as pd\n",
    "import seaborn as sns\n",
    "import subprocess\n",
    "import sys\n",
    "from tqdm import tqdm\n",
    "\n",
    "import tensorflow as tf\n",
    "tf.get_variable('test_bool', 1, tf.bool)\n",
    "from tensorflow.python.keras import backend as K\n",
    "from sklearn.model_selection import train_test_split\n",
    "from sklearn.preprocessing import MinMaxScaler\n",
    "from tensorflow.python.keras.preprocessing import sequence\n",
    "from tensorflow.python.keras.models import Sequential\n",
    "from tensorflow.python.keras.layers import Input, Dense, Dropout, Embedding, Conv1D, MaxPooling1D, GlobalAveragePooling1D\n",
    "from tensorflow.python.keras import regularizers\n",
    "from tensorflow.python.keras.utils import to_categorical\n",
    "from tensorflow.python.keras.callbacks import ModelCheckpoint, TensorBoard\n",
    "from sklearn.model_selection import StratifiedKFold\n",
    "\n",
    "ROOT_DIR = os.getcwd() + '/'\n",
    "CHECKPOINTS_DIR = ROOT_DIR + 'expressyeaself/models/1dcnn/checkpoints/'"
   ]
  },
  {
   "cell_type": "markdown",
   "metadata": {},
   "source": [
    "### Define the input data"
   ]
  },
  {
   "cell_type": "markdown",
   "metadata": {},
   "source": [
    "#### Using the full data set"
   ]
  },
  {
   "cell_type": "code",
   "execution_count": 29,
   "metadata": {},
   "outputs": [
    {
     "data": {
      "text/plain": [
       "'20190608104912821947_sequences_inserted_into_Abf1TATA_scaffold_padded_at_back_with_exp_levels.txt.gz'"
      ]
     },
     "execution_count": 29,
     "metadata": {},
     "output_type": "execute_result"
    }
   ],
   "source": [
    "sample_filename = ('20190608104912821947_sequences_inserted_into_Abf1TATA_scaffold_'\n",
    "                   'padded_at_back_with_exp_levels.txt.gz')\n",
    "sample_filename"
   ]
  },
  {
   "cell_type": "markdown",
   "metadata": {},
   "source": [
    "#### Using a smaller sample set"
   ]
  },
  {
   "cell_type": "code",
   "execution_count": 25,
   "metadata": {},
   "outputs": [],
   "source": [
    "sample_filename = '10000_from_' + sample_filename "
   ]
  },
  {
   "cell_type": "markdown",
   "metadata": {},
   "source": [
    "#### Define the absolute path"
   ]
  },
  {
   "cell_type": "code",
   "execution_count": 26,
   "metadata": {},
   "outputs": [],
   "source": [
    "sample_path = ROOT_DIR + 'example/processed_data/' + sample_filename"
   ]
  },
  {
   "cell_type": "markdown",
   "metadata": {},
   "source": [
    "### Encode sequences"
   ]
  },
  {
   "cell_type": "code",
   "execution_count": 27,
   "metadata": {},
   "outputs": [],
   "source": [
    "# Seems to give slightly better accuracy when expression level values aren't scaled.\n",
    "scale_els = False"
   ]
  },
  {
   "cell_type": "code",
   "execution_count": 28,
   "metadata": {},
   "outputs": [
    {
     "ename": "AssertionError",
     "evalue": "Input file does not exist.",
     "output_type": "error",
     "traceback": [
      "\u001b[0;31m---------------------------------------------------------------------------\u001b[0m",
      "\u001b[0;31mAssertionError\u001b[0m                            Traceback (most recent call last)",
      "\u001b[0;32m<ipython-input-28-0acf8f7c2ab7>\u001b[0m in \u001b[0;36m<module>\u001b[0;34m\u001b[0m\n\u001b[0;32m----> 1\u001b[0;31m \u001b[0mX_padded\u001b[0m\u001b[0;34m,\u001b[0m \u001b[0my_scaled\u001b[0m\u001b[0;34m,\u001b[0m \u001b[0mabs_max_el\u001b[0m \u001b[0;34m=\u001b[0m \u001b[0mencode\u001b[0m\u001b[0;34m.\u001b[0m\u001b[0mencode_sequences_with_method\u001b[0m\u001b[0;34m(\u001b[0m\u001b[0msample_path\u001b[0m\u001b[0;34m,\u001b[0m \u001b[0mmethod\u001b[0m\u001b[0;34m=\u001b[0m\u001b[0;34m'One-Hot'\u001b[0m\u001b[0;34m,\u001b[0m \u001b[0mscale_els\u001b[0m\u001b[0;34m=\u001b[0m\u001b[0mscale_els\u001b[0m\u001b[0;34m,\u001b[0m \u001b[0mmodel_type\u001b[0m\u001b[0;34m=\u001b[0m\u001b[0;34m'1DCNN'\u001b[0m\u001b[0;34m)\u001b[0m\u001b[0;34m\u001b[0m\u001b[0;34m\u001b[0m\u001b[0m\n\u001b[0m\u001b[1;32m      2\u001b[0m \u001b[0mnum_seqs\u001b[0m\u001b[0;34m,\u001b[0m \u001b[0mmax_sequence_len\u001b[0m \u001b[0;34m=\u001b[0m \u001b[0morganize\u001b[0m\u001b[0;34m.\u001b[0m\u001b[0mget_num_and_len_of_seqs_from_file\u001b[0m\u001b[0;34m(\u001b[0m\u001b[0msample_path\u001b[0m\u001b[0;34m)\u001b[0m\u001b[0;34m\u001b[0m\u001b[0;34m\u001b[0m\u001b[0m\n",
      "\u001b[0;32m~/Documents/dataScience/capstone/ExpressYeaself/expressyeaself/encode_sequences.py\u001b[0m in \u001b[0;36mencode_sequences_with_method\u001b[0;34m(input_seqs, method, scale_els, model_type)\u001b[0m\n\u001b[1;32m     95\u001b[0m     \u001b[0;31m# Functionality\u001b[0m\u001b[0;34m\u001b[0m\u001b[0;34m\u001b[0m\u001b[0;34m\u001b[0m\u001b[0m\n\u001b[1;32m     96\u001b[0m     \u001b[0;31m# Open input file\u001b[0m\u001b[0;34m\u001b[0m\u001b[0;34m\u001b[0m\u001b[0;34m\u001b[0m\u001b[0m\n\u001b[0;32m---> 97\u001b[0;31m     \u001b[0minfile\u001b[0m \u001b[0;34m=\u001b[0m \u001b[0msmart_open\u001b[0m\u001b[0;34m(\u001b[0m\u001b[0minput_seqs\u001b[0m\u001b[0;34m,\u001b[0m \u001b[0;34m'r'\u001b[0m\u001b[0;34m)\u001b[0m\u001b[0;34m\u001b[0m\u001b[0;34m\u001b[0m\u001b[0m\n\u001b[0m\u001b[1;32m     98\u001b[0m     \u001b[0;31m# Initialize output lists, preallocating dimensions for speed.\u001b[0m\u001b[0;34m\u001b[0m\u001b[0;34m\u001b[0m\u001b[0;34m\u001b[0m\u001b[0m\n\u001b[1;32m     99\u001b[0m     \u001b[0mnum_seqs\u001b[0m\u001b[0;34m,\u001b[0m \u001b[0mlen_seq\u001b[0m \u001b[0;34m=\u001b[0m \u001b[0morganize\u001b[0m\u001b[0;34m.\u001b[0m\u001b[0mget_num_and_len_of_seqs_from_file\u001b[0m\u001b[0;34m(\u001b[0m\u001b[0minput_seqs\u001b[0m\u001b[0;34m)\u001b[0m\u001b[0;34m\u001b[0m\u001b[0;34m\u001b[0m\u001b[0m\n",
      "\u001b[0;32m~/Documents/dataScience/capstone/ExpressYeaself/expressyeaself/utilities.py\u001b[0m in \u001b[0;36msmart_open\u001b[0;34m(filename, mode)\u001b[0m\n\u001b[1;32m     36\u001b[0m     \u001b[0;32massert\u001b[0m \u001b[0misinstance\u001b[0m\u001b[0;34m(\u001b[0m\u001b[0mmode\u001b[0m\u001b[0;34m,\u001b[0m \u001b[0mstr\u001b[0m\u001b[0;34m)\u001b[0m\u001b[0;34m,\u001b[0m \u001b[0;34m'Opening mode must be passed as a string.'\u001b[0m\u001b[0;34m\u001b[0m\u001b[0;34m\u001b[0m\u001b[0m\n\u001b[1;32m     37\u001b[0m     \u001b[0;32mif\u001b[0m \u001b[0mmode\u001b[0m\u001b[0;34m.\u001b[0m\u001b[0mstartswith\u001b[0m\u001b[0;34m(\u001b[0m\u001b[0;34m'r'\u001b[0m\u001b[0;34m)\u001b[0m\u001b[0;34m:\u001b[0m\u001b[0;34m\u001b[0m\u001b[0;34m\u001b[0m\u001b[0m\n\u001b[0;32m---> 38\u001b[0;31m         \u001b[0;32massert\u001b[0m \u001b[0mos\u001b[0m\u001b[0;34m.\u001b[0m\u001b[0mpath\u001b[0m\u001b[0;34m.\u001b[0m\u001b[0mexists\u001b[0m\u001b[0;34m(\u001b[0m\u001b[0mfilename\u001b[0m\u001b[0;34m)\u001b[0m\u001b[0;34m,\u001b[0m \u001b[0;34m'Input file does not exist.'\u001b[0m\u001b[0;34m\u001b[0m\u001b[0;34m\u001b[0m\u001b[0m\n\u001b[0m\u001b[1;32m     39\u001b[0m     \u001b[0;31m# Functionality\u001b[0m\u001b[0;34m\u001b[0m\u001b[0;34m\u001b[0m\u001b[0;34m\u001b[0m\u001b[0m\n\u001b[1;32m     40\u001b[0m     \u001b[0;32mif\u001b[0m \u001b[0mlen\u001b[0m\u001b[0;34m(\u001b[0m\u001b[0mfilename\u001b[0m\u001b[0;34m)\u001b[0m \u001b[0;34m>\u001b[0m \u001b[0;36m3\u001b[0m \u001b[0;32mand\u001b[0m \u001b[0mfilename\u001b[0m\u001b[0;34m.\u001b[0m\u001b[0mendswith\u001b[0m\u001b[0;34m(\u001b[0m\u001b[0;34m'.gz'\u001b[0m\u001b[0;34m)\u001b[0m\u001b[0;34m:\u001b[0m\u001b[0;34m\u001b[0m\u001b[0;34m\u001b[0m\u001b[0m\n",
      "\u001b[0;31mAssertionError\u001b[0m: Input file does not exist."
     ]
    }
   ],
   "source": [
    "X_padded, y_scaled, abs_max_el = encode.encode_sequences_with_method(sample_path, method='One-Hot', scale_els=scale_els, model_type='1DCNN')\n",
    "num_seqs, max_sequence_len = organize.get_num_and_len_of_seqs_from_file(sample_path)\n"
   ]
  },
  {
   "cell_type": "markdown",
   "metadata": {},
   "source": [
    "### Reshape expression levels"
   ]
  },
  {
   "cell_type": "code",
   "execution_count": 4,
   "metadata": {},
   "outputs": [],
   "source": [
    "y_scaled = y_scaled.reshape((len(y_scaled), 1))\n",
    "# scaler = MinMaxScaler()\n",
    "# scaler.fit(y_scaled)\n",
    "# y_scaled = scaler.transform(y_scaled)"
   ]
  },
  {
   "cell_type": "markdown",
   "metadata": {},
   "source": [
    "### Perform a train-test split"
   ]
  },
  {
   "cell_type": "code",
   "execution_count": 5,
   "metadata": {},
   "outputs": [],
   "source": [
    "test_size = 0.25"
   ]
  },
  {
   "cell_type": "code",
   "execution_count": 6,
   "metadata": {},
   "outputs": [],
   "source": [
    "X_train, X_test, y_train, y_test = train_test_split(X_padded, y_scaled, test_size=test_size)"
   ]
  },
  {
   "cell_type": "markdown",
   "metadata": {},
   "source": [
    "### Build the model architecture"
   ]
  },
  {
   "cell_type": "code",
   "execution_count": 17,
   "metadata": {},
   "outputs": [],
   "source": [
    "scores = []\n",
    "batch_size = 250"
   ]
  },
  {
   "cell_type": "code",
   "execution_count": 18,
   "metadata": {},
   "outputs": [
    {
     "name": "stderr",
     "output_type": "stream",
     "text": [
      "W0609 23:01:45.300096 4590572992 callbacks.py:1466] `write_grads` will be ignored in TensorFlow 2.0 for the `TensorBoard` Callback.\n",
      "W0609 23:01:45.301973 4590572992 callbacks.py:1469] `batch_size` is no longer needed in the `TensorBoard` Callback and will be ignored in TensorFlow 2.0.\n"
     ]
    }
   ],
   "source": [
    "tb = TensorBoard(log_dir='./logs', histogram_freq=3, batch_size=batch_size, write_graph=True, write_grads=True, \n",
    "                 write_images=True)\n",
    "checkpointer = ModelCheckpoint(monitor='val_acc', filepath=(CHECKPOINTS_DIR + '1dcnn_onehot.hdf5'), verbose=1, save_best_only=True)\n",
    "\n"
   ]
  },
  {
   "cell_type": "code",
   "execution_count": 19,
   "metadata": {
    "scrolled": false
   },
   "outputs": [
    {
     "name": "stdout",
     "output_type": "stream",
     "text": [
      "Model: \"sequential_3\"\n",
      "_________________________________________________________________\n",
      "Layer (type)                 Output Shape              Param #   \n",
      "=================================================================\n",
      "conv1d_12 (Conv1D)           (None, 288, 32)           832       \n",
      "_________________________________________________________________\n",
      "conv1d_13 (Conv1D)           (None, 284, 32)           5152      \n",
      "_________________________________________________________________\n",
      "max_pooling1d_3 (MaxPooling1 (None, 141, 32)           0         \n",
      "_________________________________________________________________\n",
      "conv1d_14 (Conv1D)           (None, 137, 32)           5152      \n",
      "_________________________________________________________________\n",
      "conv1d_15 (Conv1D)           (None, 133, 32)           5152      \n",
      "_________________________________________________________________\n",
      "global_average_pooling1d_3 ( (None, 32)                0         \n",
      "_________________________________________________________________\n",
      "dropout_3 (Dropout)          (None, 32)                0         \n",
      "_________________________________________________________________\n",
      "dense_3 (Dense)              (None, 1)                 33        \n",
      "=================================================================\n",
      "Total params: 16,321\n",
      "Trainable params: 16,321\n",
      "Non-trainable params: 0\n",
      "_________________________________________________________________\n",
      "None\n"
     ]
    }
   ],
   "source": [
    "filters = 32\n",
    "kernel_size = 5\n",
    "strides = 2\n",
    "epochs = 20\n",
    "dropout = 0.5\n",
    "\n",
    "model = Sequential()\n",
    "model.add(Conv1D(filters, kernel_size, activation='relu', input_shape=(max_sequence_len, 5)))\n",
    "model.add(Conv1D(filters, kernel_size, activation='relu'))\n",
    "model.add(MaxPooling1D(3, strides))\n",
    "model.add(Conv1D(filters, kernel_size, activation='relu'))\n",
    "model.add(Conv1D(filters, kernel_size, activation='relu'))\n",
    "model.add(GlobalAveragePooling1D())\n",
    "model.add(Dropout(dropout))\n",
    "model.add(Dense(1, activation='sigmoid'))\n",
    "\n",
    "model.compile(loss='mse', optimizer='rmsprop', metrics=['accuracy'])\n",
    "print(model.summary())"
   ]
  },
  {
   "cell_type": "code",
   "execution_count": 20,
   "metadata": {},
   "outputs": [
    {
     "name": "stdout",
     "output_type": "stream",
     "text": [
      "Train on 75000 samples, validate on 25000 samples\n",
      "Epoch 1/20\n",
      "75000/75000 [==============================] - 64s 847us/sample - loss: 55.8562 - acc: 0.0172 - val_loss: 55.6318 - val_acc: 0.0192\n",
      "Epoch 2/20\n",
      "75000/75000 [==============================] - 76s 1ms/sample - loss: 55.7685 - acc: 0.0173 - val_loss: 55.6318 - val_acc: 0.0192\n",
      "Epoch 3/20\n",
      "75000/75000 [==============================] - 66s 883us/sample - loss: 55.7674 - acc: 0.0173 - val_loss: 55.6318 - val_acc: 0.0192\n",
      "Epoch 4/20\n",
      "75000/75000 [==============================] - 70s 931us/sample - loss: 55.7668 - acc: 0.0173 - val_loss: 55.6318 - val_acc: 0.0192\n",
      "Epoch 5/20\n",
      "75000/75000 [==============================] - 70s 933us/sample - loss: 55.7658 - acc: 0.0173 - val_loss: 55.6318 - val_acc: 0.0192\n",
      "Epoch 6/20\n",
      "75000/75000 [==============================] - 70s 931us/sample - loss: 55.7662 - acc: 0.0173 - val_loss: 55.6318 - val_acc: 0.0192\n",
      "Epoch 7/20\n",
      "75000/75000 [==============================] - 67s 889us/sample - loss: 55.7658 - acc: 0.0173 - val_loss: 55.6318 - val_acc: 0.0192\n",
      "Epoch 8/20\n",
      "75000/75000 [==============================] - 71s 946us/sample - loss: 55.7664 - acc: 0.0173 - val_loss: 55.6318 - val_acc: 0.0192\n",
      "Epoch 9/20\n",
      "75000/75000 [==============================] - 75s 1ms/sample - loss: 55.7663 - acc: 0.0173 - val_loss: 55.6318 - val_acc: 0.0192\n",
      "Epoch 10/20\n",
      "75000/75000 [==============================] - 70s 932us/sample - loss: 55.7648 - acc: 0.0173 - val_loss: 55.6318 - val_acc: 0.0192\n",
      "Epoch 11/20\n",
      "75000/75000 [==============================] - 73s 976us/sample - loss: 55.7658 - acc: 0.0173 - val_loss: 55.6318 - val_acc: 0.0192\n",
      "Epoch 12/20\n",
      "75000/75000 [==============================] - 64s 859us/sample - loss: 55.7652 - acc: 0.0173 - val_loss: 55.6318 - val_acc: 0.0192\n",
      "Epoch 13/20\n",
      "75000/75000 [==============================] - 61s 809us/sample - loss: 55.7648 - acc: 0.0173 - val_loss: 55.6318 - val_acc: 0.0192\n",
      "Epoch 14/20\n",
      "75000/75000 [==============================] - 56s 747us/sample - loss: 55.7640 - acc: 0.0173 - val_loss: 55.6318 - val_acc: 0.0192\n",
      "Epoch 15/20\n",
      "75000/75000 [==============================] - 63s 838us/sample - loss: 55.7643 - acc: 0.0173 - val_loss: 55.6318 - val_acc: 0.0192\n",
      "Epoch 16/20\n",
      "75000/75000 [==============================] - 66s 884us/sample - loss: 55.7641 - acc: 0.0173 - val_loss: 55.6318 - val_acc: 0.0192\n",
      "Epoch 17/20\n",
      "75000/75000 [==============================] - 65s 861us/sample - loss: 55.7637 - acc: 0.0173 - val_loss: 55.6318 - val_acc: 0.0192\n",
      "Epoch 18/20\n",
      "75000/75000 [==============================] - 54s 726us/sample - loss: 55.7638 - acc: 0.0173 - val_loss: 55.6318 - val_acc: 0.0192\n",
      "Epoch 19/20\n",
      "75000/75000 [==============================] - 66s 874us/sample - loss: 55.7638 - acc: 0.0173 - val_loss: 55.6318 - val_acc: 0.0192\n",
      "Epoch 20/20\n",
      "75000/75000 [==============================] - 56s 742us/sample - loss: 55.7635 - acc: 0.0173 - val_loss: 55.6318 - val_acc: 0.0192\n",
      "acc: 1.92%\n"
     ]
    },
    {
     "data": {
      "image/png": "[encoded data removed]",
      "text/plain": [
       "<Figure size 432x288 with 2 Axes>"
      ]
     },
     "metadata": {
      "needs_background": "light"
     },
     "output_type": "display_data"
    }
   ],
   "source": [
    "# Fit the model\n",
    "history = model.fit(X_train, y_train, batch_size=batch_size, epochs=epochs,verbose=1,\n",
    "                    validation_data=(X_test, y_test))#, callbacks=[checkpointer])\n",
    "\n",
    "# evaluate the model\n",
    "score = max(history.history['val_acc'])\n",
    "scores.append(score)\n",
    "print(\"%s: %.2f%%\" % (model.metrics_names[1], score*100))\n",
    "plt = construct.plot_results(history.history)\n",
    "plt.show()"
   ]
  },
  {
   "cell_type": "code",
   "execution_count": null,
   "metadata": {},
   "outputs": [],
   "source": [
    "scores"
   ]
  },
  {
   "cell_type": "code",
   "execution_count": null,
   "metadata": {},
   "outputs": [],
   "source": []
  }
 ],
 "metadata": {
  "kernelspec": {
   "display_name": "yeast",
   "language": "python",
   "name": "yeast"
  },
  "language_info": {
   "codemirror_mode": {
    "name": "ipython",
    "version": 3
   },
   "file_extension": ".py",
   "mimetype": "text/x-python",
   "name": "python",
   "nbconvert_exporter": "python",
   "pygments_lexer": "ipython3",
   "version": "3.7.3"
  }
 },
 "nbformat": 4,
 "nbformat_minor": 2
}
